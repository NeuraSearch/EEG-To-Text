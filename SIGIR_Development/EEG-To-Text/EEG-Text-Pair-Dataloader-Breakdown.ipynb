{
 "cells": [
  {
   "cell_type": "code",
   "execution_count": 3,
   "metadata": {
    "collapsed": true,
    "ExecuteTime": {
     "start_time": "2023-12-07T16:30:04.408983Z",
     "end_time": "2023-12-07T16:30:04.421616Z"
    }
   },
   "outputs": [],
   "source": [
    "import pickle\n",
    "import numpy as np\n",
    "from config import get_config"
   ]
  },
  {
   "cell_type": "code",
   "execution_count": 4,
   "outputs": [],
   "source": [
    "from transformers import BertLMHeadModel, BartTokenizer\n",
    "from data import ZuCo_dataset"
   ],
   "metadata": {
    "collapsed": false,
    "ExecuteTime": {
     "start_time": "2023-12-07T16:30:04.751966Z",
     "end_time": "2023-12-07T16:30:04.919950Z"
    }
   }
  },
  {
   "cell_type": "code",
   "execution_count": 5,
   "outputs": [],
   "source": [
    "task_name = \"task1, task2, taskNRv2\""
   ],
   "metadata": {
    "collapsed": false,
    "ExecuteTime": {
     "start_time": "2023-12-07T16:30:05.715183Z",
     "end_time": "2023-12-07T16:30:05.769054Z"
    }
   }
  },
  {
   "cell_type": "code",
   "execution_count": 7,
   "outputs": [],
   "source": [
    "''' set up dataloader '''\n",
    "\n",
    "whole_dataset_dicts = []\n",
    "\n",
    "if 'task1' in task_name:\n",
    "    dataset_path_task1 = r'I:\\Science\\CIS-YASHMOSH\\niallmcguire\\ZuCo\\task1-SR\\pickle\\task1-SR-dataset.pickle'\n",
    "    with open(dataset_path_task1, 'rb') as handle:\n",
    "        whole_dataset_dicts.append(pickle.load(handle))\n",
    "\n",
    "if 'task2' in task_name:\n",
    "    dataset_path_task2 = r'I:\\Science\\CIS-YASHMOSH\\niallmcguire\\ZuCo\\task2-NR\\pickle\\task2-NR-dataset.pickle'\n",
    "    with open(dataset_path_task2, 'rb') as handle:\n",
    "        whole_dataset_dicts.append(pickle.load(handle))\n",
    "\n",
    "if 'task3' in task_name:\n",
    "    dataset_path_task3 = r'I:\\Science\\CIS-YASHMOSH\\niallmcguire\\ZuCo\\task3-TSR\\pickle\\task3-TSR-dataset.pickle'\n",
    "    with open(dataset_path_task3, 'rb') as handle:\n",
    "        whole_dataset_dicts.append(pickle.load(handle))\n",
    "\n",
    "if 'taskNRv2' in task_name:\n",
    "    dataset_path_taskNRv2 = r'I:\\Science\\CIS-YASHMOSH\\niallmcguire\\ZuCo\\task2-NR-2.0\\pickle\\task2-NR-2.0-dataset.pickle'\n",
    "    with open(dataset_path_taskNRv2, 'rb') as handle:\n",
    "        whole_dataset_dicts.append(pickle.load(handle))\n"
   ],
   "metadata": {
    "collapsed": false,
    "ExecuteTime": {
     "start_time": "2023-12-07T16:30:20.187920Z",
     "end_time": "2023-12-07T16:35:45.002170Z"
    }
   }
  },
  {
   "cell_type": "code",
   "execution_count": 8,
   "outputs": [
    {
     "data": {
      "text/plain": "3"
     },
     "execution_count": 8,
     "metadata": {},
     "output_type": "execute_result"
    }
   ],
   "source": [
    "len(whole_dataset_dicts)"
   ],
   "metadata": {
    "collapsed": false,
    "ExecuteTime": {
     "start_time": "2023-12-07T16:52:39.792357Z",
     "end_time": "2023-12-07T16:52:39.841022Z"
    }
   }
  },
  {
   "cell_type": "code",
   "execution_count": 9,
   "outputs": [],
   "source": [
    "tokenizer = BartTokenizer.from_pretrained('facebook/bart-large')"
   ],
   "metadata": {
    "collapsed": false,
    "ExecuteTime": {
     "start_time": "2023-12-07T16:52:41.588341Z",
     "end_time": "2023-12-07T16:52:42.120251Z"
    }
   }
  },
  {
   "cell_type": "code",
   "execution_count": 10,
   "outputs": [],
   "source": [
    "subject_choice = 'ALL'\n",
    "eeg_type_choice = 'GD'\n",
    "bands_choice = ['_t1','_t2','_a1','_a2','_b1','_b2','_g1','_g2']\n",
    "dataset_setting = 'unique_sent'"
   ],
   "metadata": {
    "collapsed": false,
    "ExecuteTime": {
     "start_time": "2023-12-07T16:52:42.112649Z",
     "end_time": "2023-12-07T16:52:42.133950Z"
    }
   }
  },
  {
   "cell_type": "code",
   "execution_count": 11,
   "outputs": [
    {
     "name": "stdout",
     "output_type": "stream",
     "text": [
      "[INFO]loading 3 task datasets\n",
      "[INFO]using subjects:  ['ZAB', 'ZDM', 'ZDN', 'ZGW', 'ZJM', 'ZJN', 'ZJS', 'ZKB', 'ZKH', 'ZMG', 'ZPH']\n",
      "train divider = 320\n",
      "dev divider = 360\n",
      "[INFO]initializing a train set...\n",
      "discard length zero instance:  Weiss and Speck never make a convincing case for the relevance of these two 20th-century footnotes.\n",
      "discard length zero instance:  Reassuring, retro uplifter.\n",
      "discard length zero instance:  Flaccid drama and exasperatingly slow journey.\n",
      "++ adding task to dataset, now we have: 3290\n",
      "[INFO]using subjects:  ['ZAB', 'ZDM', 'ZDN', 'ZGW', 'ZJM', 'ZJN', 'ZJS', 'ZKB', 'ZKH', 'ZKW', 'ZMG', 'ZPH']\n",
      "train divider = 240\n",
      "dev divider = 270\n",
      "[INFO]initializing a train set...\n",
      "discard length zero instance:  He was a member of the famous Huxley family who produced a number of brilliant scientific minds.\n",
      "discard length zero instance:  His brother Julian Huxley was a biologist also noted for his evolutionary theories.\n",
      "discard length zero instance:  Senator from Connecticut and a Wall Street executive banker with Brown Brothers Harriman.\n",
      "discard length zero instance:  The same year, he renounced his Wuerttemberg citizenship and became stateless.\n",
      "discard length zero instance:  On May 14, 1904, the couple's first son, Hans Albert Einstein, was born.\n",
      "discard length zero instance:  Miguel played the drums on Keith Moon's Two Sides of the Moon.\n",
      "discard length zero instance:  Miguel played the role of Dr. Garret Macy in NBC's drama Crossing Jordan.\n",
      "discard length zero instance:  Senator James Lloyd resigned, and Hindman was named to finish his term.\n",
      "discard length zero instance:  He served in the United States Senate from December of 1800 until November of 1801.\n",
      "discard length zero instance:  Albert's sister Maja was to later marry their son Paul, and his friend Michele Besso married their other daughter Anna.\n",
      "discard length zero instance:  The same year, he renounced his Wuerttemberg citizenship and became stateless.\n",
      "++ adding task to dataset, now we have: 5935\n",
      "[INFO]using subjects:  ['YAC', 'YAG', 'YAK', 'YDG', 'YDR', 'YFR', 'YFS', 'YHS', 'YIS', 'YLS', 'YMD', 'YMS', 'YRH', 'YRK', 'YRP', 'YSD', 'YSL', 'YTL']\n",
      "train divider = 279\n",
      "dev divider = 313\n",
      "[INFO]initializing a train set...\n",
      "expect word eeg embedding dim to be 840, but got 0, return None\n",
      "expect word eeg embedding dim to be 840, but got 0, return None\n",
      "expect word eeg embedding dim to be 840, but got 0, return None\n",
      "expect word eeg embedding dim to be 840, but got 0, return None\n",
      "expect word eeg embedding dim to be 840, but got 0, return None\n",
      "expect word eeg embedding dim to be 840, but got 0, return None\n",
      "expect word eeg embedding dim to be 840, but got 0, return None\n",
      "expect word eeg embedding dim to be 840, but got 0, return None\n",
      "expect word eeg embedding dim to be 840, but got 0, return None\n",
      "expect word eeg embedding dim to be 840, but got 0, return None\n",
      "expect word eeg embedding dim to be 840, but got 0, return None\n",
      "expect word eeg embedding dim to be 840, but got 0, return None\n",
      "expect word eeg embedding dim to be 840, but got 0, return None\n",
      "expect word eeg embedding dim to be 840, but got 0, return None\n",
      "expect word eeg embedding dim to be 840, but got 0, return None\n",
      "expect word eeg embedding dim to be 840, but got 0, return None\n",
      "expect word eeg embedding dim to be 840, but got 0, return None\n",
      "expect word eeg embedding dim to be 840, but got 0, return None\n",
      "expect word eeg embedding dim to be 840, but got 0, return None\n",
      "expect word eeg embedding dim to be 840, but got 0, return None\n",
      "expect word eeg embedding dim to be 840, but got 0, return None\n",
      "expect word eeg embedding dim to be 840, but got 0, return None\n",
      "expect word eeg embedding dim to be 840, but got 0, return None\n",
      "expect word eeg embedding dim to be 840, but got 0, return None\n",
      "expect word eeg embedding dim to be 840, but got 0, return None\n",
      "expect word eeg embedding dim to be 840, but got 0, return None\n",
      "expect word eeg embedding dim to be 840, but got 0, return None\n",
      "expect word eeg embedding dim to be 840, but got 0, return None\n",
      "expect word eeg embedding dim to be 840, but got 0, return None\n",
      "expect word eeg embedding dim to be 840, but got 0, return None\n",
      "expect word eeg embedding dim to be 840, but got 0, return None\n",
      "expect word eeg embedding dim to be 840, but got 0, return None\n",
      "expect word eeg embedding dim to be 840, but got 0, return None\n",
      "expect word eeg embedding dim to be 840, but got 0, return None\n",
      "expect word eeg embedding dim to be 840, but got 0, return None\n",
      "expect word eeg embedding dim to be 840, but got 0, return None\n",
      "expect word eeg embedding dim to be 840, but got 0, return None\n",
      "expect word eeg embedding dim to be 840, but got 0, return None\n",
      "expect word eeg embedding dim to be 840, but got 0, return None\n",
      "expect word eeg embedding dim to be 840, but got 0, return None\n",
      "expect word eeg embedding dim to be 840, but got 0, return None\n",
      "expect word eeg embedding dim to be 840, but got 0, return None\n",
      "expect word eeg embedding dim to be 840, but got 0, return None\n",
      "expect word eeg embedding dim to be 840, but got 0, return None\n",
      "expect word eeg embedding dim to be 840, but got 0, return None\n",
      "expect word eeg embedding dim to be 840, but got 0, return None\n",
      "expect word eeg embedding dim to be 840, but got 0, return None\n",
      "expect word eeg embedding dim to be 840, but got 0, return None\n",
      "expect word eeg embedding dim to be 840, but got 0, return None\n",
      "expect word eeg embedding dim to be 840, but got 0, return None\n",
      "expect word eeg embedding dim to be 840, but got 0, return None\n",
      "expect word eeg embedding dim to be 840, but got 0, return None\n",
      "expect word eeg embedding dim to be 840, but got 0, return None\n",
      "expect word eeg embedding dim to be 840, but got 0, return None\n",
      "expect word eeg embedding dim to be 840, but got 0, return None\n",
      "expect word eeg embedding dim to be 840, but got 0, return None\n",
      "expect word eeg embedding dim to be 840, but got 0, return None\n",
      "expect word eeg embedding dim to be 840, but got 0, return None\n",
      "expect word eeg embedding dim to be 840, but got 0, return None\n",
      "expect word eeg embedding dim to be 840, but got 0, return None\n",
      "expect word eeg embedding dim to be 840, but got 0, return None\n",
      "expect word eeg embedding dim to be 840, but got 0, return None\n",
      "expect word eeg embedding dim to be 840, but got 0, return None\n",
      "expect word eeg embedding dim to be 840, but got 0, return None\n",
      "expect word eeg embedding dim to be 840, but got 0, return None\n",
      "expect word eeg embedding dim to be 840, but got 0, return None\n",
      "expect word eeg embedding dim to be 840, but got 0, return None\n",
      "expect word eeg embedding dim to be 840, but got 0, return None\n",
      "expect word eeg embedding dim to be 840, but got 0, return None\n",
      "expect word eeg embedding dim to be 840, but got 0, return None\n",
      "expect word eeg embedding dim to be 840, but got 0, return None\n",
      "expect word eeg embedding dim to be 840, but got 0, return None\n",
      "expect word eeg embedding dim to be 840, but got 0, return None\n",
      "expect word eeg embedding dim to be 840, but got 0, return None\n",
      "expect word eeg embedding dim to be 840, but got 0, return None\n",
      "expect word eeg embedding dim to be 840, but got 0, return None\n",
      "expect word eeg embedding dim to be 840, but got 0, return None\n",
      "expect word eeg embedding dim to be 840, but got 0, return None\n",
      "expect word eeg embedding dim to be 840, but got 0, return None\n",
      "expect word eeg embedding dim to be 840, but got 0, return None\n",
      "expect word eeg embedding dim to be 840, but got 0, return None\n",
      "expect word eeg embedding dim to be 840, but got 0, return None\n",
      "expect word eeg embedding dim to be 840, but got 0, return None\n",
      "expect word eeg embedding dim to be 840, but got 0, return None\n",
      "expect word eeg embedding dim to be 840, but got 0, return None\n",
      "expect word eeg embedding dim to be 840, but got 0, return None\n",
      "expect word eeg embedding dim to be 840, but got 0, return None\n",
      "expect word eeg embedding dim to be 840, but got 0, return None\n",
      "expect word eeg embedding dim to be 840, but got 0, return None\n",
      "expect word eeg embedding dim to be 840, but got 0, return None\n",
      "expect word eeg embedding dim to be 840, but got 0, return None\n",
      "expect word eeg embedding dim to be 840, but got 0, return None\n",
      "expect word eeg embedding dim to be 840, but got 0, return None\n",
      "expect word eeg embedding dim to be 840, but got 0, return None\n",
      "expect word eeg embedding dim to be 840, but got 0, return None\n",
      "expect word eeg embedding dim to be 840, but got 0, return None\n",
      "expect word eeg embedding dim to be 840, but got 0, return None\n",
      "expect word eeg embedding dim to be 840, but got 0, return None\n",
      "expect word eeg embedding dim to be 840, but got 0, return None\n",
      "expect word eeg embedding dim to be 840, but got 0, return None\n",
      "expect word eeg embedding dim to be 840, but got 0, return None\n",
      "expect word eeg embedding dim to be 840, but got 0, return None\n",
      "expect word eeg embedding dim to be 840, but got 0, return None\n",
      "expect word eeg embedding dim to be 840, but got 0, return None\n",
      "expect word eeg embedding dim to be 840, but got 0, return None\n",
      "expect word eeg embedding dim to be 840, but got 0, return None\n",
      "expect word eeg embedding dim to be 840, but got 0, return None\n",
      "expect word eeg embedding dim to be 840, but got 0, return None\n",
      "expect word eeg embedding dim to be 840, but got 0, return None\n",
      "expect word eeg embedding dim to be 840, but got 0, return None\n",
      "expect word eeg embedding dim to be 840, but got 0, return None\n",
      "expect word eeg embedding dim to be 840, but got 0, return None\n",
      "expect word eeg embedding dim to be 840, but got 0, return None\n",
      "expect word eeg embedding dim to be 840, but got 0, return None\n",
      "expect word eeg embedding dim to be 840, but got 0, return None\n",
      "expect word eeg embedding dim to be 840, but got 0, return None\n",
      "expect word eeg embedding dim to be 840, but got 0, return None\n",
      "expect word eeg embedding dim to be 840, but got 0, return None\n",
      "expect word eeg embedding dim to be 840, but got 0, return None\n",
      "expect word eeg embedding dim to be 840, but got 0, return None\n",
      "expect word eeg embedding dim to be 840, but got 0, return None\n",
      "expect word eeg embedding dim to be 840, but got 0, return None\n",
      "expect word eeg embedding dim to be 840, but got 0, return None\n",
      "expect word eeg embedding dim to be 840, but got 0, return None\n",
      "expect word eeg embedding dim to be 840, but got 0, return None\n",
      "expect word eeg embedding dim to be 840, but got 0, return None\n",
      "expect word eeg embedding dim to be 840, but got 0, return None\n",
      "expect word eeg embedding dim to be 840, but got 0, return None\n",
      "expect word eeg embedding dim to be 840, but got 0, return None\n",
      "expect word eeg embedding dim to be 840, but got 0, return None\n",
      "expect word eeg embedding dim to be 840, but got 0, return None\n",
      "expect word eeg embedding dim to be 840, but got 0, return None\n",
      "expect word eeg embedding dim to be 840, but got 0, return None\n",
      "expect word eeg embedding dim to be 840, but got 0, return None\n",
      "expect word eeg embedding dim to be 840, but got 0, return None\n",
      "expect word eeg embedding dim to be 840, but got 0, return None\n",
      "expect word eeg embedding dim to be 840, but got 0, return None\n",
      "expect word eeg embedding dim to be 840, but got 0, return None\n",
      "expect word eeg embedding dim to be 840, but got 0, return None\n",
      "expect word eeg embedding dim to be 840, but got 0, return None\n",
      "expect word eeg embedding dim to be 840, but got 0, return None\n",
      "expect word eeg embedding dim to be 840, but got 0, return None\n",
      "expect word eeg embedding dim to be 840, but got 0, return None\n",
      "expect word eeg embedding dim to be 840, but got 0, return None\n",
      "expect word eeg embedding dim to be 840, but got 0, return None\n",
      "expect word eeg embedding dim to be 840, but got 0, return None\n",
      "expect word eeg embedding dim to be 840, but got 0, return None\n",
      "expect word eeg embedding dim to be 840, but got 0, return None\n",
      "expect word eeg embedding dim to be 840, but got 0, return None\n",
      "expect word eeg embedding dim to be 840, but got 0, return None\n",
      "expect word eeg embedding dim to be 840, but got 0, return None\n",
      "expect word eeg embedding dim to be 840, but got 0, return None\n",
      "expect word eeg embedding dim to be 840, but got 0, return None\n",
      "expect word eeg embedding dim to be 840, but got 0, return None\n",
      "expect word eeg embedding dim to be 840, but got 0, return None\n",
      "expect word eeg embedding dim to be 840, but got 0, return None\n",
      "expect word eeg embedding dim to be 840, but got 0, return None\n",
      "expect word eeg embedding dim to be 840, but got 0, return None\n",
      "expect word eeg embedding dim to be 840, but got 0, return None\n",
      "expect word eeg embedding dim to be 840, but got 0, return None\n",
      "expect word eeg embedding dim to be 840, but got 0, return None\n",
      "expect word eeg embedding dim to be 840, but got 0, return None\n",
      "expect word eeg embedding dim to be 840, but got 0, return None\n",
      "++ adding task to dataset, now we have: 10391\n",
      "[INFO]input tensor size: torch.Size([56, 840])\n",
      "\n"
     ]
    }
   ],
   "source": [
    "train_set = ZuCo_dataset(whole_dataset_dicts, 'train', tokenizer, subject = subject_choice, eeg_type = eeg_type_choice, bands = bands_choice, setting = dataset_setting)"
   ],
   "metadata": {
    "collapsed": false,
    "ExecuteTime": {
     "start_time": "2023-12-07T16:52:44.895100Z",
     "end_time": "2023-12-07T16:53:30.340851Z"
    }
   }
  },
  {
   "cell_type": "markdown",
   "source": [],
   "metadata": {
    "collapsed": false
   }
  },
  {
   "cell_type": "code",
   "execution_count": 54,
   "outputs": [],
   "source": [
    "from torch.utils.data import DataLoader\n",
    "\n",
    "train_dataloader = DataLoader(train_set, batch_size = 60, shuffle=True, num_workers=4)"
   ],
   "metadata": {
    "collapsed": false,
    "ExecuteTime": {
     "start_time": "2023-11-03T16:03:41.245045Z",
     "end_time": "2023-11-03T16:03:41.263428Z"
    }
   }
  },
  {
   "cell_type": "code",
   "execution_count": 72,
   "outputs": [
    {
     "data": {
      "text/plain": "tensor([-1.0809e+00, -1.0209e+00, -7.4707e-01, -6.1619e-01, -5.8614e-01,\n        -5.8061e-01, -6.8494e-01, -6.9798e-01, -4.7066e-01, -5.2939e-01,\n         9.9531e-02, -8.0580e-01, -5.1111e-01, -3.4406e-01,  4.8609e-01,\n        -4.7019e-01, -5.7117e-01,  7.2918e-02, -3.5796e-01, -4.5096e-01,\n        -5.7148e-01, -5.5568e-01, -3.1822e-01, -3.9249e-01, -2.1442e-01,\n        -6.0204e-01, -3.9678e-01, -3.8377e-01, -3.1840e-01, -6.1057e-02,\n         1.0061e+00, -2.5624e-01, -2.9409e-01, -3.2294e-01, -2.3519e-01,\n         7.4119e-01, -2.6374e-01, -1.5173e-01, -1.6161e-01, -1.9570e-01,\n         3.3183e-02, -4.0479e-02, -7.1709e-02,  1.6422e-01,  5.4591e-01,\n        -4.6658e-01,  1.0243e-01,  4.7145e-01,  1.9253e-01,  3.7109e-01,\n         6.2686e-01,  1.4247e+00,  1.8049e+00,  7.3235e-01,  5.3539e-01,\n         5.3513e-01,  6.1369e-01,  1.1337e+00,  9.9847e-01,  1.2031e+00,\n         1.8040e+00,  1.4169e+00,  7.3805e-01,  5.9009e-01,  8.8754e-02,\n        -4.3801e-01, -9.4200e-01,  1.2648e+00,  7.6965e-01,  1.4213e-01,\n        -5.6208e-02, -4.1058e-01, -5.7700e-01,  8.5194e-01,  4.4054e-01,\n         1.1616e-01, -6.7643e-02, -5.1799e-01,  1.1283e-01,  6.3093e-02,\n        -2.1819e-01, -4.1217e-01, -3.6040e-01, -4.0750e-01, -4.8419e-01,\n        -6.7800e-01, -8.5448e-01, -9.9409e-01, -9.5180e-01, -5.5182e-01,\n        -5.4655e-01, -9.2737e-01, -8.0894e-01, -7.0605e-01, -7.8157e-01,\n        -8.6480e-01, -9.3734e-01, -1.0332e+00, -7.7573e-01, -9.9026e-01,\n        -1.0965e-01, -9.4295e-01, -1.0195e+00, -8.7250e-01, -1.2666e+00,\n        -1.1010e+00, -1.0296e+00, -7.4816e-01, -7.7222e-01, -7.1184e-01,\n        -7.1868e-01, -8.3313e-01, -8.4733e-01, -6.3095e-01, -6.0548e-01,\n        -1.8811e-01, -8.0923e-01, -7.2709e-01, -6.6048e-01,  2.4380e-01,\n        -6.1326e-01, -6.9229e-01, -6.8011e-02, -5.4458e-01, -5.5040e-01,\n        -6.6036e-01, -6.4471e-01, -4.3711e-01, -4.7982e-01, -3.4894e-01,\n        -5.8726e-01, -3.9621e-01, -4.0112e-01, -3.3493e-01, -4.1619e-01,\n         4.4070e-01, -2.6787e-01, -3.0076e-01, -3.3909e-01, -2.2821e-01,\n         4.8553e-01, -2.5895e-01, -1.7709e-01, -1.9010e-01, -1.9529e-01,\n         1.0665e-02, -9.0067e-02, -1.2799e-01,  1.4979e-01,  4.7142e-01,\n        -4.5888e-01,  5.1772e-02,  4.3628e-01,  1.8934e-01,  2.9804e-01,\n         4.3347e-01,  1.2234e+00,  1.7733e+00,  6.5854e-01,  4.2391e-01,\n         5.1992e-01,  4.4555e-01,  1.1330e+00,  9.8908e-01,  1.1110e+00,\n         2.0453e+00,  1.4082e+00,  7.1851e-01,  5.8681e-01,  1.1317e-01,\n        -4.3878e-01, -9.6930e-01,  1.6376e+00,  8.6657e-01,  3.9451e-02,\n        -1.4564e-01, -5.3683e-01, -6.2099e-01,  9.9194e-01,  3.6744e-01,\n        -6.1068e-02, -3.1801e-01, -6.6245e-01,  1.2848e-01, -7.3982e-02,\n        -3.8951e-01, -6.1915e-01, -4.3223e-01, -5.2561e-01, -5.9951e-01,\n        -8.3782e-01, -9.7084e-01, -1.0097e+00, -1.0104e+00, -6.5369e-01,\n        -7.1343e-01, -1.0052e+00, -8.4180e-01, -7.9613e-01, -8.4647e-01,\n        -9.5636e-01, -1.0258e+00, -1.0710e+00, -8.3347e-01, -1.0309e+00,\n        -3.3332e-01, -1.0117e+00, -1.0375e+00, -9.4573e-01, -1.2666e+00,\n        -1.1107e+00, -1.0720e+00, -8.1455e-01, -6.7875e-01, -5.6224e-01,\n        -6.3341e-01, -8.5224e-01, -7.9805e-01, -6.3519e-01, -5.0689e-01,\n         4.9010e-02, -9.3745e-01, -7.9252e-01, -5.7972e-01, -4.0282e-02,\n        -6.3907e-01, -7.3588e-01, -3.2132e-01, -5.3425e-01, -6.1950e-01,\n        -7.1593e-01, -6.6447e-01, -5.1954e-01, -5.3626e-01, -2.5732e-01,\n        -6.0988e-01, -3.4646e-01, -3.5752e-01, -2.9985e-01, -3.4142e-01,\n         1.7347e-01, -1.9161e-01, -2.2324e-01, -2.7689e-01, -1.2932e-01,\n         2.5039e-01, -2.4158e-01, -4.7570e-02, -8.2686e-02, -5.9645e-02,\n         2.3951e-01,  1.1071e-01,  3.2950e-02,  2.8902e-01,  4.9767e-01,\n        -4.2400e-01,  3.5980e-01,  8.5659e-01,  5.0695e-01,  6.0108e-01,\n         7.4015e-01,  1.5560e+00,  2.4796e+00,  1.2028e+00,  8.6282e-01,\n         9.8348e-01,  9.8198e-01,  1.8992e+00,  1.6478e+00,  1.6698e+00,\n         3.1691e+00,  2.1874e+00,  1.1951e+00,  9.5799e-01,  2.7957e-01,\n        -4.2003e-01, -1.0407e+00,  2.3813e+00,  1.3752e+00,  4.0252e-01,\n         2.0578e-02, -4.6759e-01, -8.5521e-01,  1.4132e+00,  6.5207e-01,\n         1.5747e-01, -2.4297e-01, -6.6071e-01,  2.5752e-01,  3.1332e-02,\n        -3.0775e-01, -5.9404e-01, -3.9191e-01, -4.6874e-01, -6.0669e-01,\n        -7.6793e-01, -9.4511e-01, -1.0541e+00, -9.9144e-01, -6.7903e-01,\n        -6.7836e-01, -9.9754e-01, -9.4402e-01, -7.8472e-01, -9.1766e-01,\n        -9.5813e-01, -1.0162e+00, -1.1011e+00, -8.5359e-01, -1.0658e+00,\n        -3.6761e-01, -1.0340e+00, -1.0648e+00, -9.3921e-01, -1.2666e+00,\n        -1.0915e+00, -1.0868e+00, -8.1254e-01, -7.1250e-01, -6.3487e-01,\n        -5.6818e-01, -8.2930e-01, -7.7184e-01, -6.0656e-01, -5.7094e-01,\n         1.4534e-01, -9.3478e-01, -7.1049e-01, -5.4335e-01,  2.1742e-02,\n        -5.1374e-01, -7.4786e-01, -3.1816e-01, -5.3467e-01, -5.9550e-01,\n        -6.1503e-01, -5.2458e-01, -3.0865e-01, -3.7116e-01, -2.6198e-01,\n        -4.5330e-01, -1.3834e-01, -1.5343e-01, -1.0709e-01, -1.6569e-01,\n         1.8162e-01,  5.3698e-02, -6.0585e-03, -1.1174e-01, -2.8828e-03,\n         4.5211e-01, -9.1276e-02,  1.6033e-01,  9.6245e-02,  1.1412e-01,\n         3.5150e-01,  2.8008e-01,  1.5038e-01,  2.1070e-01,  5.7818e-01,\n        -4.6373e-01,  3.4683e-01,  8.1239e-01,  4.3916e-01,  4.6829e-01,\n         5.7425e-01,  1.3132e+00,  2.7146e+00,  9.1122e-01,  5.9442e-01,\n         6.5194e-01,  6.9689e-01,  1.4317e+00,  1.3088e+00,  1.4135e+00,\n         2.5904e+00,  1.9370e+00,  1.1517e+00,  8.9019e-01,  2.3155e-01,\n        -4.2580e-01, -9.9939e-01,  2.1715e+00,  1.3312e+00,  4.8481e-01,\n         1.5057e-01, -4.4090e-01, -7.7679e-01,  1.5168e+00,  7.6271e-01,\n         2.5237e-01, -1.9480e-01, -5.9848e-01,  3.8681e-01,  1.2967e-01,\n        -2.7530e-01, -5.4165e-01, -3.3351e-01, -4.2812e-01, -5.7501e-01,\n        -7.4333e-01, -9.2282e-01, -1.0183e+00, -1.0290e+00, -6.4872e-01,\n        -6.1661e-01, -9.8607e-01, -9.3849e-01, -8.4844e-01, -9.1733e-01,\n        -9.3309e-01, -9.9596e-01, -1.0822e+00, -8.7847e-01, -1.0909e+00,\n        -3.3938e-01, -1.0039e+00, -1.0535e+00, -9.4249e-01, -1.2666e+00,\n        -1.0901e+00, -1.0614e+00, -7.9881e-01, -7.4624e-01, -6.4438e-01,\n        -6.0775e-01, -8.1496e-01, -7.7803e-01, -6.0738e-01, -5.5645e-01,\n         2.6156e-02, -8.7063e-01, -6.3412e-01, -5.3700e-01,  1.3234e-01,\n        -4.3954e-01, -7.5590e-01, -1.5154e-01, -4.8933e-01, -5.4212e-01,\n        -5.2648e-01, -4.5448e-01, -2.0768e-01, -3.3958e-01, -2.8370e-01,\n        -3.8649e-01, -9.0370e-02, -1.2461e-01, -5.4201e-02, -1.6191e-01,\n         2.6095e-01,  1.1648e-01,  3.5241e-02, -7.8172e-02,  2.6013e-02,\n         4.9232e-01, -2.1848e-01,  2.2144e-01,  1.4088e-01,  1.4700e-01,\n         4.3247e-01,  3.1522e-01,  1.6319e-01,  2.0551e-01,  5.1207e-01,\n        -4.6155e-01,  4.8049e-01,  9.9032e-01,  5.8132e-01,  5.7798e-01,\n         6.3195e-01,  1.3108e+00,  3.0581e+00,  1.1676e+00,  7.7129e-01,\n         8.1834e-01,  9.4014e-01,  1.6986e+00,  1.4573e+00,  1.4553e+00,\n         2.9424e+00,  1.9365e+00,  1.0457e+00,  8.0573e-01,  1.8633e-01,\n        -4.0480e-01, -9.6264e-01,  2.0720e+00,  1.1724e+00,  3.3868e-01,\n         1.0568e-01, -4.2499e-01, -6.8750e-01,  1.3515e+00,  6.2860e-01,\n         1.2017e-01, -1.7258e-01, -5.7640e-01,  2.9579e-01,  6.4614e-02,\n        -2.7751e-01, -5.0975e-01, -3.2997e-01, -4.2942e-01, -5.1561e-01,\n        -7.5796e-01, -9.4160e-01, -1.0089e+00, -1.0160e+00, -5.7184e-01,\n        -6.2685e-01, -9.9518e-01, -9.0147e-01, -8.6094e-01, -8.6954e-01,\n        -9.2394e-01, -1.0037e+00, -1.0755e+00, -8.7450e-01, -1.0656e+00,\n        -2.6727e-01, -9.9984e-01, -1.0403e+00, -9.3695e-01, -1.2666e+00,\n        -1.0422e+00, -9.8606e-01, -6.2013e-01, -5.5086e-01, -5.1557e-01,\n        -5.4392e-01, -6.9124e-01, -6.4589e-01, -2.1424e-01, -9.3063e-03,\n         1.1913e-01, -8.1141e-01, -4.0776e-01, -3.7066e-01,  2.0154e+00,\n        -2.2732e-01, -3.9736e-01,  1.6548e-01, -4.6175e-02, -3.6162e-01,\n        -3.0899e-01, -2.7294e-01,  3.2426e-02, -1.9934e-01, -9.2622e-02,\n        -1.8473e-01,  1.5250e-01,  8.3850e-02,  1.5032e-01,  5.5670e-03,\n         5.9017e-01,  3.9215e-01,  2.8400e-01,  1.5875e-01,  2.3744e-01,\n         7.6310e-01,  8.1372e-03,  5.2768e-01,  4.0348e-01,  3.9115e-01,\n         7.7462e-01,  6.0859e-01,  4.2323e-01,  5.0531e-01,  7.8191e-01,\n        -2.7614e-01,  8.5467e-01,  1.5252e+00,  9.8500e-01,  1.0471e+00,\n         1.2320e+00,  2.5961e+00,  4.1581e+00,  1.8511e+00,  1.3824e+00,\n         1.5444e+00,  1.6859e+00,  2.8439e+00,  2.5345e+00,  2.6936e+00,\n         5.1624e+00,  3.2933e+00,  2.0083e+00,  1.7250e+00,  7.6538e-01,\n        -1.4751e-01, -9.0681e-01,  3.6182e+00,  2.0799e+00,  8.2527e-01,\n         4.6045e-01, -2.6303e-01, -6.0297e-01,  2.2153e+00,  1.1193e+00,\n         4.5596e-01, -4.8431e-03, -4.3759e-01,  7.0154e-01,  3.5118e-01,\n        -1.0658e-01, -3.6557e-01, -1.3746e-01, -2.7721e-01, -4.0829e-01,\n        -6.5824e-01, -8.7376e-01, -9.7598e-01, -9.4701e-01, -4.8112e-01,\n        -4.9562e-01, -9.4517e-01, -8.0574e-01, -6.9644e-01, -8.2179e-01,\n        -8.7612e-01, -9.4918e-01, -1.0139e+00, -7.2571e-01, -1.0211e+00,\n        -1.0480e-01, -9.4479e-01, -9.6961e-01, -7.8539e-01, -1.2666e+00,\n        -1.0506e+00, -1.0191e+00, -6.6464e-01, -5.8135e-01, -5.4318e-01,\n        -6.4568e-01, -7.2651e-01, -7.2211e-01, -2.7216e-01, -2.2099e-02,\n        -5.3712e-02, -8.1759e-01, -4.5167e-01, -5.1644e-01,  1.9732e+00,\n        -3.2683e-01, -4.2668e-01,  1.6271e-02, -9.0524e-02, -3.7774e-01,\n        -4.0288e-01, -3.6118e-01, -1.4626e-01, -4.0195e-01, -2.7479e-01,\n        -3.1566e-01, -2.0635e-02, -9.3092e-02, -5.4777e-02, -2.0208e-01,\n         2.3430e-01,  1.9909e-01,  8.4223e-02, -3.7646e-02, -3.0585e-03,\n         4.8920e-01, -1.3467e-01,  3.0164e-01,  1.5758e-01,  1.3996e-01,\n         4.9538e-01,  3.4984e-01,  1.5357e-01,  1.9426e-01,  4.8951e-01,\n        -3.8870e-01,  6.0655e-01,  1.2667e+00,  7.4246e-01,  8.2915e-01,\n         1.0347e+00,  2.6419e+00,  3.7079e+00,  1.7892e+00,  1.3123e+00,\n         1.7049e+00,  1.7851e+00,  3.1716e+00,  2.8720e+00,  2.9703e+00,\n         5.9762e+00,  3.7476e+00,  2.3430e+00,  1.9473e+00,  8.5655e-01,\n        -1.2233e-01, -9.2296e-01,  4.1560e+00,  2.4064e+00,  1.0518e+00,\n         5.9242e-01, -2.0372e-01, -6.5276e-01,  2.4659e+00,  1.3405e+00,\n         5.6375e-01,  3.4202e-02, -4.7703e-01,  8.2555e-01,  4.6018e-01,\n        -8.6154e-02, -4.0253e-01, -7.4116e-02, -2.3707e-01, -4.1156e-01,\n        -6.8840e-01, -9.1149e-01, -9.9741e-01, -9.6014e-01, -4.6457e-01,\n        -5.8142e-01, -9.6005e-01, -8.1200e-01, -6.9469e-01, -8.5891e-01,\n        -8.7069e-01, -9.7026e-01, -1.0103e+00, -7.2129e-01, -1.0512e+00,\n        -2.4356e-01, -9.4643e-01, -9.5596e-01, -7.7557e-01, -1.2666e+00,\n        -1.0847e+00, -1.0378e+00, -7.5640e-01, -6.7553e-01, -6.3906e-01,\n        -7.5420e-01, -8.2859e-01, -8.2276e-01, -4.2054e-01, -1.4186e-01,\n        -2.5847e-01, -8.6730e-01, -5.9210e-01, -6.3935e-01,  1.7886e+00,\n        -5.0065e-01, -5.2824e-01, -3.4589e-02, -2.6710e-01, -5.4509e-01,\n        -5.5941e-01, -5.2903e-01, -3.6609e-01, -5.3077e-01, -4.6015e-01,\n        -4.8579e-01, -2.4023e-01, -3.0519e-01, -2.5900e-01, -3.7613e-01,\n         5.8824e-02, -5.3007e-02, -1.5185e-01, -2.3593e-01, -1.8019e-01,\n         1.9679e-01, -3.0374e-01,  3.3753e-02, -6.7877e-02, -8.8946e-02,\n         2.3191e-01,  1.0114e-01, -3.9992e-02, -1.5344e-02,  1.7798e-01,\n        -5.3162e-01,  3.5736e-01,  9.3520e-01,  4.6623e-01,  5.6456e-01,\n         7.8780e-01,  2.1632e+00,  2.9382e+00,  1.4547e+00,  1.0347e+00,\n         1.4583e+00,  1.4768e+00,  2.7630e+00,  2.4890e+00,  2.5163e+00,\n         5.2786e+00,  3.2826e+00,  1.9758e+00,  1.6067e+00,  6.2689e-01,\n        -2.5850e-01, -9.7233e-01,  3.6720e+00,  2.0576e+00,  8.2408e-01,\n         3.9377e-01, -3.1821e-01, -7.3747e-01,  2.0871e+00,  1.0686e+00,\n         3.7311e-01, -9.9976e-02, -5.8086e-01,  5.8025e-01,  2.6486e-01,\n        -2.0117e-01, -5.0171e-01, -2.1012e-01, -3.4165e-01, -5.1056e-01,\n        -7.6254e-01, -9.5570e-01, -1.0369e+00, -1.0012e+00, -5.4510e-01,\n        -6.9060e-01, -9.9401e-01, -8.7794e-01, -7.5472e-01, -8.8112e-01,\n        -8.9934e-01, -1.0073e+00, -1.0388e+00, -7.9216e-01, -1.0691e+00,\n        -3.7117e-01, -9.7250e-01, -9.9433e-01, -8.4472e-01, -1.2666e+00])"
     },
     "execution_count": 72,
     "metadata": {},
     "output_type": "execute_result"
    }
   ],
   "source": [
    "train_dataloader.dataset.__getitem__(0)[7]"
   ],
   "metadata": {
    "collapsed": false,
    "ExecuteTime": {
     "start_time": "2023-11-03T16:11:20.976899Z",
     "end_time": "2023-11-03T16:11:21.004397Z"
    }
   }
  },
  {
   "cell_type": "code",
   "execution_count": 19,
   "outputs": [
    {
     "name": "stdout",
     "output_type": "stream",
     "text": [
      "[INFO]loading 4 task datasets\n",
      "[INFO]using subjects:  ['ZAB', 'ZDM', 'ZDN', 'ZGW', 'ZJM', 'ZJN', 'ZJS', 'ZKB', 'ZKH', 'ZMG', 'ZPH']\n",
      "train divider = 320\n",
      "dev divider = 360\n",
      "[INFO]initializing a dev set...\n",
      "discard length zero instance:  Gollum's `performance' is incredible!\n",
      "++ adding task to dataset, now we have: 427\n",
      "[INFO]using subjects:  ['ZAB', 'ZDM', 'ZDN', 'ZGW', 'ZJM', 'ZJN', 'ZJS', 'ZKB', 'ZKH', 'ZKW', 'ZMG', 'ZPH']\n",
      "train divider = 240\n",
      "dev divider = 270\n",
      "[INFO]initializing a dev set...\n",
      "++ adding task to dataset, now we have: 770\n",
      "[INFO]using subjects:  ['ZAB', 'ZDM', 'ZDN', 'ZGW', 'ZJM', 'ZJN', 'ZJS', 'ZKB', 'ZKH', 'ZKW', 'ZMG', 'ZPH']\n",
      "train divider = 325\n",
      "dev divider = 365\n",
      "[INFO]initializing a dev set...\n",
      "++ adding task to dataset, now we have: 1228\n",
      "[INFO]using subjects:  ['YAC', 'YAG', 'YAK', 'YDG', 'YDR', 'YFR', 'YFS', 'YHS', 'YIS', 'YLS', 'YMD', 'YMS', 'YRH', 'YRK', 'YRP', 'YSD', 'YSL', 'YTL']\n",
      "train divider = 279\n",
      "dev divider = 313\n",
      "[INFO]initializing a dev set...\n",
      "expect word eeg embedding dim to be 840, but got 0, return None\n",
      "expect word eeg embedding dim to be 840, but got 0, return None\n",
      "expect word eeg embedding dim to be 840, but got 0, return None\n",
      "expect word eeg embedding dim to be 840, but got 0, return None\n",
      "expect word eeg embedding dim to be 840, but got 0, return None\n",
      "expect word eeg embedding dim to be 840, but got 0, return None\n",
      "expect word eeg embedding dim to be 840, but got 0, return None\n",
      "expect word eeg embedding dim to be 840, but got 0, return None\n",
      "expect word eeg embedding dim to be 840, but got 0, return None\n",
      "expect word eeg embedding dim to be 840, but got 0, return None\n",
      "expect word eeg embedding dim to be 840, but got 0, return None\n",
      "expect word eeg embedding dim to be 840, but got 0, return None\n",
      "expect word eeg embedding dim to be 840, but got 0, return None\n",
      "expect word eeg embedding dim to be 840, but got 0, return None\n",
      "expect word eeg embedding dim to be 840, but got 0, return None\n",
      "expect word eeg embedding dim to be 840, but got 0, return None\n",
      "expect word eeg embedding dim to be 840, but got 0, return None\n",
      "expect word eeg embedding dim to be 840, but got 0, return None\n",
      "expect word eeg embedding dim to be 840, but got 0, return None\n",
      "expect word eeg embedding dim to be 840, but got 0, return None\n",
      "expect word eeg embedding dim to be 840, but got 0, return None\n",
      "expect word eeg embedding dim to be 840, but got 0, return None\n",
      "expect word eeg embedding dim to be 840, but got 0, return None\n",
      "expect word eeg embedding dim to be 840, but got 0, return None\n",
      "expect word eeg embedding dim to be 840, but got 0, return None\n",
      "expect word eeg embedding dim to be 840, but got 0, return None\n",
      "expect word eeg embedding dim to be 840, but got 0, return None\n",
      "expect word eeg embedding dim to be 840, but got 0, return None\n",
      "expect word eeg embedding dim to be 840, but got 0, return None\n",
      "expect word eeg embedding dim to be 840, but got 0, return None\n",
      "expect word eeg embedding dim to be 840, but got 0, return None\n",
      "expect word eeg embedding dim to be 840, but got 0, return None\n",
      "expect word eeg embedding dim to be 840, but got 0, return None\n",
      "expect word eeg embedding dim to be 840, but got 0, return None\n",
      "expect word eeg embedding dim to be 840, but got 0, return None\n",
      "expect word eeg embedding dim to be 840, but got 0, return None\n",
      "expect word eeg embedding dim to be 840, but got 0, return None\n",
      "expect word eeg embedding dim to be 840, but got 0, return None\n",
      "expect word eeg embedding dim to be 840, but got 0, return None\n",
      "expect word eeg embedding dim to be 840, but got 0, return None\n",
      "expect word eeg embedding dim to be 840, but got 0, return None\n",
      "expect word eeg embedding dim to be 840, but got 0, return None\n",
      "expect word eeg embedding dim to be 840, but got 0, return None\n",
      "expect word eeg embedding dim to be 840, but got 0, return None\n",
      "expect word eeg embedding dim to be 840, but got 0, return None\n",
      "expect word eeg embedding dim to be 840, but got 0, return None\n",
      "expect word eeg embedding dim to be 840, but got 0, return None\n",
      "expect word eeg embedding dim to be 840, but got 0, return None\n",
      "expect word eeg embedding dim to be 840, but got 0, return None\n",
      "expect word eeg embedding dim to be 840, but got 0, return None\n",
      "expect word eeg embedding dim to be 840, but got 0, return None\n",
      "expect word eeg embedding dim to be 840, but got 0, return None\n",
      "++ adding task to dataset, now we have: 1750\n",
      "[INFO]input tensor size: torch.Size([56, 840])\n",
      "\n"
     ]
    }
   ],
   "source": [
    "dev_set = ZuCo_dataset(whole_dataset_dicts, 'dev', tokenizer, subject = subject_choice, eeg_type = eeg_type_choice, bands = bands_choice, setting = dataset_setting)"
   ],
   "metadata": {
    "collapsed": false,
    "ExecuteTime": {
     "start_time": "2023-11-03T14:26:46.373379Z",
     "end_time": "2023-11-03T14:27:03.458776Z"
    }
   }
  },
  {
   "cell_type": "code",
   "execution_count": null,
   "outputs": [],
   "source": [],
   "metadata": {
    "collapsed": false
   }
  }
 ],
 "metadata": {
  "kernelspec": {
   "display_name": "Python 3",
   "language": "python",
   "name": "python3"
  },
  "language_info": {
   "codemirror_mode": {
    "name": "ipython",
    "version": 2
   },
   "file_extension": ".py",
   "mimetype": "text/x-python",
   "name": "python",
   "nbconvert_exporter": "python",
   "pygments_lexer": "ipython2",
   "version": "2.7.6"
  }
 },
 "nbformat": 4,
 "nbformat_minor": 0
}
