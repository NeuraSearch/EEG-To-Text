{
 "cells": [
  {
   "cell_type": "code",
   "execution_count": 1,
   "metadata": {
    "collapsed": true,
    "ExecuteTime": {
     "start_time": "2023-11-30T11:10:10.079219Z",
     "end_time": "2023-11-30T11:10:10.377612Z"
    }
   },
   "outputs": [],
   "source": [
    "import pickle\n",
    "import numpy as np\n",
    "from config import get_config"
   ]
  },
  {
   "cell_type": "code",
   "execution_count": 2,
   "outputs": [],
   "source": [
    "from transformers import BertLMHeadModel, BartTokenizer\n",
    "from data import ZuCo_dataset"
   ],
   "metadata": {
    "collapsed": false,
    "ExecuteTime": {
     "start_time": "2023-11-30T11:10:10.381038Z",
     "end_time": "2023-11-30T11:10:15.715960Z"
    }
   }
  },
  {
   "cell_type": "code",
   "execution_count": 3,
   "outputs": [],
   "source": [
    "task_name = \"task1, task2, taskNRv2\""
   ],
   "metadata": {
    "collapsed": false,
    "ExecuteTime": {
     "start_time": "2023-11-30T11:10:15.715960Z",
     "end_time": "2023-11-30T11:10:15.732380Z"
    }
   }
  },
  {
   "cell_type": "code",
   "execution_count": 4,
   "outputs": [],
   "source": [
    "''' set up dataloader '''\n",
    "\n",
    "whole_dataset_dicts = []\n",
    "'''\n",
    "if 'task1' in task_name:\n",
    "    dataset_path_task1 = r'I:\\Science\\CIS-YASHMOSH\\niallmcguire\\ZuCo\\task1-SR\\pickle\\task1-SR-dataset.pickle'\n",
    "    with open(dataset_path_task1, 'rb') as handle:\n",
    "        whole_dataset_dicts.append(pickle.load(handle))\n",
    "\n",
    "if 'task2' in task_name:\n",
    "    dataset_path_task2 = r'I:\\Science\\CIS-YASHMOSH\\niallmcguire\\ZuCo\\task2-NR\\pickle\\task2-NR-dataset.pickle'\n",
    "    with open(dataset_path_task2, 'rb') as handle:\n",
    "        whole_dataset_dicts.append(pickle.load(handle))\n",
    "\n",
    "if 'task3' in task_name:\n",
    "    dataset_path_task3 = r'I:\\Science\\CIS-YASHMOSH\\niallmcguire\\ZuCo\\task3-TSR\\pickle\\task3-TSR-dataset.pickle'\n",
    "    with open(dataset_path_task3, 'rb') as handle:\n",
    "        whole_dataset_dicts.append(pickle.load(handle))\n",
    "'''\n",
    "if 'taskNRv2' in task_name:\n",
    "    dataset_path_taskNRv2 = r'I:\\Science\\CIS-YASHMOSH\\niallmcguire\\ZuCo\\task2-NR-2.0\\pickle\\task2-NR-2.0-dataset.pickle'\n",
    "    with open(dataset_path_taskNRv2, 'rb') as handle:\n",
    "        whole_dataset_dicts.append(pickle.load(handle))\n"
   ],
   "metadata": {
    "collapsed": false,
    "ExecuteTime": {
     "start_time": "2023-11-30T11:10:15.732380Z",
     "end_time": "2023-11-30T11:12:18.604159Z"
    }
   }
  },
  {
   "cell_type": "code",
   "execution_count": 5,
   "outputs": [
    {
     "name": "stdout",
     "output_type": "stream",
     "text": [
      "Loaded in 1 task datasets\n"
     ]
    }
   ],
   "source": [
    "print(\"Loaded in\", len(whole_dataset_dicts), \"task datasets\")"
   ],
   "metadata": {
    "collapsed": false,
    "ExecuteTime": {
     "start_time": "2023-11-30T11:12:18.604159Z",
     "end_time": "2023-11-30T11:12:18.621513Z"
    }
   }
  },
  {
   "cell_type": "code",
   "execution_count": 6,
   "outputs": [],
   "source": [
    "Task_Dataset_List = whole_dataset_dicts\n",
    "if not isinstance(whole_dataset_dicts,list):\n",
    "    Task_Dataset_List = [whole_dataset_dicts]"
   ],
   "metadata": {
    "collapsed": false,
    "ExecuteTime": {
     "start_time": "2023-11-30T11:12:18.621513Z",
     "end_time": "2023-11-30T11:12:18.674133Z"
    }
   }
  },
  {
   "cell_type": "code",
   "execution_count": 7,
   "outputs": [
    {
     "name": "stdout",
     "output_type": "stream",
     "text": [
      "[INFO]loading 1 task datasets\n",
      "[INFO]using subjects:  ['YAC', 'YAG', 'YAK', 'YDG', 'YDR', 'YFR', 'YFS', 'YHS', 'YIS', 'YLS', 'YMD', 'YMS', 'YRH', 'YRK', 'YRP', 'YSD', 'YSL', 'YTL']\n",
      "train divider = 279\n",
      "dev divider = 313\n",
      "[INFO]initializing a train set...\n",
      "['Henry', 'Ford,', 'with', 'son', 'Edsel,', 'founded', 'Ford', 'Foundation', 'in', '1936', 'local', 'philanthropic', 'organization', 'broad', 'charter', 'promote', 'human', 'welfare.']\n",
      "['this', 'initial', 'success,', 'Ford', 'left', 'Edison', 'Illuminating', 'and,', 'with', 'other', 'investors,', 'formed', 'Detroit', 'Automobile', 'Company.']\n",
      "['With', 'his', 'interest', 'race', 'cars,', 'formed', 'second', 'company,', 'Henry', 'Ford', 'Company.']\n",
      "['During', 'this', 'period,', 'personally', 'drove', 'his', 'Quadricycle', 'victory', 'a', 'race', 'against', 'Alexander', 'Winton,', 'well-known', 'driver', 'heavy', 'favorite', 'on', 'October', '10,', '1901.']\n",
      "['Ford', 'was', 'forced', 'of', 'the', 'company', 'by', 'investors,', 'including', 'Henry', 'M.', 'Leland', 'in', '1902,', 'and', 'company', 'reorganized', 'Cadillac.']\n",
      "['1891,', 'Ford', 'became', 'an', 'engineer', 'with', 'the', 'Edison', 'Illuminating', 'Company,', 'after', 'promotion', 'Chief', 'Engineer', '1893,', 'had', 'enough', 'and', 'money', 'devote', 'attention', 'personal', 'experiments', 'internal', 'combustion', 'engines.']\n",
      "['experiments', 'culminated', '1896', 'the', 'completion', 'his', 'own', 'self-propelled', 'vehicle', 'named', 'the', 'Quadricycle,']\n",
      "['Ford', 'was', 'born', 'on', 'prosperous', 'farm', 'Springwells', 'Township', 'Dearborn,', 'Michigan)', 'parents,', 'William', 'Ford', '(1826-1905)', 'Mary', 'Litogot', '(c1839-1876),', 'County', 'Cork,', 'Ireland.']\n",
      "['the', 'years', 'between', 'wars,', 'Henry', 'Ford', 'supported', 'Adolf', \"Hitler's\", 'Nazi', 'regime.']\n",
      "['is', 'also', 'some', 'evidence', 'Henry', 'gave', 'Adolf', 'Hitler', 'direct', 'financial', 'backing', 'Hitler', 'was', 'first', 'starting', 'out', 'politics.']\n",
      "['can', 'part', 'traced', 'statements', 'from', 'Kurt', 'Ludecke,', \"Germany's\", 'representative', 'the', 'U.S.', 'the', '1920s,', 'Winifred', 'Wagner,', 'daughter-in-law', 'Richard', 'Wagner,', 'said', 'they', 'requested', 'funds', 'Ford', 'aid', 'the', 'National', 'Socialist', 'movement', 'Germany.']\n",
      "['Although', 'Ford', 'often', 'credited', 'the', 'idea,', 'contemporary', 'sources', 'indicate', 'the', 'concept', 'its', 'development', 'came', 'employees', 'Clarence', 'Avery,', 'Peter', 'Martin,', 'Charles', 'Sorensen,', 'C.H.', 'Wills.']\n",
      "['Henry', 'Ford', 'advocated', 'long-time', 'associate', 'Harry', 'Bennett', 'to', 'take', 'spot.']\n",
      "[\"Edsel's\", 'widow', 'Eleanor,', 'had', 'inherited', \"Edsel's\", 'voting', 'stock,', 'wanted', 'son', 'Henry', 'II', 'take', 'over', 'position.']\n",
      "expect word eeg embedding dim to be 840, but got 0, return None\n",
      "['Alexander', 'Rae', 'Baldwin', 'III', '(born', 'April', '3,', '1958,', 'Massapequa,', 'Long', 'Island,', 'New', 'York,', 'USA)', 'is', 'an', 'American', 'actor', 'who', 'the', 'oldest', 'best', 'known', 'the', '\"Baldwin', 'brothers\",', 'brothers', 'Daniel,', 'Stephen', 'William.']\n",
      "['is', 'of', 'three', 'quarters', 'Irish', 'one', 'quarter', 'French', 'descent.']\n",
      "['Baldwin', 'has', 'appeared', 'movies', 'such', 'The', 'Cooler,', 'The', 'Hunt', 'Red', 'October,', 'Beetlejuice,', 'Ghosts', 'Mississippi,', 'Talk', 'Radio,', 'Final', 'Fantasy:', 'Spirits', 'Within', '(voice),', 'Cat', 'Hat,', 'Pearl', 'Harbor,', 'Thomas', 'the', 'Magic', 'Railroad,', 'Along', 'Came', 'Polly,', 'SpongeBob', 'SquarePants', 'Movie,', 'The', 'Aviator.']\n",
      "['Baldwin', 'young,', 'had', 'job', 'a', 'busboy', 'at', 'famous', 'New', 'York', 'City', 'disco', 'Studio', '54.']\n",
      "['He', 'was', 'married', 'actress', 'Kim', 'Basinger', 'from', '1993', '2002.']\n",
      "['liberal', 'Democrat,', 'always', 'had', 'active', 'interest', 'in', 'politics', 'frequently', 'rumored', 'to', 'be', 'candidate', 'public', 'office.']\n",
      "['particular,', 'Baldwin', 'one', 'of', 'frequent', 'hosts', 'of', 'Saturday', 'Night', 'Live,', 'leading', 'show', 'eleven', 'also', 'making', 'cameo', 'appearances', 'regularly.']\n",
      "['played', 'William', 'Barrett', 'Travis', 'movie', 'about', 'Alamo', 'called', 'Thirteen', 'Days', 'Glory.']\n",
      "['1998,', 'he', 'began', 'narrating', 'American', 'version', \"children's\", 'series', 'Thomas', 'Tank', 'Engine', 'Friends.']\n",
      "['infamous', 'his', '1994', 'on', 'Night', 'Live', 'potrays', 'Armstrong,', 'scoutmaster', 'who', 'pedophile,', 'rips', 'shirt', 'puts', 'mouth', 'around', 'Adam', \"Sandler's\", 'neck.']\n",
      "expect word eeg embedding dim to be 840, but got 0, return None\n",
      "['1954', 'she,', 'along', 'Bing', 'Crosby,', 'Danny', 'Kaye,', 'and', 'Vera-Ellen,', 'starred', 'movie', 'White', 'Christmas.']\n",
      "[\"Clooney's\", 'first', 'recordings,', 'May', 'of', '1946', 'were', 'Columbia', 'Records', 'as', 'singer', 'the', 'band', 'Tony', 'Pastor.']\n",
      "['Rosemary', 'Clooney', 'married', 'times,', 'twice', 'Jose', 'Ferrer', '(from', '1953', '1961', 'then', 'again', 'from', '1964', '1967)', 'whom', 'had', 'five', 'including', 'actor', 'Miguel', 'Ferrer,', 'born', '1955,', 'Gabriel', 'Ferrer,', 'born', '1956,', 'who', 'married', 'Debby', 'Boone,', 'once', 'Dante', 'DePaolo', '(whom', 'married', '1997).']\n",
      "['Rosemary,', 'Betty,', 'and', 'brother,', 'Nick,', 'well', 'as', 'George', 'Clooney', \"(Nick's\", 'son),', 'became', 'entertainers.']\n",
      "['1945', 'Clooney', 'sisters', 'won', 'a', 'spot', \"Cincinnati's\", 'radio', 'station', 'WLW', 'singers.']\n",
      "['She', 'was', 'Maysville,', 'Kentucky,', 'about', '60', 'Ohio', 'River', 'Cincinnati,', 'Ohio', 'Andrew', 'Joseph', 'Clooney', 'and', 'Frances', 'Marie', 'Guilfoyle,', 'of', 'whom', 'Irish', 'descent', \"(Rosemary's\", 'paternal', 'great-grandparents,', 'Nicholas', 'Clooney', 'Bridget', 'were', 'born', 'Ireland),', 'although', 'paternal', 'grandmother,', 'Crescentia', 'Koch,', 'German.']\n",
      "['Clooney', 'left', 'Columbia,', 'doing', 'number', 'recordings', 'MGM', 'Records', 'then', 'for', 'Coral', 'Records.']\n",
      "['Finally,', 'toward', 'the', 'of', '1958,', 'she', 'with', 'RCA', 'Victor', 'Records,', 'where', 'she', 'stayed', 'until', '1963', 'except', 'doing', 'Reprise', 'Records.']\n",
      "['In', '1964', 'to', 'Reprise', 'shifting', 'the', 'year', 'to', 'Dot', 'Records.']\n",
      "['1966', 'went', 'to', 'United', 'Artists', 'Records.']\n",
      "expect word eeg embedding dim to be 840, but got 0, return None\n",
      "expect word eeg embedding dim to be 840, but got 0, return None\n",
      "expect word eeg embedding dim to be 840, but got 0, return None\n",
      "expect word eeg embedding dim to be 840, but got 0, return None\n",
      "expect word eeg embedding dim to be 840, but got 0, return None\n",
      "expect word eeg embedding dim to be 840, but got 0, return None\n",
      "expect word eeg embedding dim to be 840, but got 0, return None\n",
      "expect word eeg embedding dim to be 840, but got 0, return None\n",
      "expect word eeg embedding dim to be 840, but got 0, return None\n",
      "expect word eeg embedding dim to be 840, but got 0, return None\n",
      "expect word eeg embedding dim to be 840, but got 0, return None\n",
      "expect word eeg embedding dim to be 840, but got 0, return None\n",
      "expect word eeg embedding dim to be 840, but got 0, return None\n",
      "expect word eeg embedding dim to be 840, but got 0, return None\n",
      "expect word eeg embedding dim to be 840, but got 0, return None\n",
      "expect word eeg embedding dim to be 840, but got 0, return None\n",
      "expect word eeg embedding dim to be 840, but got 0, return None\n",
      "expect word eeg embedding dim to be 840, but got 0, return None\n",
      "expect word eeg embedding dim to be 840, but got 0, return None\n",
      "expect word eeg embedding dim to be 840, but got 0, return None\n",
      "expect word eeg embedding dim to be 840, but got 0, return None\n",
      "expect word eeg embedding dim to be 840, but got 0, return None\n",
      "expect word eeg embedding dim to be 840, but got 0, return None\n",
      "expect word eeg embedding dim to be 840, but got 0, return None\n",
      "expect word eeg embedding dim to be 840, but got 0, return None\n",
      "expect word eeg embedding dim to be 840, but got 0, return None\n",
      "expect word eeg embedding dim to be 840, but got 0, return None\n",
      "expect word eeg embedding dim to be 840, but got 0, return None\n",
      "expect word eeg embedding dim to be 840, but got 0, return None\n",
      "expect word eeg embedding dim to be 840, but got 0, return None\n",
      "expect word eeg embedding dim to be 840, but got 0, return None\n",
      "expect word eeg embedding dim to be 840, but got 0, return None\n",
      "expect word eeg embedding dim to be 840, but got 0, return None\n",
      "expect word eeg embedding dim to be 840, but got 0, return None\n",
      "expect word eeg embedding dim to be 840, but got 0, return None\n",
      "expect word eeg embedding dim to be 840, but got 0, return None\n",
      "expect word eeg embedding dim to be 840, but got 0, return None\n",
      "expect word eeg embedding dim to be 840, but got 0, return None\n",
      "expect word eeg embedding dim to be 840, but got 0, return None\n",
      "expect word eeg embedding dim to be 840, but got 0, return None\n",
      "expect word eeg embedding dim to be 840, but got 0, return None\n",
      "expect word eeg embedding dim to be 840, but got 0, return None\n",
      "expect word eeg embedding dim to be 840, but got 0, return None\n",
      "expect word eeg embedding dim to be 840, but got 0, return None\n",
      "expect word eeg embedding dim to be 840, but got 0, return None\n",
      "expect word eeg embedding dim to be 840, but got 0, return None\n",
      "expect word eeg embedding dim to be 840, but got 0, return None\n",
      "expect word eeg embedding dim to be 840, but got 0, return None\n",
      "expect word eeg embedding dim to be 840, but got 0, return None\n",
      "expect word eeg embedding dim to be 840, but got 0, return None\n",
      "expect word eeg embedding dim to be 840, but got 0, return None\n",
      "expect word eeg embedding dim to be 840, but got 0, return None\n",
      "expect word eeg embedding dim to be 840, but got 0, return None\n",
      "expect word eeg embedding dim to be 840, but got 0, return None\n",
      "expect word eeg embedding dim to be 840, but got 0, return None\n",
      "expect word eeg embedding dim to be 840, but got 0, return None\n",
      "expect word eeg embedding dim to be 840, but got 0, return None\n",
      "expect word eeg embedding dim to be 840, but got 0, return None\n",
      "expect word eeg embedding dim to be 840, but got 0, return None\n",
      "expect word eeg embedding dim to be 840, but got 0, return None\n",
      "expect word eeg embedding dim to be 840, but got 0, return None\n",
      "expect word eeg embedding dim to be 840, but got 0, return None\n",
      "expect word eeg embedding dim to be 840, but got 0, return None\n",
      "expect word eeg embedding dim to be 840, but got 0, return None\n",
      "expect word eeg embedding dim to be 840, but got 0, return None\n",
      "expect word eeg embedding dim to be 840, but got 0, return None\n",
      "expect word eeg embedding dim to be 840, but got 0, return None\n",
      "expect word eeg embedding dim to be 840, but got 0, return None\n",
      "expect word eeg embedding dim to be 840, but got 0, return None\n",
      "expect word eeg embedding dim to be 840, but got 0, return None\n",
      "expect word eeg embedding dim to be 840, but got 0, return None\n",
      "expect word eeg embedding dim to be 840, but got 0, return None\n",
      "expect word eeg embedding dim to be 840, but got 0, return None\n",
      "expect word eeg embedding dim to be 840, but got 0, return None\n",
      "expect word eeg embedding dim to be 840, but got 0, return None\n",
      "expect word eeg embedding dim to be 840, but got 0, return None\n",
      "expect word eeg embedding dim to be 840, but got 0, return None\n",
      "expect word eeg embedding dim to be 840, but got 0, return None\n",
      "expect word eeg embedding dim to be 840, but got 0, return None\n",
      "expect word eeg embedding dim to be 840, but got 0, return None\n",
      "expect word eeg embedding dim to be 840, but got 0, return None\n",
      "expect word eeg embedding dim to be 840, but got 0, return None\n",
      "expect word eeg embedding dim to be 840, but got 0, return None\n",
      "expect word eeg embedding dim to be 840, but got 0, return None\n",
      "expect word eeg embedding dim to be 840, but got 0, return None\n",
      "expect word eeg embedding dim to be 840, but got 0, return None\n",
      "expect word eeg embedding dim to be 840, but got 0, return None\n",
      "expect word eeg embedding dim to be 840, but got 0, return None\n",
      "expect word eeg embedding dim to be 840, but got 0, return None\n",
      "expect word eeg embedding dim to be 840, but got 0, return None\n",
      "expect word eeg embedding dim to be 840, but got 0, return None\n",
      "expect word eeg embedding dim to be 840, but got 0, return None\n",
      "expect word eeg embedding dim to be 840, but got 0, return None\n",
      "expect word eeg embedding dim to be 840, but got 0, return None\n",
      "expect word eeg embedding dim to be 840, but got 0, return None\n",
      "expect word eeg embedding dim to be 840, but got 0, return None\n",
      "expect word eeg embedding dim to be 840, but got 0, return None\n",
      "expect word eeg embedding dim to be 840, but got 0, return None\n",
      "expect word eeg embedding dim to be 840, but got 0, return None\n",
      "expect word eeg embedding dim to be 840, but got 0, return None\n",
      "expect word eeg embedding dim to be 840, but got 0, return None\n",
      "expect word eeg embedding dim to be 840, but got 0, return None\n",
      "expect word eeg embedding dim to be 840, but got 0, return None\n",
      "expect word eeg embedding dim to be 840, but got 0, return None\n",
      "expect word eeg embedding dim to be 840, but got 0, return None\n",
      "expect word eeg embedding dim to be 840, but got 0, return None\n",
      "expect word eeg embedding dim to be 840, but got 0, return None\n",
      "expect word eeg embedding dim to be 840, but got 0, return None\n",
      "expect word eeg embedding dim to be 840, but got 0, return None\n",
      "expect word eeg embedding dim to be 840, but got 0, return None\n",
      "expect word eeg embedding dim to be 840, but got 0, return None\n",
      "expect word eeg embedding dim to be 840, but got 0, return None\n",
      "expect word eeg embedding dim to be 840, but got 0, return None\n",
      "expect word eeg embedding dim to be 840, but got 0, return None\n",
      "expect word eeg embedding dim to be 840, but got 0, return None\n",
      "expect word eeg embedding dim to be 840, but got 0, return None\n",
      "expect word eeg embedding dim to be 840, but got 0, return None\n",
      "expect word eeg embedding dim to be 840, but got 0, return None\n",
      "expect word eeg embedding dim to be 840, but got 0, return None\n",
      "expect word eeg embedding dim to be 840, but got 0, return None\n",
      "expect word eeg embedding dim to be 840, but got 0, return None\n",
      "expect word eeg embedding dim to be 840, but got 0, return None\n",
      "expect word eeg embedding dim to be 840, but got 0, return None\n",
      "expect word eeg embedding dim to be 840, but got 0, return None\n",
      "expect word eeg embedding dim to be 840, but got 0, return None\n",
      "expect word eeg embedding dim to be 840, but got 0, return None\n",
      "expect word eeg embedding dim to be 840, but got 0, return None\n",
      "expect word eeg embedding dim to be 840, but got 0, return None\n",
      "expect word eeg embedding dim to be 840, but got 0, return None\n",
      "expect word eeg embedding dim to be 840, but got 0, return None\n",
      "expect word eeg embedding dim to be 840, but got 0, return None\n",
      "expect word eeg embedding dim to be 840, but got 0, return None\n",
      "expect word eeg embedding dim to be 840, but got 0, return None\n",
      "expect word eeg embedding dim to be 840, but got 0, return None\n",
      "expect word eeg embedding dim to be 840, but got 0, return None\n",
      "expect word eeg embedding dim to be 840, but got 0, return None\n",
      "expect word eeg embedding dim to be 840, but got 0, return None\n",
      "expect word eeg embedding dim to be 840, but got 0, return None\n",
      "expect word eeg embedding dim to be 840, but got 0, return None\n",
      "expect word eeg embedding dim to be 840, but got 0, return None\n",
      "expect word eeg embedding dim to be 840, but got 0, return None\n",
      "expect word eeg embedding dim to be 840, but got 0, return None\n",
      "expect word eeg embedding dim to be 840, but got 0, return None\n",
      "expect word eeg embedding dim to be 840, but got 0, return None\n",
      "expect word eeg embedding dim to be 840, but got 0, return None\n",
      "expect word eeg embedding dim to be 840, but got 0, return None\n",
      "expect word eeg embedding dim to be 840, but got 0, return None\n",
      "expect word eeg embedding dim to be 840, but got 0, return None\n",
      "expect word eeg embedding dim to be 840, but got 0, return None\n",
      "expect word eeg embedding dim to be 840, but got 0, return None\n",
      "expect word eeg embedding dim to be 840, but got 0, return None\n",
      "expect word eeg embedding dim to be 840, but got 0, return None\n",
      "expect word eeg embedding dim to be 840, but got 0, return None\n",
      "expect word eeg embedding dim to be 840, but got 0, return None\n",
      "expect word eeg embedding dim to be 840, but got 0, return None\n",
      "expect word eeg embedding dim to be 840, but got 0, return None\n",
      "expect word eeg embedding dim to be 840, but got 0, return None\n",
      "expect word eeg embedding dim to be 840, but got 0, return None\n",
      "expect word eeg embedding dim to be 840, but got 0, return None\n",
      "expect word eeg embedding dim to be 840, but got 0, return None\n",
      "expect word eeg embedding dim to be 840, but got 0, return None\n",
      "++ adding task to dataset, now we have: 4456\n",
      "[INFO]input tensor size: torch.Size([56, 840])\n",
      "\n"
     ]
    }
   ],
   "source": [
    "tokenizer = BartTokenizer.from_pretrained('facebook/bart-large')\n",
    "train_set = ZuCo_dataset(whole_dataset_dicts, 'train', tokenizer, subject = 'ALL', eeg_type = 'GD', bands = ['_t1','_t2','_a1','_a2','_b1','_b2','_g1','_g2'], setting = 'unique_sent', is_add_CLS_token = False)"
   ],
   "metadata": {
    "collapsed": false,
    "ExecuteTime": {
     "start_time": "2023-11-30T11:12:18.642699Z",
     "end_time": "2023-11-30T11:12:30.433575Z"
    }
   }
  },
  {
   "cell_type": "code",
   "execution_count": 10,
   "outputs": [
    {
     "data": {
      "text/plain": "['received',\n 'his',\n 'degree',\n '1965',\n \"master's\",\n 'degree',\n 'political',\n 'science',\n '1966',\n 'both',\n 'University',\n 'Wyoming.']"
     },
     "execution_count": 10,
     "metadata": {},
     "output_type": "execute_result"
    }
   ],
   "source": [
    "set = train_set.__getitem__(-1)\n",
    "set[-1]"
   ],
   "metadata": {
    "collapsed": false,
    "ExecuteTime": {
     "start_time": "2023-11-30T11:12:40.406532Z",
     "end_time": "2023-11-30T11:12:40.439540Z"
    }
   }
  },
  {
   "cell_type": "code",
   "execution_count": 9,
   "outputs": [],
   "source": [
    "\n",
    "\n",
    "def get_eeg_word_embedding(word, eeg_type = 'GD', bands = ['_t1','_t2','_a1','_a2','_b1','_b2','_g1','_g2']):\n",
    "    EEG_frequency_features = []\n",
    "    EEG_word_level_label = word['content']\n",
    "    for band in bands:\n",
    "        EEG_frequency_features.append(word['word_level_EEG'][eeg_type][eeg_type+band])\n",
    "    word_eeg_embedding = np.concatenate(EEG_frequency_features)\n",
    "    if len(word_eeg_embedding) != 105*len(bands):\n",
    "        print(f'expect word eeg embedding dim to be {105*len(bands)}, but got {len(word_eeg_embedding)}, return None')\n",
    "        word_eeg_embedding = None\n",
    "    else:\n",
    "        word_eeg_embedding = word_eeg_embedding.reshape(105, 8)\n",
    "\n",
    "    return word_eeg_embedding, EEG_word_level_label\n",
    "\n",
    "\n",
    "\n"
   ],
   "metadata": {
    "collapsed": false,
    "ExecuteTime": {
     "start_time": "2023-11-30T11:12:30.450103Z",
     "end_time": "2023-11-30T11:12:30.499899Z"
    }
   }
  },
  {
   "cell_type": "code",
   "execution_count": null,
   "outputs": [],
   "source": [
    "\n",
    "#print number of unique words in each task\n",
    "for Task_Dataset in Task_Dataset_List:\n",
    "    subjects = list(Task_Dataset.keys())\n",
    "    print('[INFO]using subjects: ', subjects)\n",
    "    total_num_sentence = len(Task_Dataset[subjects[0]])\n",
    "    print(f'[INFO]total number of sentences = {total_num_sentence}')\n",
    "    unique_words = set()\n",
    "    for key in subjects:\n",
    "        for i in range(total_num_sentence):\n",
    "            if Task_Dataset[key][i] is not None:\n",
    "                sentence_object = Task_Dataset[key][i]\n",
    "                for word in sentence_object['word']:\n",
    "                    unique_words.add(word['content'])\n",
    "    print(f'[INFO]total number of unique words = {len(unique_words)}')"
   ],
   "metadata": {
    "collapsed": false,
    "ExecuteTime": {
     "start_time": "2023-11-30T10:13:58.129454Z",
     "end_time": "2023-11-30T10:13:58.226976Z"
    }
   }
  },
  {
   "cell_type": "code",
   "execution_count": null,
   "outputs": [],
   "source": [
    "import torch\n",
    "\n",
    "#Main loop, looping through each task\n",
    "for Task_Dataset in Task_Dataset_List:\n",
    "    subjects = list(Task_Dataset.keys())\n",
    "    print('[INFO]using subjects: ', subjects)\n",
    "\n",
    "    total_num_sentence = len(Task_Dataset[subjects[0]])\n",
    "\n",
    "    train_divider = int(0.8*total_num_sentence)\n",
    "    dev_divider = train_divider + int(0.1*total_num_sentence)\n",
    "\n",
    "    print(f'train size = {train_divider}')\n",
    "    print(f'dev size = {dev_divider}')\n",
    "\n",
    "    EEG_word_level_embeddings = []\n",
    "    EEG_word_level_labels = []\n",
    "    print('[INFO]initializing a train set...')\n",
    "    for key in subjects:\n",
    "        print(f'key = {key}')\n",
    "        for i in range(train_divider):\n",
    "            if Task_Dataset[key][i] is not None:\n",
    "                sentence_object = Task_Dataset[key][i]\n",
    "                for word in sentence_object['word']:\n",
    "                    word_eeg_embedding, EEG_word_level_label = get_eeg_word_embedding(word)\n",
    "                    if word_eeg_embedding is not None and torch.isnan(torch.from_numpy(word_eeg_embedding)).any() == False:\n",
    "                        EEG_word_level_embeddings.append(word_eeg_embedding)\n",
    "                        EEG_word_level_labels.append(EEG_word_level_label)\n",
    "\n"
   ],
   "metadata": {
    "collapsed": false,
    "ExecuteTime": {
     "start_time": "2023-11-30T10:09:16.013980Z",
     "end_time": "2023-11-30T10:09:34.765819Z"
    }
   }
  },
  {
   "cell_type": "code",
   "execution_count": null,
   "outputs": [],
   "source": [
    "len(EEG_word_level_labels)\n",
    "#count unique items in list\n",
    "unique, counts = np.unique(EEG_word_level_labels, return_counts=True)\n",
    "print(len(unique))\n"
   ],
   "metadata": {
    "collapsed": false,
    "ExecuteTime": {
     "start_time": "2023-11-30T10:15:06.779979Z",
     "end_time": "2023-11-30T10:15:06.851774Z"
    }
   }
  },
  {
   "cell_type": "code",
   "execution_count": null,
   "outputs": [],
   "source": [
    "'''\n",
    "train_data = []\n",
    "for i in range(len(EEG_word_level_embeddings)):\n",
    "   train_data.append([EEG_word_level_embeddings[i], EEG_word_level_labels[i]])\n",
    "'''"
   ],
   "metadata": {
    "collapsed": false,
    "ExecuteTime": {
     "start_time": "2023-11-20T13:08:08.563536Z",
     "end_time": "2023-11-20T13:08:08.593593Z"
    }
   }
  },
  {
   "cell_type": "code",
   "execution_count": null,
   "outputs": [],
   "source": [],
   "metadata": {
    "collapsed": false,
    "ExecuteTime": {
     "start_time": "2023-11-30T10:09:43.649211Z",
     "end_time": "2023-11-30T10:09:43.683293Z"
    }
   }
  },
  {
   "cell_type": "code",
   "execution_count": null,
   "outputs": [],
   "source": [
    "'''\n",
    "# Save the lists to a file using pickle\n",
    "with open('EEG_Text_Pairs.pkl', 'wb') as file:\n",
    "    pickle.dump(EEG_word_level_embeddings, file)\n",
    "    pickle.dump(EEG_word_level_labels, file)\n",
    "\n",
    "# To load the lists from the file:\n",
    "with open('EEG_Text_Pairs.pkl', 'rb') as file:\n",
    "    EEG_word_level_embeddings = pickle.load(file)\n",
    "    EEG_word_level_labels = pickle.load(file)\n",
    "'''"
   ],
   "metadata": {
    "collapsed": false,
    "ExecuteTime": {
     "start_time": "2023-11-20T13:08:33.702027Z",
     "end_time": "2023-11-20T13:08:33.722919Z"
    }
   }
  },
  {
   "cell_type": "code",
   "execution_count": null,
   "outputs": [],
   "source": [
    "import torch\n",
    "\n",
    "trainloader = torch.utils.data.DataLoader(train_data, shuffle=True, batch_size=64)"
   ],
   "metadata": {
    "collapsed": false,
    "ExecuteTime": {
     "start_time": "2023-11-20T13:08:36.452532Z",
     "end_time": "2023-11-20T13:08:38.562553Z"
    }
   }
  },
  {
   "cell_type": "code",
   "execution_count": null,
   "outputs": [],
   "source": [
    "#sant"
   ],
   "metadata": {
    "collapsed": false,
    "ExecuteTime": {
     "start_time": "2023-11-08T14:45:16.996483Z",
     "end_time": "2023-11-08T14:45:17.009985Z"
    }
   }
  },
  {
   "cell_type": "code",
   "execution_count": null,
   "outputs": [],
   "source": [],
   "metadata": {
    "collapsed": false,
    "ExecuteTime": {
     "start_time": "2023-11-08T14:45:17.014943Z",
     "end_time": "2023-11-08T14:45:17.024566Z"
    }
   }
  }
 ],
 "metadata": {
  "kernelspec": {
   "display_name": "Python 3",
   "language": "python",
   "name": "python3"
  },
  "language_info": {
   "codemirror_mode": {
    "name": "ipython",
    "version": 2
   },
   "file_extension": ".py",
   "mimetype": "text/x-python",
   "name": "python",
   "nbconvert_exporter": "python",
   "pygments_lexer": "ipython2",
   "version": "2.7.6"
  }
 },
 "nbformat": 4,
 "nbformat_minor": 0
}
