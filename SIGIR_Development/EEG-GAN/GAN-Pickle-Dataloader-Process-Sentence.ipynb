{
 "cells": [
  {
   "cell_type": "code",
   "execution_count": 1,
   "metadata": {
    "collapsed": true,
    "ExecuteTime": {
     "start_time": "2024-04-16T10:55:08.135033Z",
     "end_time": "2024-04-16T10:55:15.918279Z"
    }
   },
   "outputs": [
    {
     "name": "stderr",
     "output_type": "stream",
     "text": [
      "[nltk_data] Downloading package punkt to\n",
      "[nltk_data]     C:\\Users\\gxb18167\\AppData\\Roaming\\nltk_data...\n",
      "[nltk_data]   Package punkt is already up-to-date!\n"
     ]
    },
    {
     "name": "stdout",
     "output_type": "stream",
     "text": [
      "2.0.1\n",
      "GPU Available: False\n"
     ]
    }
   ],
   "source": [
    "import pickle\n",
    "import numpy as np\n",
    "from config import get_config\n",
    "import generate_samples"
   ]
  },
  {
   "cell_type": "code",
   "execution_count": 2,
   "outputs": [],
   "source": [
    "from transformers import BertLMHeadModel, BartTokenizer\n",
    "from data import ZuCo_dataset"
   ],
   "metadata": {
    "collapsed": false,
    "ExecuteTime": {
     "start_time": "2024-04-16T10:55:15.913099Z",
     "end_time": "2024-04-16T10:55:18.325877Z"
    }
   }
  },
  {
   "cell_type": "code",
   "execution_count": 3,
   "outputs": [],
   "source": [
    "task_name = \"task1, task2, taskNRv2\""
   ],
   "metadata": {
    "collapsed": false,
    "ExecuteTime": {
     "start_time": "2024-04-16T10:55:18.336090Z",
     "end_time": "2024-04-16T10:55:18.339651Z"
    }
   }
  },
  {
   "cell_type": "code",
   "execution_count": 4,
   "outputs": [],
   "source": [
    "''' set up dataloader '''\n",
    "\n",
    "whole_dataset_dicts = []\n",
    "\n",
    "if 'task1' in task_name:\n",
    "    dataset_path_task1 = r'I:\\Science\\CIS-YASHMOSH\\niallmcguire\\ZuCo\\task1-SR\\pickle\\task1-SR-dataset.pickle'\n",
    "    with open(dataset_path_task1, 'rb') as handle:\n",
    "        whole_dataset_dicts.append(pickle.load(handle))\n",
    "\n",
    "if 'task2' in task_name:\n",
    "    dataset_path_task2 = r'I:\\Science\\CIS-YASHMOSH\\niallmcguire\\ZuCo\\task2-NR\\pickle\\task2-NR-dataset.pickle'\n",
    "    with open(dataset_path_task2, 'rb') as handle:\n",
    "        whole_dataset_dicts.append(pickle.load(handle))\n",
    "\n",
    "if 'task3' in task_name:\n",
    "    dataset_path_task3 = r'I:\\Science\\CIS-YASHMOSH\\niallmcguire\\ZuCo\\task3-TSR\\pickle\\task3-TSR-dataset.pickle'\n",
    "    with open(dataset_path_task3, 'rb') as handle:\n",
    "        whole_dataset_dicts.append(pickle.load(handle))\n",
    "\n",
    "if 'taskNRv2' in task_name:\n",
    "    dataset_path_taskNRv2 = r'I:\\Science\\CIS-YASHMOSH\\niallmcguire\\ZuCo\\task2-NR-2.0\\pickle\\task2-NR-2.0-dataset.pickle'\n",
    "    with open(dataset_path_taskNRv2, 'rb') as handle:\n",
    "        whole_dataset_dicts.append(pickle.load(handle))\n"
   ],
   "metadata": {
    "collapsed": false,
    "ExecuteTime": {
     "start_time": "2024-04-16T10:55:18.346282Z",
     "end_time": "2024-04-16T11:00:03.872454Z"
    }
   }
  },
  {
   "cell_type": "code",
   "execution_count": 5,
   "outputs": [
    {
     "name": "stdout",
     "output_type": "stream",
     "text": [
      "Loaded in 3 task datasets\n"
     ]
    }
   ],
   "source": [
    "print(\"Loaded in\", len(whole_dataset_dicts), \"task datasets\")"
   ],
   "metadata": {
    "collapsed": false,
    "ExecuteTime": {
     "start_time": "2024-04-16T11:00:03.880426Z",
     "end_time": "2024-04-16T11:00:03.941297Z"
    }
   }
  },
  {
   "cell_type": "code",
   "execution_count": 6,
   "outputs": [],
   "source": [
    "Task_Dataset_List = whole_dataset_dicts\n",
    "if not isinstance(whole_dataset_dicts,list):\n",
    "    Task_Dataset_List = [whole_dataset_dicts]"
   ],
   "metadata": {
    "collapsed": false,
    "ExecuteTime": {
     "start_time": "2024-04-16T11:00:03.904439Z",
     "end_time": "2024-04-16T11:00:03.942307Z"
    }
   }
  },
  {
   "cell_type": "code",
   "execution_count": 7,
   "outputs": [
    {
     "name": "stdout",
     "output_type": "stream",
     "text": [
      "[INFO]loading 3 task datasets\n",
      "[INFO]using subjects:  ['ZAB', 'ZDM', 'ZDN', 'ZGW', 'ZJM', 'ZJN', 'ZJS', 'ZKB', 'ZKH', 'ZMG', 'ZPH']\n",
      "train divider = 320\n",
      "dev divider = 360\n",
      "[INFO]initializing a train set...\n",
      "discard length zero instance:  Weiss and Speck never make a convincing case for the relevance of these two 20th-century footnotes.\n",
      "discard length zero instance:  Reassuring, retro uplifter.\n",
      "discard length zero instance:  Flaccid drama and exasperatingly slow journey.\n",
      "++ adding task to dataset, now we have: 3290\n",
      "[INFO]using subjects:  ['ZAB', 'ZDM', 'ZDN', 'ZGW', 'ZJM', 'ZJN', 'ZJS', 'ZKB', 'ZKH', 'ZKW', 'ZMG', 'ZPH']\n",
      "train divider = 240\n",
      "dev divider = 270\n",
      "[INFO]initializing a train set...\n",
      "discard length zero instance:  He was a member of the famous Huxley family who produced a number of brilliant scientific minds.\n",
      "discard length zero instance:  His brother Julian Huxley was a biologist also noted for his evolutionary theories.\n",
      "discard length zero instance:  Senator from Connecticut and a Wall Street executive banker with Brown Brothers Harriman.\n",
      "discard length zero instance:  The same year, he renounced his Wuerttemberg citizenship and became stateless.\n",
      "discard length zero instance:  On May 14, 1904, the couple's first son, Hans Albert Einstein, was born.\n",
      "discard length zero instance:  Miguel played the drums on Keith Moon's Two Sides of the Moon.\n",
      "discard length zero instance:  Miguel played the role of Dr. Garret Macy in NBC's drama Crossing Jordan.\n",
      "discard length zero instance:  Senator James Lloyd resigned, and Hindman was named to finish his term.\n",
      "discard length zero instance:  He served in the United States Senate from December of 1800 until November of 1801.\n",
      "discard length zero instance:  Albert's sister Maja was to later marry their son Paul, and his friend Michele Besso married their other daughter Anna.\n",
      "discard length zero instance:  The same year, he renounced his Wuerttemberg citizenship and became stateless.\n",
      "++ adding task to dataset, now we have: 5935\n",
      "[INFO]using subjects:  ['YAC', 'YAG', 'YAK', 'YDG', 'YDR', 'YFR', 'YFS', 'YHS', 'YIS', 'YLS', 'YMD', 'YMS', 'YRH', 'YRK', 'YRP', 'YSD', 'YSL', 'YTL']\n",
      "train divider = 279\n",
      "dev divider = 313\n",
      "[INFO]initializing a train set...\n",
      "expect word eeg embedding dim to be 840, but got 0, return None\n",
      "expect word eeg embedding dim to be 840, but got 0, return None\n",
      "expect word eeg embedding dim to be 840, but got 0, return None\n",
      "expect word eeg embedding dim to be 840, but got 0, return None\n",
      "expect word eeg embedding dim to be 840, but got 0, return None\n",
      "expect word eeg embedding dim to be 840, but got 0, return None\n",
      "expect word eeg embedding dim to be 840, but got 0, return None\n",
      "expect word eeg embedding dim to be 840, but got 0, return None\n",
      "expect word eeg embedding dim to be 840, but got 0, return None\n",
      "expect word eeg embedding dim to be 840, but got 0, return None\n",
      "expect word eeg embedding dim to be 840, but got 0, return None\n",
      "expect word eeg embedding dim to be 840, but got 0, return None\n",
      "expect word eeg embedding dim to be 840, but got 0, return None\n",
      "expect word eeg embedding dim to be 840, but got 0, return None\n",
      "expect word eeg embedding dim to be 840, but got 0, return None\n",
      "expect word eeg embedding dim to be 840, but got 0, return None\n",
      "expect word eeg embedding dim to be 840, but got 0, return None\n",
      "expect word eeg embedding dim to be 840, but got 0, return None\n",
      "expect word eeg embedding dim to be 840, but got 0, return None\n",
      "expect word eeg embedding dim to be 840, but got 0, return None\n",
      "expect word eeg embedding dim to be 840, but got 0, return None\n",
      "expect word eeg embedding dim to be 840, but got 0, return None\n",
      "expect word eeg embedding dim to be 840, but got 0, return None\n",
      "expect word eeg embedding dim to be 840, but got 0, return None\n",
      "expect word eeg embedding dim to be 840, but got 0, return None\n",
      "expect word eeg embedding dim to be 840, but got 0, return None\n",
      "expect word eeg embedding dim to be 840, but got 0, return None\n",
      "expect word eeg embedding dim to be 840, but got 0, return None\n",
      "expect word eeg embedding dim to be 840, but got 0, return None\n",
      "expect word eeg embedding dim to be 840, but got 0, return None\n",
      "expect word eeg embedding dim to be 840, but got 0, return None\n",
      "expect word eeg embedding dim to be 840, but got 0, return None\n",
      "expect word eeg embedding dim to be 840, but got 0, return None\n",
      "expect word eeg embedding dim to be 840, but got 0, return None\n",
      "expect word eeg embedding dim to be 840, but got 0, return None\n",
      "expect word eeg embedding dim to be 840, but got 0, return None\n",
      "expect word eeg embedding dim to be 840, but got 0, return None\n",
      "expect word eeg embedding dim to be 840, but got 0, return None\n",
      "expect word eeg embedding dim to be 840, but got 0, return None\n",
      "expect word eeg embedding dim to be 840, but got 0, return None\n",
      "expect word eeg embedding dim to be 840, but got 0, return None\n",
      "expect word eeg embedding dim to be 840, but got 0, return None\n",
      "expect word eeg embedding dim to be 840, but got 0, return None\n",
      "expect word eeg embedding dim to be 840, but got 0, return None\n",
      "expect word eeg embedding dim to be 840, but got 0, return None\n",
      "expect word eeg embedding dim to be 840, but got 0, return None\n",
      "expect word eeg embedding dim to be 840, but got 0, return None\n",
      "expect word eeg embedding dim to be 840, but got 0, return None\n",
      "expect word eeg embedding dim to be 840, but got 0, return None\n",
      "expect word eeg embedding dim to be 840, but got 0, return None\n",
      "expect word eeg embedding dim to be 840, but got 0, return None\n",
      "expect word eeg embedding dim to be 840, but got 0, return None\n",
      "expect word eeg embedding dim to be 840, but got 0, return None\n",
      "expect word eeg embedding dim to be 840, but got 0, return None\n",
      "expect word eeg embedding dim to be 840, but got 0, return None\n",
      "expect word eeg embedding dim to be 840, but got 0, return None\n",
      "expect word eeg embedding dim to be 840, but got 0, return None\n",
      "expect word eeg embedding dim to be 840, but got 0, return None\n",
      "expect word eeg embedding dim to be 840, but got 0, return None\n",
      "expect word eeg embedding dim to be 840, but got 0, return None\n",
      "expect word eeg embedding dim to be 840, but got 0, return None\n",
      "expect word eeg embedding dim to be 840, but got 0, return None\n",
      "expect word eeg embedding dim to be 840, but got 0, return None\n",
      "expect word eeg embedding dim to be 840, but got 0, return None\n",
      "expect word eeg embedding dim to be 840, but got 0, return None\n",
      "expect word eeg embedding dim to be 840, but got 0, return None\n",
      "expect word eeg embedding dim to be 840, but got 0, return None\n",
      "expect word eeg embedding dim to be 840, but got 0, return None\n",
      "expect word eeg embedding dim to be 840, but got 0, return None\n",
      "expect word eeg embedding dim to be 840, but got 0, return None\n",
      "expect word eeg embedding dim to be 840, but got 0, return None\n",
      "expect word eeg embedding dim to be 840, but got 0, return None\n",
      "expect word eeg embedding dim to be 840, but got 0, return None\n",
      "expect word eeg embedding dim to be 840, but got 0, return None\n",
      "expect word eeg embedding dim to be 840, but got 0, return None\n",
      "expect word eeg embedding dim to be 840, but got 0, return None\n",
      "expect word eeg embedding dim to be 840, but got 0, return None\n",
      "expect word eeg embedding dim to be 840, but got 0, return None\n",
      "expect word eeg embedding dim to be 840, but got 0, return None\n",
      "expect word eeg embedding dim to be 840, but got 0, return None\n",
      "expect word eeg embedding dim to be 840, but got 0, return None\n",
      "expect word eeg embedding dim to be 840, but got 0, return None\n",
      "expect word eeg embedding dim to be 840, but got 0, return None\n",
      "expect word eeg embedding dim to be 840, but got 0, return None\n",
      "expect word eeg embedding dim to be 840, but got 0, return None\n",
      "expect word eeg embedding dim to be 840, but got 0, return None\n",
      "expect word eeg embedding dim to be 840, but got 0, return None\n",
      "expect word eeg embedding dim to be 840, but got 0, return None\n",
      "expect word eeg embedding dim to be 840, but got 0, return None\n",
      "expect word eeg embedding dim to be 840, but got 0, return None\n",
      "expect word eeg embedding dim to be 840, but got 0, return None\n",
      "expect word eeg embedding dim to be 840, but got 0, return None\n",
      "expect word eeg embedding dim to be 840, but got 0, return None\n",
      "expect word eeg embedding dim to be 840, but got 0, return None\n",
      "expect word eeg embedding dim to be 840, but got 0, return None\n",
      "expect word eeg embedding dim to be 840, but got 0, return None\n",
      "expect word eeg embedding dim to be 840, but got 0, return None\n",
      "expect word eeg embedding dim to be 840, but got 0, return None\n",
      "expect word eeg embedding dim to be 840, but got 0, return None\n",
      "expect word eeg embedding dim to be 840, but got 0, return None\n",
      "expect word eeg embedding dim to be 840, but got 0, return None\n",
      "expect word eeg embedding dim to be 840, but got 0, return None\n",
      "expect word eeg embedding dim to be 840, but got 0, return None\n",
      "expect word eeg embedding dim to be 840, but got 0, return None\n",
      "expect word eeg embedding dim to be 840, but got 0, return None\n",
      "expect word eeg embedding dim to be 840, but got 0, return None\n",
      "expect word eeg embedding dim to be 840, but got 0, return None\n",
      "expect word eeg embedding dim to be 840, but got 0, return None\n",
      "expect word eeg embedding dim to be 840, but got 0, return None\n",
      "expect word eeg embedding dim to be 840, but got 0, return None\n",
      "expect word eeg embedding dim to be 840, but got 0, return None\n",
      "expect word eeg embedding dim to be 840, but got 0, return None\n",
      "expect word eeg embedding dim to be 840, but got 0, return None\n",
      "expect word eeg embedding dim to be 840, but got 0, return None\n",
      "expect word eeg embedding dim to be 840, but got 0, return None\n",
      "expect word eeg embedding dim to be 840, but got 0, return None\n",
      "expect word eeg embedding dim to be 840, but got 0, return None\n",
      "expect word eeg embedding dim to be 840, but got 0, return None\n",
      "expect word eeg embedding dim to be 840, but got 0, return None\n",
      "expect word eeg embedding dim to be 840, but got 0, return None\n",
      "expect word eeg embedding dim to be 840, but got 0, return None\n",
      "expect word eeg embedding dim to be 840, but got 0, return None\n",
      "expect word eeg embedding dim to be 840, but got 0, return None\n",
      "expect word eeg embedding dim to be 840, but got 0, return None\n",
      "expect word eeg embedding dim to be 840, but got 0, return None\n",
      "expect word eeg embedding dim to be 840, but got 0, return None\n",
      "expect word eeg embedding dim to be 840, but got 0, return None\n",
      "expect word eeg embedding dim to be 840, but got 0, return None\n",
      "expect word eeg embedding dim to be 840, but got 0, return None\n",
      "expect word eeg embedding dim to be 840, but got 0, return None\n",
      "expect word eeg embedding dim to be 840, but got 0, return None\n",
      "expect word eeg embedding dim to be 840, but got 0, return None\n",
      "expect word eeg embedding dim to be 840, but got 0, return None\n",
      "expect word eeg embedding dim to be 840, but got 0, return None\n",
      "expect word eeg embedding dim to be 840, but got 0, return None\n",
      "expect word eeg embedding dim to be 840, but got 0, return None\n",
      "expect word eeg embedding dim to be 840, but got 0, return None\n",
      "expect word eeg embedding dim to be 840, but got 0, return None\n",
      "expect word eeg embedding dim to be 840, but got 0, return None\n",
      "expect word eeg embedding dim to be 840, but got 0, return None\n",
      "expect word eeg embedding dim to be 840, but got 0, return None\n",
      "expect word eeg embedding dim to be 840, but got 0, return None\n",
      "expect word eeg embedding dim to be 840, but got 0, return None\n",
      "expect word eeg embedding dim to be 840, but got 0, return None\n",
      "expect word eeg embedding dim to be 840, but got 0, return None\n",
      "expect word eeg embedding dim to be 840, but got 0, return None\n",
      "expect word eeg embedding dim to be 840, but got 0, return None\n",
      "expect word eeg embedding dim to be 840, but got 0, return None\n",
      "expect word eeg embedding dim to be 840, but got 0, return None\n",
      "expect word eeg embedding dim to be 840, but got 0, return None\n",
      "expect word eeg embedding dim to be 840, but got 0, return None\n",
      "expect word eeg embedding dim to be 840, but got 0, return None\n",
      "expect word eeg embedding dim to be 840, but got 0, return None\n",
      "expect word eeg embedding dim to be 840, but got 0, return None\n",
      "expect word eeg embedding dim to be 840, but got 0, return None\n",
      "expect word eeg embedding dim to be 840, but got 0, return None\n",
      "expect word eeg embedding dim to be 840, but got 0, return None\n",
      "expect word eeg embedding dim to be 840, but got 0, return None\n",
      "expect word eeg embedding dim to be 840, but got 0, return None\n",
      "expect word eeg embedding dim to be 840, but got 0, return None\n",
      "expect word eeg embedding dim to be 840, but got 0, return None\n",
      "expect word eeg embedding dim to be 840, but got 0, return None\n",
      "expect word eeg embedding dim to be 840, but got 0, return None\n",
      "++ adding task to dataset, now we have: 10391\n",
      "[INFO]input tensor size: torch.Size([56, 840])\n",
      "\n"
     ]
    }
   ],
   "source": [
    "tokenizer = BartTokenizer.from_pretrained('facebook/bart-large')\n",
    "train_set = ZuCo_dataset(whole_dataset_dicts, 'train', tokenizer, subject = 'ALL', eeg_type = 'GD', bands = ['_t1','_t2','_a1','_a2','_b1','_b2','_g1','_g2'], setting = 'unique_sent', is_add_CLS_token = False)"
   ],
   "metadata": {
    "collapsed": false,
    "ExecuteTime": {
     "start_time": "2024-04-16T11:00:03.923026Z",
     "end_time": "2024-04-16T11:01:16.658692Z"
    }
   }
  },
  {
   "cell_type": "code",
   "execution_count": 8,
   "outputs": [
    {
     "data": {
      "text/plain": "10391"
     },
     "execution_count": 8,
     "metadata": {},
     "output_type": "execute_result"
    }
   ],
   "source": [
    "len(train_set)"
   ],
   "metadata": {
    "collapsed": false,
    "ExecuteTime": {
     "start_time": "2024-04-16T11:01:16.674321Z",
     "end_time": "2024-04-16T11:01:16.705484Z"
    }
   }
  },
  {
   "cell_type": "code",
   "execution_count": 8,
   "outputs": [],
   "source": [],
   "metadata": {
    "collapsed": false,
    "ExecuteTime": {
     "start_time": "2024-04-16T11:01:16.689946Z",
     "end_time": "2024-04-16T11:01:16.705484Z"
    }
   }
  },
  {
   "cell_type": "code",
   "execution_count": 8,
   "outputs": [],
   "source": [],
   "metadata": {
    "collapsed": false,
    "ExecuteTime": {
     "start_time": "2024-04-16T11:01:16.705484Z",
     "end_time": "2024-04-16T11:01:16.722187Z"
    }
   }
  },
  {
   "cell_type": "code",
   "execution_count": 8,
   "outputs": [],
   "source": [],
   "metadata": {
    "collapsed": false,
    "ExecuteTime": {
     "start_time": "2024-04-16T11:01:16.722187Z",
     "end_time": "2024-04-16T11:01:16.737216Z"
    }
   }
  },
  {
   "cell_type": "code",
   "execution_count": 8,
   "outputs": [],
   "source": [],
   "metadata": {
    "collapsed": false,
    "ExecuteTime": {
     "start_time": "2024-04-16T11:01:16.737216Z",
     "end_time": "2024-04-16T11:01:16.768699Z"
    }
   }
  },
  {
   "cell_type": "code",
   "execution_count": 8,
   "outputs": [],
   "source": [],
   "metadata": {
    "collapsed": false,
    "ExecuteTime": {
     "start_time": "2024-04-16T11:01:16.753641Z",
     "end_time": "2024-04-16T11:01:16.768699Z"
    }
   }
  },
  {
   "cell_type": "code",
   "execution_count": 8,
   "outputs": [],
   "source": [],
   "metadata": {
    "collapsed": false,
    "ExecuteTime": {
     "start_time": "2024-04-16T11:01:16.768699Z",
     "end_time": "2024-04-16T11:01:16.784374Z"
    }
   }
  },
  {
   "cell_type": "code",
   "execution_count": 8,
   "outputs": [],
   "source": [],
   "metadata": {
    "collapsed": false,
    "ExecuteTime": {
     "start_time": "2024-04-16T11:01:16.784374Z",
     "end_time": "2024-04-16T11:01:16.805521Z"
    }
   }
  },
  {
   "cell_type": "code",
   "execution_count": 8,
   "outputs": [],
   "source": [],
   "metadata": {
    "collapsed": false,
    "ExecuteTime": {
     "start_time": "2024-04-16T11:01:16.805521Z",
     "end_time": "2024-04-16T11:01:16.818851Z"
    }
   }
  },
  {
   "cell_type": "code",
   "execution_count": 8,
   "outputs": [],
   "source": [],
   "metadata": {
    "collapsed": false,
    "ExecuteTime": {
     "start_time": "2024-04-16T11:01:16.818851Z",
     "end_time": "2024-04-16T11:01:16.832691Z"
    }
   }
  },
  {
   "cell_type": "code",
   "execution_count": 9,
   "outputs": [],
   "source": [
    "\n",
    "\n",
    "def get_eeg_word_embedding(word, eeg_type = 'GD', bands = ['_t1','_t2','_a1','_a2','_b1','_b2','_g1','_g2']):\n",
    "    EEG_frequency_features = []\n",
    "    EEG_word_level_label = word['content']\n",
    "    for band in bands:\n",
    "        EEG_frequency_features.append(word['word_level_EEG'][eeg_type][eeg_type+band])\n",
    "    word_eeg_embedding = np.concatenate(EEG_frequency_features)\n",
    "    if len(word_eeg_embedding) != 105*len(bands):\n",
    "        print(f'expect word eeg embedding dim to be {105*len(bands)}, but got {len(word_eeg_embedding)}, return None')\n",
    "        word_eeg_embedding = None\n",
    "    else:\n",
    "        word_eeg_embedding = word_eeg_embedding.reshape(105, 8)\n",
    "\n",
    "    return word_eeg_embedding, EEG_word_level_label\n",
    "\n",
    "\n",
    "\n"
   ],
   "metadata": {
    "collapsed": false,
    "ExecuteTime": {
     "start_time": "2024-04-16T11:01:16.851440Z",
     "end_time": "2024-04-16T11:01:16.864774Z"
    }
   }
  },
  {
   "cell_type": "code",
   "execution_count": 10,
   "outputs": [
    {
     "name": "stdout",
     "output_type": "stream",
     "text": [
      "[INFO]using subjects:  ['ZAB', 'ZDM', 'ZDN', 'ZGW', 'ZJM', 'ZJN', 'ZJS', 'ZKB', 'ZKH', 'ZMG', 'ZPH']\n",
      "[INFO]total number of sentences = 400\n",
      "[INFO]total number of unique words = 3092\n",
      "[INFO]using subjects:  ['ZAB', 'ZDM', 'ZDN', 'ZGW', 'ZJM', 'ZJN', 'ZJS', 'ZKB', 'ZKH', 'ZKW', 'ZMG', 'ZPH']\n",
      "[INFO]total number of sentences = 300\n",
      "[INFO]total number of unique words = 2714\n",
      "[INFO]using subjects:  ['YAC', 'YAG', 'YAK', 'YDG', 'YDR', 'YFR', 'YFS', 'YHS', 'YIS', 'YLS', 'YMD', 'YMS', 'YRH', 'YRK', 'YRP', 'YSD', 'YSL', 'YTL']\n",
      "[INFO]total number of sentences = 349\n",
      "[INFO]total number of unique words = 2863\n"
     ]
    }
   ],
   "source": [
    "\n",
    "#print number of unique words in each task\n",
    "for Task_Dataset in Task_Dataset_List:\n",
    "    subjects = list(Task_Dataset.keys())\n",
    "    print('[INFO]using subjects: ', subjects)\n",
    "    total_num_sentence = len(Task_Dataset[subjects[0]])\n",
    "    print(f'[INFO]total number of sentences = {total_num_sentence}')\n",
    "    unique_words = set()\n",
    "    for key in subjects:\n",
    "        for i in range(total_num_sentence):\n",
    "            if Task_Dataset[key][i] is not None:\n",
    "                sentence_object = Task_Dataset[key][i]\n",
    "                for word in sentence_object['word']:\n",
    "                    unique_words.add(word['content'])\n",
    "    print(f'[INFO]total number of unique words = {len(unique_words)}')"
   ],
   "metadata": {
    "collapsed": false,
    "ExecuteTime": {
     "start_time": "2024-04-16T11:01:16.872994Z",
     "end_time": "2024-04-16T11:01:19.074629Z"
    }
   }
  },
  {
   "cell_type": "code",
   "execution_count": 13,
   "outputs": [
    {
     "name": "stdout",
     "output_type": "stream",
     "text": [
      "[INFO]using subjects:  ['ZAB', 'ZDM', 'ZDN', 'ZGW', 'ZJM', 'ZJN', 'ZJS', 'ZKB', 'ZKH', 'ZMG', 'ZPH']\n",
      "train size = 320\n",
      "dev size = 360\n",
      "[INFO]initializing a train set...\n",
      "key = ZAB\n",
      "key = ZDM\n",
      "key = ZDN\n",
      "key = ZGW\n",
      "key = ZJM\n",
      "key = ZJN\n",
      "key = ZJS\n",
      "key = ZKB\n",
      "key = ZKH\n",
      "key = ZMG\n",
      "key = ZPH\n",
      "[INFO]using subjects:  ['ZAB', 'ZDM', 'ZDN', 'ZGW', 'ZJM', 'ZJN', 'ZJS', 'ZKB', 'ZKH', 'ZKW', 'ZMG', 'ZPH']\n",
      "train size = 240\n",
      "dev size = 270\n",
      "[INFO]initializing a train set...\n",
      "key = ZAB\n",
      "key = ZDM\n",
      "key = ZDN\n",
      "key = ZGW\n",
      "key = ZJM\n",
      "key = ZJN\n",
      "key = ZJS\n",
      "key = ZKB\n",
      "key = ZKH\n",
      "key = ZKW\n",
      "key = ZMG\n",
      "key = ZPH\n",
      "[INFO]using subjects:  ['YAC', 'YAG', 'YAK', 'YDG', 'YDR', 'YFR', 'YFS', 'YHS', 'YIS', 'YLS', 'YMD', 'YMS', 'YRH', 'YRK', 'YRP', 'YSD', 'YSL', 'YTL']\n",
      "train size = 279\n",
      "dev size = 313\n",
      "[INFO]initializing a train set...\n",
      "key = YAC\n",
      "expect word eeg embedding dim to be 840, but got 0, return None\n",
      "expect word eeg embedding dim to be 840, but got 0, return None\n",
      "key = YAG\n",
      "expect word eeg embedding dim to be 840, but got 0, return None\n",
      "expect word eeg embedding dim to be 840, but got 0, return None\n",
      "key = YAK\n",
      "expect word eeg embedding dim to be 840, but got 0, return None\n",
      "expect word eeg embedding dim to be 840, but got 0, return None\n",
      "key = YDG\n",
      "expect word eeg embedding dim to be 840, but got 0, return None\n",
      "expect word eeg embedding dim to be 840, but got 0, return None\n",
      "key = YDR\n",
      "expect word eeg embedding dim to be 840, but got 0, return None\n",
      "key = YFR\n",
      "expect word eeg embedding dim to be 840, but got 0, return None\n",
      "expect word eeg embedding dim to be 840, but got 0, return None\n",
      "key = YFS\n",
      "expect word eeg embedding dim to be 840, but got 0, return None\n",
      "expect word eeg embedding dim to be 840, but got 0, return None\n",
      "key = YHS\n",
      "expect word eeg embedding dim to be 840, but got 0, return None\n",
      "expect word eeg embedding dim to be 840, but got 0, return None\n",
      "key = YIS\n",
      "expect word eeg embedding dim to be 840, but got 0, return None\n",
      "expect word eeg embedding dim to be 840, but got 0, return None\n",
      "key = YLS\n",
      "expect word eeg embedding dim to be 840, but got 0, return None\n",
      "expect word eeg embedding dim to be 840, but got 0, return None\n",
      "key = YMD\n",
      "expect word eeg embedding dim to be 840, but got 0, return None\n",
      "expect word eeg embedding dim to be 840, but got 0, return None\n",
      "key = YMS\n",
      "expect word eeg embedding dim to be 840, but got 0, return None\n",
      "expect word eeg embedding dim to be 840, but got 0, return None\n",
      "key = YRH\n",
      "expect word eeg embedding dim to be 840, but got 0, return None\n",
      "expect word eeg embedding dim to be 840, but got 0, return None\n",
      "key = YRK\n",
      "expect word eeg embedding dim to be 840, but got 0, return None\n",
      "expect word eeg embedding dim to be 840, but got 0, return None\n",
      "key = YRP\n",
      "expect word eeg embedding dim to be 840, but got 0, return None\n",
      "expect word eeg embedding dim to be 840, but got 0, return None\n",
      "key = YSD\n",
      "expect word eeg embedding dim to be 840, but got 0, return None\n",
      "expect word eeg embedding dim to be 840, but got 0, return None\n",
      "key = YSL\n",
      "expect word eeg embedding dim to be 840, but got 0, return None\n",
      "expect word eeg embedding dim to be 840, but got 0, return None\n",
      "key = YTL\n",
      "expect word eeg embedding dim to be 840, but got 0, return None\n",
      "expect word eeg embedding dim to be 840, but got 0, return None\n"
     ]
    }
   ],
   "source": [
    "import torch\n",
    "EEG_word_level_embeddings = []\n",
    "EEG_word_level_labels = []\n",
    "#Main loop, looping through each task\n",
    "for Task_Dataset in Task_Dataset_List:\n",
    "    subjects = list(Task_Dataset.keys())\n",
    "    print('[INFO]using subjects: ', subjects)\n",
    "\n",
    "    total_num_sentence = len(Task_Dataset[subjects[0]])\n",
    "\n",
    "    train_divider = int(0.8*total_num_sentence)\n",
    "    dev_divider = train_divider + int(0.1*total_num_sentence)\n",
    "\n",
    "    print(f'train size = {train_divider}')\n",
    "    print(f'dev size = {dev_divider}')\n",
    "\n",
    "\n",
    "    print('[INFO]initializing a train set...')\n",
    "\n",
    "\n",
    "    for key in subjects:\n",
    "        print(f'key = {key}')\n",
    "        #creating test set\n",
    "        for i in range(dev_divider, total_num_sentence):\n",
    "            if Task_Dataset[key][i] is not None:\n",
    "                sentence_object = Task_Dataset[key][i]\n",
    "\n",
    "\n",
    "                Sentence_EEG_word_level_embeddings = []\n",
    "                Sentence_word_level_labels = []\n",
    "\n",
    "                Sentence_word_level_labels.append(\"SOS\")\n",
    "                for word in sentence_object['word']:\n",
    "\n",
    "                    word_eeg_embedding, EEG_word_level_label = get_eeg_word_embedding(word)\n",
    "\n",
    "                    if word_eeg_embedding is not None and torch.isnan(torch.from_numpy(word_eeg_embedding)).any() == False:\n",
    "                        Sentence_EEG_word_level_embeddings.append(word_eeg_embedding)\n",
    "                        Sentence_word_level_labels.append(EEG_word_level_label)\n",
    "                    else:\n",
    "                        Sentence_EEG_word_level_embeddings = []\n",
    "                        Sentence_word_level_labels = []\n",
    "                        break\n",
    "\n",
    "                for word_label in Sentence_word_level_labels:\n",
    "                    EEG_word_level_labels.append(word_label)\n",
    "                for word_embedding in Sentence_EEG_word_level_embeddings:\n",
    "                    EEG_word_level_embeddings.append(word_embedding)\n",
    "\n",
    "\n",
    "\n",
    "\n",
    "\n"
   ],
   "metadata": {
    "collapsed": false,
    "ExecuteTime": {
     "start_time": "2024-04-16T11:04:54.680986Z",
     "end_time": "2024-04-16T11:04:57.633758Z"
    }
   }
  },
  {
   "cell_type": "code",
   "execution_count": 14,
   "outputs": [
    {
     "data": {
      "text/plain": "18041"
     },
     "execution_count": 14,
     "metadata": {},
     "output_type": "execute_result"
    }
   ],
   "source": [
    "len(EEG_word_level_embeddings)"
   ],
   "metadata": {
    "collapsed": false,
    "ExecuteTime": {
     "start_time": "2024-04-16T11:04:59.661837Z",
     "end_time": "2024-04-16T11:04:59.678061Z"
    }
   }
  },
  {
   "cell_type": "code",
   "execution_count": 15,
   "outputs": [
    {
     "name": "stdout",
     "output_type": "stream",
     "text": [
      "1186\n"
     ]
    }
   ],
   "source": [
    "len(EEG_word_level_labels)\n",
    "#count unique items in list\n",
    "unique, counts = np.unique(EEG_word_level_labels, return_counts=True)\n",
    "print(len(unique))\n"
   ],
   "metadata": {
    "collapsed": false,
    "ExecuteTime": {
     "start_time": "2024-04-16T11:05:00.706969Z",
     "end_time": "2024-04-16T11:05:00.737625Z"
    }
   }
  },
  {
   "cell_type": "code",
   "execution_count": 16,
   "outputs": [
    {
     "data": {
      "text/plain": "'\\ntrain_data = []\\nfor i in range(len(EEG_word_level_embeddings)):\\n   train_data.append([EEG_word_level_embeddings[i], EEG_word_level_labels[i]])\\n'"
     },
     "execution_count": 16,
     "metadata": {},
     "output_type": "execute_result"
    }
   ],
   "source": [
    "'''\n",
    "train_data = []\n",
    "for i in range(len(EEG_word_level_embeddings)):\n",
    "   train_data.append([EEG_word_level_embeddings[i], EEG_word_level_labels[i]])\n",
    "'''"
   ],
   "metadata": {
    "collapsed": false,
    "ExecuteTime": {
     "start_time": "2024-04-16T11:05:01.700945Z",
     "end_time": "2024-04-16T11:05:01.764792Z"
    }
   }
  },
  {
   "cell_type": "code",
   "execution_count": 16,
   "outputs": [],
   "source": [],
   "metadata": {
    "collapsed": false,
    "ExecuteTime": {
     "start_time": "2024-04-16T11:05:03.484526Z",
     "end_time": "2024-04-16T11:05:03.507745Z"
    }
   }
  },
  {
   "cell_type": "code",
   "execution_count": 17,
   "outputs": [],
   "source": [
    "\n",
    "# Save the lists to a file using pickle\n",
    "with open('Test_EEG_Text_Pairs_Sentence.pkl', 'wb') as file:\n",
    "    pickle.dump(EEG_word_level_embeddings, file)\n",
    "    pickle.dump(EEG_word_level_labels, file)\n",
    "\n",
    "# To load the lists from the file:\n",
    "with open('Test_EEG_Text_Pairs_Sentence.pkl', 'rb') as file:\n",
    "    EEG_word_level_embeddings = pickle.load(file)\n",
    "    EEG_word_level_labels = pickle.load(file)\n"
   ],
   "metadata": {
    "collapsed": false,
    "ExecuteTime": {
     "start_time": "2024-04-16T11:05:04.704300Z",
     "end_time": "2024-04-16T11:05:05.165384Z"
    }
   }
  },
  {
   "cell_type": "code",
   "execution_count": 18,
   "outputs": [
    {
     "data": {
      "text/plain": "['SOS',\n 'Everything',\n 'implies,',\n 'standard-issue',\n 'crime',\n 'drama',\n 'spat',\n 'out',\n 'the',\n 'Tinseltown',\n 'assembly',\n 'line.',\n 'SOS',\n 'odd,',\n 'poetic',\n 'road',\n 'spiked',\n 'jolts',\n 'of',\n 'music,',\n 'pretty',\n 'takes',\n 'in',\n \"Morton's\",\n 'ever-watchful',\n 'gaze',\n 'a',\n 'tribute',\n 'actress,',\n 'to',\n 'her',\n 'inventive',\n 'director,',\n 'the',\n 'journey',\n 'such',\n 'mesmerizing',\n 'one.',\n 'SOS',\n 'Co-writer/director',\n 'Jonathan',\n \"Parker's\",\n 'attempts',\n 'to',\n 'fashion',\n 'Brazil-like,',\n 'hyper-real',\n 'satire',\n 'fall',\n 'dreadfully',\n 'short.',\n 'SOS',\n 'amateurish,',\n 'quasi-improvised',\n 'acting',\n 'exercise',\n 'shot',\n 'on',\n 'ugly',\n 'digital',\n 'video.',\n 'SOS',\n 'Kid',\n 'Stays',\n 'in',\n \"Picture''\",\n 'a',\n 'story,',\n 'terrifically',\n 'told',\n 'by',\n 'man',\n 'wrote',\n 'but',\n 'this',\n 'Cliff',\n 'Notes',\n 'edition',\n 'is',\n 'cheat.',\n 'SOS',\n 'gratingly',\n 'unfunny',\n 'groaner',\n 'littered',\n 'zero-dimensional,',\n 'unlikable',\n 'characters',\n 'hackneyed,',\n 'threadbare',\n 'comic',\n 'setups.',\n 'SOS',\n 'While',\n 'this',\n 'gentle',\n 'and',\n 'affecting',\n 'melodrama',\n 'have',\n 'luvvies',\n 'raptures,',\n 'far',\n 'slight',\n 'and',\n 'introspective',\n 'appeal',\n 'anything',\n 'wider',\n 'niche',\n 'audience.',\n 'SOS',\n 'Griffin',\n 'Co.',\n 'manage',\n 'spectacularly',\n 'outrageous.',\n 'SOS',\n 'profoundly',\n 'stupid',\n 'affair,',\n 'populating',\n 'its',\n 'hackneyed',\n 'and',\n 'meanspirited',\n 'storyline',\n 'with',\n 'cardboard',\n 'characters',\n 'performers',\n 'who',\n 'value',\n 'cash',\n 'above',\n 'credibility.',\n 'SOS',\n 'Warm',\n 'Water',\n 'Under',\n 'Red',\n 'quirky',\n 'poignant',\n 'Japanese',\n 'film',\n 'explores',\n 'fascinating',\n 'connections',\n 'between',\n 'women,',\n 'water,',\n 'nature,',\n 'sexuality.',\n 'SOS',\n \"isn't\",\n 'that',\n 'Stealing',\n 'Harvard',\n 'a',\n 'horrible',\n 'movie',\n 'it',\n 'that',\n 'grand',\n 'failure!',\n 'SOS',\n 'just',\n \"doesn't\",\n 'have',\n 'else...',\n 'especially',\n 'moral',\n 'sense.',\n 'SOS',\n 'Those',\n 'unfamiliar',\n 'Mormon',\n 'traditions',\n 'find',\n 'The',\n 'Singles',\n 'Ward',\n 'occasionally',\n 'bewildering.',\n 'SOS',\n 'Viewed',\n 'a',\n 'comedy,',\n 'romance,',\n 'fairy',\n 'tale,',\n 'a',\n 'drama,',\n \"there's\",\n 'nothing',\n 'remotely',\n 'triumphant',\n 'about',\n 'motion',\n 'picture.',\n 'SOS',\n 'the',\n 'talented',\n 'alone',\n 'keep',\n 'watching,',\n 'will',\n 'fight',\n 'scenes.',\n 'SOS',\n \"It's\",\n 'solid',\n 'affecting',\n 'exactly',\n 'thought-provoking',\n 'should',\n 'SOS',\n 'Thanks',\n 'largely',\n 'Williams,',\n 'the',\n 'interesting',\n 'developments',\n 'processed',\n 'in',\n 'minutes',\n 'rest',\n 'an',\n 'overexposed',\n 'waste',\n 'SOS',\n 'perfectly',\n 'captures',\n 'hotel',\n 'lobbies,',\n 'two-lane',\n 'highways,',\n 'roadside',\n 'cafes',\n 'that',\n 'permeate',\n \"Vincent's\",\n 'days',\n 'SOS',\n 'important',\n 'a',\n 'reminder',\n 'power',\n 'film',\n 'us',\n 'and',\n 'make',\n 'examine',\n 'values.',\n 'SOS',\n 'much',\n 'this',\n 'well-acted',\n 'but',\n 'dangerously',\n 'slow',\n 'thriller',\n 'like',\n 'a',\n 'preamble',\n 'bigger,',\n 'more',\n 'complicated',\n 'story,',\n 'that',\n 'never',\n 'materializes.',\n 'SOS',\n 'richly',\n 'imagined',\n 'and',\n 'admirably',\n 'mature',\n 'from',\n 'gifted',\n 'director',\n 'who',\n 'definitely',\n 'something',\n 'his',\n 'SOS',\n 'art',\n 'direction',\n 'often',\n 'the',\n 'anthropomorphic',\n 'animal',\n 'characters',\n 'beautifully',\n 'makeup',\n 'design,',\n 'leaving',\n 'one',\n 'that',\n 'eventual',\n 'DVD',\n 'release',\n 'offer',\n 'subtitles',\n 'and',\n 'the',\n 'original',\n 'Italian-language',\n 'soundtrack.',\n 'SOS',\n 'Jones,',\n 'despite',\n 'definitely',\n 'distinctive',\n 'screen',\n 'presence,',\n \"isn't\",\n 'able',\n 'muster',\n 'a',\n 'that,',\n 'title',\n 'notwithstanding,',\n 'should',\n 'been',\n 'nastier',\n 'wanted',\n 'to',\n 'capitalize',\n \"lead's\",\n 'specific',\n 'SOS',\n \"what's\",\n 'nice',\n \"there's\",\n 'a',\n 'intelligence',\n 'permeates',\n 'the',\n 'script.',\n 'SOS',\n 'Wedding',\n 'feels',\n 'a',\n 'anachronistic.',\n 'SOS',\n 'action/thriller',\n 'of',\n 'finest',\n 'kind,',\n 'evoking',\n 'memories',\n 'of',\n 'Jackal,',\n 'French',\n 'Connection,',\n 'Heat.',\n 'SOS',\n 'picture',\n 'is',\n 'murder',\n 'by',\n 'and',\n 'easy',\n 'bored',\n 'as',\n 'your',\n \"ABC's,\",\n 'despite',\n 'a',\n 'whopping',\n 'shootouts.',\n 'SOS',\n 'Every',\n 'individual',\n 'will',\n 'the',\n 'movie',\n 'through',\n 'prism',\n 'or',\n 'beliefs',\n 'prejudices,',\n 'one',\n 'thing',\n 'most',\n 'will',\n 'take',\n 'is',\n 'sense',\n 'that',\n 'peace',\n 'possible.',\n 'SOS',\n 'Feels',\n 'slight,',\n 'it',\n 'were',\n 'an',\n 'extended',\n 'short,',\n 'albeit',\n 'one',\n 'made',\n 'by',\n 'smartest',\n 'kids',\n 'class.',\n 'SOS',\n 'picture',\n \"doesn't\",\n 'know',\n \"it's\",\n 'a',\n 'comedy.',\n 'SOS',\n 'classy',\n 'item',\n 'legend',\n 'may',\n 'nothing',\n 'to',\n 'prove',\n 'but',\n 'has',\n 'chops',\n 'drive',\n 'show',\n 'its',\n 'done.',\n 'SOS',\n 'Starts',\n 'mediocre,',\n 'downward,',\n 'thuds',\n 'the',\n 'bottom',\n 'pool',\n 'an',\n 'utterly',\n 'incompetent',\n 'conclusion.',\n 'SOS',\n 'sort',\n 'of',\n 'movie',\n 'that',\n 'gives',\n 'tastelessness',\n 'bad',\n 'SOS',\n 'engaging',\n 'simplicity',\n 'driven',\n 'appealing',\n 'leads.',\n 'SOS',\n 'Fans',\n 'of',\n 'TV',\n 'series',\n 'will',\n 'disappointed,',\n 'everyone',\n 'will',\n 'slightly',\n 'bored.',\n 'SOS',\n 'a',\n 'head-turner',\n 'thoughtfully',\n 'written,',\n 'beautifully',\n 'read',\n 'and,',\n 'finally,',\n 'deeply',\n 'humanizing.',\n 'SOS',\n 'Bray',\n 'is',\n 'completely',\n 'at',\n 'sea;',\n 'nothing',\n 'but',\n 'Savage',\n 'Garden',\n 'music',\n 'video',\n 'his',\n 'resume,',\n 'has',\n 'clue',\n 'about',\n 'making',\n 'movie.',\n 'SOS',\n 'not',\n 'particularly',\n 'good',\n 'film,',\n 'neither',\n 'a',\n 'monsterous',\n 'SOS',\n 'sci-fi',\n 'comedy',\n 'spectacle',\n 'as',\n 'Whiffle-Ball',\n 'epic.',\n 'SOS',\n 'Martyr',\n 'royally',\n 'screwed',\n 'comes',\n 'back',\n 'more.',\n 'SOS',\n 'Everything',\n 'its',\n 'implies,',\n 'standard-issue',\n 'crime',\n 'out',\n 'from',\n 'Tinseltown',\n 'assembly',\n 'SOS',\n 'odd,',\n 'poetic',\n 'road',\n 'movie,',\n 'of',\n 'pop',\n 'pretty',\n 'much',\n 'takes',\n 'place',\n \"Morton's\",\n \"it's\",\n 'tribute',\n 'actress,',\n 'to',\n 'inventive',\n 'that',\n 'such',\n 'mesmerizing',\n 'SOS',\n 'Co-writer/director',\n \"Parker's\",\n 'attempts',\n 'to',\n 'fashion',\n 'Brazil-like,',\n 'hyper-real',\n 'satire',\n 'fall',\n 'dreadfully',\n 'SOS',\n 'amateurish,',\n 'quasi-improvised',\n 'acting',\n 'exercise',\n 'shot',\n 'digital',\n 'video.',\n 'SOS',\n 'Kid',\n 'Stays',\n 'in',\n \"Picture''\",\n 'a',\n 'great',\n 'terrifically',\n 'the',\n 'who',\n 'but',\n 'Cliff',\n 'edition',\n 'a',\n 'SOS',\n 'gratingly',\n 'unfunny',\n 'littered',\n 'with',\n 'zero-dimensional,',\n 'unlikable',\n 'characters',\n 'and',\n 'hackneyed,',\n 'threadbare',\n 'SOS',\n 'gentle',\n 'and',\n 'affecting',\n 'melodrama',\n 'will',\n 'have',\n 'luvvies',\n 'raptures,',\n 'far',\n 'and',\n 'introspective',\n 'anything',\n 'than',\n 'audience.',\n 'SOS',\n 'Co.',\n 'manage',\n 'be',\n 'spectacularly',\n 'outrageous.',\n 'SOS',\n 'profoundly',\n 'stupid',\n 'affair,',\n 'populating',\n 'its',\n 'hackneyed',\n 'and',\n 'meanspirited',\n 'storyline',\n 'with',\n 'cardboard',\n 'characters',\n 'value',\n 'above',\n 'credibility.',\n 'SOS',\n 'Water',\n 'Red',\n 'a',\n 'quirky',\n 'and',\n 'explores',\n 'fascinating',\n 'women,',\n 'water,',\n 'nature,',\n 'sexuality.',\n 'SOS',\n \"isn't\",\n 'that',\n 'Stealing',\n 'Harvard',\n 'horrible',\n 'movie',\n 'it',\n 'were',\n 'that',\n 'grand',\n 'a',\n 'SOS',\n \"doesn't\",\n 'else...',\n 'especially',\n 'a',\n 'sense.',\n 'SOS',\n 'unfamiliar',\n 'Mormon',\n 'traditions',\n 'find',\n 'The',\n 'Ward',\n 'occasionally',\n 'bewildering.',\n 'SOS',\n 'Viewed',\n 'as',\n 'a',\n 'comedy,',\n 'a',\n 'romance,',\n 'fairy',\n 'tale,',\n 'or',\n 'a',\n \"there's\",\n 'nothing',\n 'triumphant',\n 'about',\n 'SOS',\n 'the',\n 'cast',\n 'alone',\n 'keep',\n 'watching,',\n 'fight',\n 'scenes.',\n 'SOS',\n 'solid',\n 'and',\n 'affecting',\n 'and',\n 'exactly',\n 'thought-provoking',\n 'should',\n 'be.',\n 'SOS',\n 'Thanks',\n 'largely',\n 'interesting',\n 'developments',\n 'processed',\n 'the',\n 'is',\n 'overexposed',\n 'waste',\n 'of',\n 'SOS',\n 'perfectly',\n 'captures',\n 'hotel',\n 'lobbies,',\n 'two-lane',\n 'highways,',\n 'cafes',\n 'SOS',\n 'important',\n 'movie,',\n 'reminder',\n 'the',\n 'power',\n 'of',\n 'move',\n 'and',\n 'make',\n 'examine',\n 'our',\n 'values.',\n 'SOS',\n 'much',\n 'well-acted',\n 'dangerously',\n 'slow',\n 'like',\n 'preamble',\n 'to',\n 'bigger,',\n 'materializes.',\n 'SOS',\n 'richly',\n 'imagined',\n 'and',\n 'admirably',\n 'mature',\n 'work',\n 'from',\n 'director',\n 'definitely',\n 'something',\n 'on',\n 'his',\n 'SOS',\n 'art',\n 'direction',\n 'often',\n 'exquisite,',\n 'the',\n 'anthropomorphic',\n 'animal',\n 'characters',\n 'beautifully',\n 'realized',\n 'clever',\n 'makeup',\n 'design,',\n 'leaving',\n 'hope',\n 'that',\n 'the',\n 'release',\n 'will',\n 'subtitles',\n 'and',\n 'Italian-language',\n 'soundtrack.',\n 'SOS',\n 'Jones,',\n 'despite',\n 'a',\n 'definitely',\n 'distinctive',\n \"isn't\",\n 'able',\n 'muster',\n 'for',\n 'that,',\n 'its',\n 'title',\n 'notwithstanding,',\n 'been',\n 'capitalize',\n 'specific',\n 'SOS',\n \"what's\",\n 'nice',\n 'that',\n \"there's\",\n 'casual',\n 'intelligence',\n 'permeates',\n 'the',\n 'script.',\n 'SOS',\n 'Wedding',\n 'feels',\n 'bit',\n 'anachronistic.',\n 'SOS',\n 'of',\n 'finest',\n 'evoking',\n 'memories',\n 'of',\n 'Jackal,',\n 'French',\n 'SOS',\n 'individual',\n 'will',\n 'see',\n 'movie',\n 'the',\n 'prism',\n 'or',\n 'own',\n 'and',\n 'prejudices,',\n 'will',\n 'take',\n 'away',\n 'sense',\n 'that',\n 'peace',\n 'possible.',\n 'SOS',\n 'slight,',\n 'as',\n 'if',\n 'were',\n 'extended',\n 'short,',\n 'albeit',\n 'by',\n 'smartest',\n 'kids',\n 'in',\n 'SOS',\n 'picture',\n \"doesn't\",\n 'know',\n \"it's\",\n 'comedy.',\n 'SOS',\n 'classy',\n 'who',\n 'nothing',\n 'but',\n 'still',\n 'drive',\n 'show',\n 'done.',\n 'SOS',\n 'mediocre,',\n 'downward,',\n 'thuds',\n 'bottom',\n 'the',\n 'an',\n 'incompetent',\n 'SOS',\n 'sort',\n 'of',\n 'movie',\n 'that',\n 'gives',\n 'tastelessness',\n 'a',\n 'SOS',\n 'engaging',\n 'simplicity',\n 'by',\n 'appealing',\n 'leads.',\n 'SOS',\n 'Fans',\n 'the',\n 'series',\n 'will',\n 'disappointed,',\n 'and',\n 'else',\n 'be',\n 'slightly',\n 'bored.',\n 'SOS',\n 'head-turner',\n 'thoughtfully',\n 'written,',\n 'beautifully',\n 'humanizing.',\n 'SOS',\n 'Bray',\n 'is',\n 'completely',\n 'at',\n 'with',\n 'but',\n 'Savage',\n 'music',\n 'video',\n 'has',\n 'clue',\n 'movie.',\n 'SOS',\n 'not',\n 'particularly',\n 'but',\n 'neither',\n 'is',\n 'monsterous',\n 'SOS',\n 'Black',\n 'achieves',\n 'insignificance',\n 'comedy',\n 'Whiffle-Ball',\n 'SOS',\n 'Martyr',\n 'gets',\n 'screwed',\n 'comes',\n 'back',\n 'SOS',\n 'Everything',\n 'its',\n 'implies,',\n 'standard-issue',\n 'drama',\n 'Tinseltown',\n 'assembly',\n 'SOS',\n 'odd,',\n 'road',\n 'movie,',\n 'spiked',\n 'jolts',\n 'of',\n 'pop',\n 'pretty',\n 'takes',\n 'place',\n \"Morton's\",\n 'ever-watchful',\n 'SOS',\n 'Co-writer/director',\n 'Jonathan',\n \"Parker's\",\n 'attempts',\n 'fashion',\n 'Brazil-like,',\n 'SOS',\n 'amateurish,',\n 'quasi-improvised',\n 'acting',\n 'exercise',\n 'video.',\n 'SOS',\n 'Kid',\n 'Stays',\n 'the',\n \"Picture''\",\n 'is',\n 'a',\n 'great',\n 'story,',\n 'terrifically',\n 'told',\n 'who',\n 'this',\n 'Notes',\n 'SOS',\n 'this',\n 'gentle',\n 'and',\n 'affecting',\n 'melodrama',\n 'have',\n 'SOS',\n 'Co.',\n 'manage',\n 'be',\n 'spectacularly',\n 'outrageous.',\n 'SOS',\n 'profoundly',\n 'stupid',\n ...]"
     },
     "execution_count": 18,
     "metadata": {},
     "output_type": "execute_result"
    }
   ],
   "source": [
    "EEG_word_level_labels"
   ],
   "metadata": {
    "collapsed": false,
    "ExecuteTime": {
     "start_time": "2024-04-16T11:05:08.043826Z",
     "end_time": "2024-04-16T11:05:08.092478Z"
    }
   }
  },
  {
   "cell_type": "code",
   "execution_count": null,
   "outputs": [],
   "source": [
    "#sant"
   ],
   "metadata": {
    "collapsed": false,
    "ExecuteTime": {
     "start_time": "2023-11-30T14:54:37.406730Z",
     "end_time": "2023-11-30T14:54:37.439372Z"
    }
   }
  },
  {
   "cell_type": "code",
   "execution_count": null,
   "outputs": [],
   "source": [],
   "metadata": {
    "collapsed": false,
    "ExecuteTime": {
     "start_time": "2023-11-30T14:54:37.422809Z",
     "end_time": "2023-11-30T14:54:37.471930Z"
    }
   }
  }
 ],
 "metadata": {
  "kernelspec": {
   "display_name": "Python 3",
   "language": "python",
   "name": "python3"
  },
  "language_info": {
   "codemirror_mode": {
    "name": "ipython",
    "version": 2
   },
   "file_extension": ".py",
   "mimetype": "text/x-python",
   "name": "python",
   "nbconvert_exporter": "python",
   "pygments_lexer": "ipython2",
   "version": "2.7.6"
  }
 },
 "nbformat": 4,
 "nbformat_minor": 0
}
