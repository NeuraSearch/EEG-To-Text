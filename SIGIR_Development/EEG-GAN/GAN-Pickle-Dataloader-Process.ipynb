{
 "cells": [
  {
   "cell_type": "code",
   "execution_count": 1,
   "metadata": {
    "collapsed": true,
    "ExecuteTime": {
     "start_time": "2023-11-30T11:10:10.079219Z",
     "end_time": "2023-11-30T11:10:10.377612Z"
    }
   },
   "outputs": [],
   "source": [
    "import pickle\n",
    "import numpy as np\n",
    "from config import get_config"
   ]
  },
  {
   "cell_type": "code",
   "execution_count": 2,
   "outputs": [],
   "source": [
    "from transformers import BertLMHeadModel, BartTokenizer\n",
    "from data import ZuCo_dataset"
   ],
   "metadata": {
    "collapsed": false,
    "ExecuteTime": {
     "start_time": "2023-11-30T11:10:10.381038Z",
     "end_time": "2023-11-30T11:10:15.715960Z"
    }
   }
  },
  {
   "cell_type": "code",
   "execution_count": 3,
   "outputs": [],
   "source": [
    "task_name = \"task1, task2, taskNRv2\""
   ],
   "metadata": {
    "collapsed": false,
    "ExecuteTime": {
     "start_time": "2023-11-30T11:10:15.715960Z",
     "end_time": "2023-11-30T11:10:15.732380Z"
    }
   }
  },
  {
   "cell_type": "code",
   "execution_count": 4,
   "outputs": [],
   "source": [
    "''' set up dataloader '''\n",
    "\n",
    "whole_dataset_dicts = []\n",
    "'''\n",
    "if 'task1' in task_name:\n",
    "    dataset_path_task1 = r'I:\\Science\\CIS-YASHMOSH\\niallmcguire\\ZuCo\\task1-SR\\pickle\\task1-SR-dataset.pickle'\n",
    "    with open(dataset_path_task1, 'rb') as handle:\n",
    "        whole_dataset_dicts.append(pickle.load(handle))\n",
    "\n",
    "if 'task2' in task_name:\n",
    "    dataset_path_task2 = r'I:\\Science\\CIS-YASHMOSH\\niallmcguire\\ZuCo\\task2-NR\\pickle\\task2-NR-dataset.pickle'\n",
    "    with open(dataset_path_task2, 'rb') as handle:\n",
    "        whole_dataset_dicts.append(pickle.load(handle))\n",
    "\n",
    "if 'task3' in task_name:\n",
    "    dataset_path_task3 = r'I:\\Science\\CIS-YASHMOSH\\niallmcguire\\ZuCo\\task3-TSR\\pickle\\task3-TSR-dataset.pickle'\n",
    "    with open(dataset_path_task3, 'rb') as handle:\n",
    "        whole_dataset_dicts.append(pickle.load(handle))\n",
    "'''\n",
    "if 'taskNRv2' in task_name:\n",
    "    dataset_path_taskNRv2 = r'I:\\Science\\CIS-YASHMOSH\\niallmcguire\\ZuCo\\task2-NR-2.0\\pickle\\task2-NR-2.0-dataset.pickle'\n",
    "    with open(dataset_path_taskNRv2, 'rb') as handle:\n",
    "        whole_dataset_dicts.append(pickle.load(handle))\n"
   ],
   "metadata": {
    "collapsed": false,
    "ExecuteTime": {
     "start_time": "2023-11-30T11:10:15.732380Z",
     "end_time": "2023-11-30T11:12:18.604159Z"
    }
   }
  },
  {
   "cell_type": "code",
   "execution_count": 5,
   "outputs": [
    {
     "name": "stdout",
     "output_type": "stream",
     "text": [
      "Loaded in 1 task datasets\n"
     ]
    }
   ],
   "source": [
    "print(\"Loaded in\", len(whole_dataset_dicts), \"task datasets\")"
   ],
   "metadata": {
    "collapsed": false,
    "ExecuteTime": {
     "start_time": "2023-11-30T11:12:18.604159Z",
     "end_time": "2023-11-30T11:12:18.621513Z"
    }
   }
  },
  {
   "cell_type": "code",
   "execution_count": 6,
   "outputs": [],
   "source": [
    "Task_Dataset_List = whole_dataset_dicts\n",
    "if not isinstance(whole_dataset_dicts,list):\n",
    "    Task_Dataset_List = [whole_dataset_dicts]"
   ],
   "metadata": {
    "collapsed": false,
    "ExecuteTime": {
     "start_time": "2023-11-30T11:12:18.621513Z",
     "end_time": "2023-11-30T11:12:18.674133Z"
    }
   }
  },
  {
   "cell_type": "code",
   "execution_count": 7,
   "outputs": [
    {
     "name": "stdout",
     "output_type": "stream",
     "text": [
      "[INFO]loading 1 task datasets\n",
      "[INFO]using subjects:  ['YAC', 'YAG', 'YAK', 'YDG', 'YDR', 'YFR', 'YFS', 'YHS', 'YIS', 'YLS', 'YMD', 'YMS', 'YRH', 'YRK', 'YRP', 'YSD', 'YSL', 'YTL']\n",
      "train divider = 279\n",
      "dev divider = 313\n",
      "[INFO]initializing a train set...\n",
      "['Henry', 'Ford,', 'with', 'son', 'Edsel,', 'founded', 'Ford', 'Foundation', 'in', '1936', 'local', 'philanthropic', 'organization', 'broad', 'charter', 'promote', 'human', 'welfare.']\n",
      "['this', 'initial', 'success,', 'Ford', 'left', 'Edison', 'Illuminating', 'and,', 'with', 'other', 'investors,', 'formed', 'Detroit', 'Automobile', 'Company.']\n",
      "['With', 'his', 'interest', 'race', 'cars,', 'formed', 'second', 'company,', 'Henry', 'Ford', 'Company.']\n",
      "['During', 'this', 'period,', 'personally', 'drove', 'his', 'Quadricycle', 'victory', 'a', 'race', 'against', 'Alexander', 'Winton,', 'well-known', 'driver', 'heavy', 'favorite', 'on', 'October', '10,', '1901.']\n",
      "['Ford', 'was', 'forced', 'of', 'the', 'company', 'by', 'investors,', 'including', 'Henry', 'M.', 'Leland', 'in', '1902,', 'and', 'company', 'reorganized', 'Cadillac.']\n",
      "['1891,', 'Ford', 'became', 'an', 'engineer', 'with', 'the', 'Edison', 'Illuminating', 'Company,', 'after', 'promotion', 'Chief', 'Engineer', '1893,', 'had', 'enough', 'and', 'money', 'devote', 'attention', 'personal', 'experiments', 'internal', 'combustion', 'engines.']\n",
      "['experiments', 'culminated', '1896', 'the', 'completion', 'his', 'own', 'self-propelled', 'vehicle', 'named', 'the', 'Quadricycle,']\n",
      "['Ford', 'was', 'born', 'on', 'prosperous', 'farm', 'Springwells', 'Township', 'Dearborn,', 'Michigan)', 'parents,', 'William', 'Ford', '(1826-1905)', 'Mary', 'Litogot', '(c1839-1876),', 'County', 'Cork,', 'Ireland.']\n",
      "['the', 'years', 'between', 'wars,', 'Henry', 'Ford', 'supported', 'Adolf', \"Hitler's\", 'Nazi', 'regime.']\n",
      "['is', 'also', 'some', 'evidence', 'Henry', 'gave', 'Adolf', 'Hitler', 'direct', 'financial', 'backing', 'Hitler', 'was', 'first', 'starting', 'out', 'politics.']\n",
      "['can', 'part', 'traced', 'statements', 'from', 'Kurt', 'Ludecke,', \"Germany's\", 'representative', 'the', 'U.S.', 'the', '1920s,', 'Winifred', 'Wagner,', 'daughter-in-law', 'Richard', 'Wagner,', 'said', 'they', 'requested', 'funds', 'Ford', 'aid', 'the', 'National', 'Socialist', 'movement', 'Germany.']\n",
      "['Although', 'Ford', 'often', 'credited', 'the', 'idea,', 'contemporary', 'sources', 'indicate', 'the', 'concept', 'its', 'development', 'came', 'employees', 'Clarence', 'Avery,', 'Peter', 'Martin,', 'Charles', 'Sorensen,', 'C.H.', 'Wills.']\n",
      "['Henry', 'Ford', 'advocated', 'long-time', 'associate', 'Harry', 'Bennett', 'to', 'take', 'spot.']\n",
      "[\"Edsel's\", 'widow', 'Eleanor,', 'had', 'inherited', \"Edsel's\", 'voting', 'stock,', 'wanted', 'son', 'Henry', 'II', 'take', 'over', 'position.']\n",
      "expect word eeg embedding dim to be 840, but got 0, return None\n",
      "['Alexander', 'Rae', 'Baldwin', 'III', '(born', 'April', '3,', '1958,', 'Massapequa,', 'Long', 'Island,', 'New', 'York,', 'USA)', 'is', 'an', 'American', 'actor', 'who', 'the', 'oldest', 'best', 'known', 'the', '\"Baldwin', 'brothers\",', 'brothers', 'Daniel,', 'Stephen', 'William.']\n",
      "['is', 'of', 'three', 'quarters', 'Irish', 'one', 'quarter', 'French', 'descent.']\n",
      "['Baldwin', 'has', 'appeared', 'movies', 'such', 'The', 'Cooler,', 'The', 'Hunt', 'Red', 'October,', 'Beetlejuice,', 'Ghosts', 'Mississippi,', 'Talk', 'Radio,', 'Final', 'Fantasy:', 'Spirits', 'Within', '(voice),', 'Cat', 'Hat,', 'Pearl', 'Harbor,', 'Thomas', 'the', 'Magic', 'Railroad,', 'Along', 'Came', 'Polly,', 'SpongeBob', 'SquarePants', 'Movie,', 'The', 'Aviator.']\n",
      "['Baldwin', 'young,', 'had', 'job', 'a', 'busboy', 'at', 'famous', 'New', 'York', 'City', 'disco', 'Studio', '54.']\n",
      "['He', 'was', 'married', 'actress', 'Kim', 'Basinger', 'from', '1993', '2002.']\n",
      "['liberal', 'Democrat,', 'always', 'had', 'active', 'interest', 'in', 'politics', 'frequently', 'rumored', 'to', 'be', 'candidate', 'public', 'office.']\n",
      "['particular,', 'Baldwin', 'one', 'of', 'frequent', 'hosts', 'of', 'Saturday', 'Night', 'Live,', 'leading', 'show', 'eleven', 'also', 'making', 'cameo', 'appearances', 'regularly.']\n",
      "['played', 'William', 'Barrett', 'Travis', 'movie', 'about', 'Alamo', 'called', 'Thirteen', 'Days', 'Glory.']\n",
      "['1998,', 'he', 'began', 'narrating', 'American', 'version', \"children's\", 'series', 'Thomas', 'Tank', 'Engine', 'Friends.']\n",
      "['infamous', 'his', '1994', 'on', 'Night', 'Live', 'potrays', 'Armstrong,', 'scoutmaster', 'who', 'pedophile,', 'rips', 'shirt', 'puts', 'mouth', 'around', 'Adam', \"Sandler's\", 'neck.']\n",
      "expect word eeg embedding dim to be 840, but got 0, return None\n",
      "['1954', 'she,', 'along', 'Bing', 'Crosby,', 'Danny', 'Kaye,', 'and', 'Vera-Ellen,', 'starred', 'movie', 'White', 'Christmas.']\n",
      "[\"Clooney's\", 'first', 'recordings,', 'May', 'of', '1946', 'were', 'Columbia', 'Records', 'as', 'singer', 'the', 'band', 'Tony', 'Pastor.']\n",
      "['Rosemary', 'Clooney', 'married', 'times,', 'twice', 'Jose', 'Ferrer', '(from', '1953', '1961', 'then', 'again', 'from', '1964', '1967)', 'whom', 'had', 'five', 'including', 'actor', 'Miguel', 'Ferrer,', 'born', '1955,', 'Gabriel', 'Ferrer,', 'born', '1956,', 'who', 'married', 'Debby', 'Boone,', 'once', 'Dante', 'DePaolo', '(whom', 'married', '1997).']\n",
      "['Rosemary,', 'Betty,', 'and', 'brother,', 'Nick,', 'well', 'as', 'George', 'Clooney', \"(Nick's\", 'son),', 'became', 'entertainers.']\n",
      "['1945', 'Clooney', 'sisters', 'won', 'a', 'spot', \"Cincinnati's\", 'radio', 'station', 'WLW', 'singers.']\n",
      "['She', 'was', 'Maysville,', 'Kentucky,', 'about', '60', 'Ohio', 'River', 'Cincinnati,', 'Ohio', 'Andrew', 'Joseph', 'Clooney', 'and', 'Frances', 'Marie', 'Guilfoyle,', 'of', 'whom', 'Irish', 'descent', \"(Rosemary's\", 'paternal', 'great-grandparents,', 'Nicholas', 'Clooney', 'Bridget', 'were', 'born', 'Ireland),', 'although', 'paternal', 'grandmother,', 'Crescentia', 'Koch,', 'German.']\n",
      "['Clooney', 'left', 'Columbia,', 'doing', 'number', 'recordings', 'MGM', 'Records', 'then', 'for', 'Coral', 'Records.']\n",
      "['Finally,', 'toward', 'the', 'of', '1958,', 'she', 'with', 'RCA', 'Victor', 'Records,', 'where', 'she', 'stayed', 'until', '1963', 'except', 'doing', 'Reprise', 'Records.']\n",
      "['In', '1964', 'to', 'Reprise', 'shifting', 'the', 'year', 'to', 'Dot', 'Records.']\n",
      "['1966', 'went', 'to', 'United', 'Artists', 'Records.']\n",
      "expect word eeg embedding dim to be 840, but got 0, return None\n",
      "expect word eeg embedding dim to be 840, but got 0, return None\n",
      "expect word eeg embedding dim to be 840, but got 0, return None\n",
      "expect word eeg embedding dim to be 840, but got 0, return None\n",
      "expect word eeg embedding dim to be 840, but got 0, return None\n",
      "expect word eeg embedding dim to be 840, but got 0, return None\n",
      "expect word eeg embedding dim to be 840, but got 0, return None\n",
      "expect word eeg embedding dim to be 840, but got 0, return None\n",
      "expect word eeg embedding dim to be 840, but got 0, return None\n",
      "expect word eeg embedding dim to be 840, but got 0, return None\n",
      "expect word eeg embedding dim to be 840, but got 0, return None\n",
      "expect word eeg embedding dim to be 840, but got 0, return None\n",
      "expect word eeg embedding dim to be 840, but got 0, return None\n",
      "expect word eeg embedding dim to be 840, but got 0, return None\n",
      "expect word eeg embedding dim to be 840, but got 0, return None\n",
      "expect word eeg embedding dim to be 840, but got 0, return None\n",
      "expect word eeg embedding dim to be 840, but got 0, return None\n",
      "expect word eeg embedding dim to be 840, but got 0, return None\n",
      "expect word eeg embedding dim to be 840, but got 0, return None\n",
      "expect word eeg embedding dim to be 840, but got 0, return None\n",
      "expect word eeg embedding dim to be 840, but got 0, return None\n",
      "expect word eeg embedding dim to be 840, but got 0, return None\n",
      "expect word eeg embedding dim to be 840, but got 0, return None\n",
      "expect word eeg embedding dim to be 840, but got 0, return None\n",
      "expect word eeg embedding dim to be 840, but got 0, return None\n",
      "expect word eeg embedding dim to be 840, but got 0, return None\n",
      "expect word eeg embedding dim to be 840, but got 0, return None\n",
      "expect word eeg embedding dim to be 840, but got 0, return None\n",
      "expect word eeg embedding dim to be 840, but got 0, return None\n",
      "expect word eeg embedding dim to be 840, but got 0, return None\n",
      "expect word eeg embedding dim to be 840, but got 0, return None\n",
      "expect word eeg embedding dim to be 840, but got 0, return None\n",
      "expect word eeg embedding dim to be 840, but got 0, return None\n",
      "expect word eeg embedding dim to be 840, but got 0, return None\n",
      "expect word eeg embedding dim to be 840, but got 0, return None\n",
      "expect word eeg embedding dim to be 840, but got 0, return None\n",
      "expect word eeg embedding dim to be 840, but got 0, return None\n",
      "expect word eeg embedding dim to be 840, but got 0, return None\n",
      "expect word eeg embedding dim to be 840, but got 0, return None\n",
      "expect word eeg embedding dim to be 840, but got 0, return None\n",
      "expect word eeg embedding dim to be 840, but got 0, return None\n",
      "expect word eeg embedding dim to be 840, but got 0, return None\n",
      "expect word eeg embedding dim to be 840, but got 0, return None\n",
      "expect word eeg embedding dim to be 840, but got 0, return None\n",
      "expect word eeg embedding dim to be 840, but got 0, return None\n",
      "expect word eeg embedding dim to be 840, but got 0, return None\n",
      "expect word eeg embedding dim to be 840, but got 0, return None\n",
      "expect word eeg embedding dim to be 840, but got 0, return None\n",
      "expect word eeg embedding dim to be 840, but got 0, return None\n",
      "expect word eeg embedding dim to be 840, but got 0, return None\n",
      "expect word eeg embedding dim to be 840, but got 0, return None\n",
      "expect word eeg embedding dim to be 840, but got 0, return None\n",
      "expect word eeg embedding dim to be 840, but got 0, return None\n",
      "expect word eeg embedding dim to be 840, but got 0, return None\n",
      "expect word eeg embedding dim to be 840, but got 0, return None\n",
      "expect word eeg embedding dim to be 840, but got 0, return None\n",
      "expect word eeg embedding dim to be 840, but got 0, return None\n",
      "expect word eeg embedding dim to be 840, but got 0, return None\n",
      "expect word eeg embedding dim to be 840, but got 0, return None\n",
      "expect word eeg embedding dim to be 840, but got 0, return None\n",
      "expect word eeg embedding dim to be 840, but got 0, return None\n",
      "expect word eeg embedding dim to be 840, but got 0, return None\n",
      "expect word eeg embedding dim to be 840, but got 0, return None\n",
      "expect word eeg embedding dim to be 840, but got 0, return None\n",
      "expect word eeg embedding dim to be 840, but got 0, return None\n",
      "expect word eeg embedding dim to be 840, but got 0, return None\n",
      "expect word eeg embedding dim to be 840, but got 0, return None\n",
      "expect word eeg embedding dim to be 840, but got 0, return None\n",
      "expect word eeg embedding dim to be 840, but got 0, return None\n",
      "expect word eeg embedding dim to be 840, but got 0, return None\n",
      "expect word eeg embedding dim to be 840, but got 0, return None\n",
      "expect word eeg embedding dim to be 840, but got 0, return None\n",
      "expect word eeg embedding dim to be 840, but got 0, return None\n",
      "expect word eeg embedding dim to be 840, but got 0, return None\n",
      "expect word eeg embedding dim to be 840, but got 0, return None\n",
      "expect word eeg embedding dim to be 840, but got 0, return None\n",
      "expect word eeg embedding dim to be 840, but got 0, return None\n",
      "expect word eeg embedding dim to be 840, but got 0, return None\n",
      "expect word eeg embedding dim to be 840, but got 0, return None\n",
      "expect word eeg embedding dim to be 840, but got 0, return None\n",
      "expect word eeg embedding dim to be 840, but got 0, return None\n",
      "expect word eeg embedding dim to be 840, but got 0, return None\n",
      "expect word eeg embedding dim to be 840, but got 0, return None\n",
      "expect word eeg embedding dim to be 840, but got 0, return None\n",
      "expect word eeg embedding dim to be 840, but got 0, return None\n",
      "expect word eeg embedding dim to be 840, but got 0, return None\n",
      "expect word eeg embedding dim to be 840, but got 0, return None\n",
      "expect word eeg embedding dim to be 840, but got 0, return None\n",
      "expect word eeg embedding dim to be 840, but got 0, return None\n",
      "expect word eeg embedding dim to be 840, but got 0, return None\n",
      "expect word eeg embedding dim to be 840, but got 0, return None\n",
      "expect word eeg embedding dim to be 840, but got 0, return None\n",
      "expect word eeg embedding dim to be 840, but got 0, return None\n",
      "expect word eeg embedding dim to be 840, but got 0, return None\n",
      "expect word eeg embedding dim to be 840, but got 0, return None\n",
      "expect word eeg embedding dim to be 840, but got 0, return None\n",
      "expect word eeg embedding dim to be 840, but got 0, return None\n",
      "expect word eeg embedding dim to be 840, but got 0, return None\n",
      "expect word eeg embedding dim to be 840, but got 0, return None\n",
      "expect word eeg embedding dim to be 840, but got 0, return None\n",
      "expect word eeg embedding dim to be 840, but got 0, return None\n",
      "expect word eeg embedding dim to be 840, but got 0, return None\n",
      "expect word eeg embedding dim to be 840, but got 0, return None\n",
      "expect word eeg embedding dim to be 840, but got 0, return None\n",
      "expect word eeg embedding dim to be 840, but got 0, return None\n",
      "expect word eeg embedding dim to be 840, but got 0, return None\n",
      "expect word eeg embedding dim to be 840, but got 0, return None\n",
      "expect word eeg embedding dim to be 840, but got 0, return None\n",
      "expect word eeg embedding dim to be 840, but got 0, return None\n",
      "expect word eeg embedding dim to be 840, but got 0, return None\n",
      "expect word eeg embedding dim to be 840, but got 0, return None\n",
      "expect word eeg embedding dim to be 840, but got 0, return None\n",
      "expect word eeg embedding dim to be 840, but got 0, return None\n",
      "expect word eeg embedding dim to be 840, but got 0, return None\n",
      "expect word eeg embedding dim to be 840, but got 0, return None\n",
      "expect word eeg embedding dim to be 840, but got 0, return None\n",
      "expect word eeg embedding dim to be 840, but got 0, return None\n",
      "expect word eeg embedding dim to be 840, but got 0, return None\n",
      "expect word eeg embedding dim to be 840, but got 0, return None\n",
      "expect word eeg embedding dim to be 840, but got 0, return None\n",
      "expect word eeg embedding dim to be 840, but got 0, return None\n",
      "expect word eeg embedding dim to be 840, but got 0, return None\n",
      "expect word eeg embedding dim to be 840, but got 0, return None\n",
      "expect word eeg embedding dim to be 840, but got 0, return None\n",
      "expect word eeg embedding dim to be 840, but got 0, return None\n",
      "expect word eeg embedding dim to be 840, but got 0, return None\n",
      "expect word eeg embedding dim to be 840, but got 0, return None\n",
      "expect word eeg embedding dim to be 840, but got 0, return None\n",
      "expect word eeg embedding dim to be 840, but got 0, return None\n",
      "expect word eeg embedding dim to be 840, but got 0, return None\n",
      "expect word eeg embedding dim to be 840, but got 0, return None\n",
      "expect word eeg embedding dim to be 840, but got 0, return None\n",
      "expect word eeg embedding dim to be 840, but got 0, return None\n",
      "expect word eeg embedding dim to be 840, but got 0, return None\n",
      "expect word eeg embedding dim to be 840, but got 0, return None\n",
      "expect word eeg embedding dim to be 840, but got 0, return None\n",
      "expect word eeg embedding dim to be 840, but got 0, return None\n",
      "expect word eeg embedding dim to be 840, but got 0, return None\n",
      "expect word eeg embedding dim to be 840, but got 0, return None\n",
      "expect word eeg embedding dim to be 840, but got 0, return None\n",
      "expect word eeg embedding dim to be 840, but got 0, return None\n",
      "expect word eeg embedding dim to be 840, but got 0, return None\n",
      "expect word eeg embedding dim to be 840, but got 0, return None\n",
      "expect word eeg embedding dim to be 840, but got 0, return None\n",
      "expect word eeg embedding dim to be 840, but got 0, return None\n",
      "expect word eeg embedding dim to be 840, but got 0, return None\n",
      "expect word eeg embedding dim to be 840, but got 0, return None\n",
      "expect word eeg embedding dim to be 840, but got 0, return None\n",
      "expect word eeg embedding dim to be 840, but got 0, return None\n",
      "expect word eeg embedding dim to be 840, but got 0, return None\n",
      "expect word eeg embedding dim to be 840, but got 0, return None\n",
      "expect word eeg embedding dim to be 840, but got 0, return None\n",
      "expect word eeg embedding dim to be 840, but got 0, return None\n",
      "expect word eeg embedding dim to be 840, but got 0, return None\n",
      "expect word eeg embedding dim to be 840, but got 0, return None\n",
      "expect word eeg embedding dim to be 840, but got 0, return None\n",
      "expect word eeg embedding dim to be 840, but got 0, return None\n",
      "expect word eeg embedding dim to be 840, but got 0, return None\n",
      "expect word eeg embedding dim to be 840, but got 0, return None\n",
      "expect word eeg embedding dim to be 840, but got 0, return None\n",
      "expect word eeg embedding dim to be 840, but got 0, return None\n",
      "++ adding task to dataset, now we have: 4456\n",
      "[INFO]input tensor size: torch.Size([56, 840])\n",
      "\n"
     ]
    }
   ],
   "source": [
    "tokenizer = BartTokenizer.from_pretrained('facebook/bart-large')\n",
    "train_set = ZuCo_dataset(whole_dataset_dicts, 'train', tokenizer, subject = 'ALL', eeg_type = 'GD', bands = ['_t1','_t2','_a1','_a2','_b1','_b2','_g1','_g2'], setting = 'unique_sent', is_add_CLS_token = False)"
   ],
   "metadata": {
    "collapsed": false,
    "ExecuteTime": {
     "start_time": "2023-11-30T11:12:18.642699Z",
     "end_time": "2023-11-30T11:12:30.433575Z"
    }
   }
  },
  {
   "cell_type": "code",
   "execution_count": 27,
   "outputs": [
    {
     "data": {
      "text/plain": "tensor([-1.4389e+00,  9.3996e-02,  6.6918e-01,  1.1466e+00,  4.1324e-01,\n        -4.4599e-01, -5.1588e-01, -3.2906e-01,  5.0924e-01,  7.7464e-01,\n         7.0701e-01, -9.8843e-01, -2.4774e-01,  1.8552e-01,  6.3062e-01,\n         1.0405e+00, -2.5076e-01,  5.0399e-01,  1.1208e+00,  4.3163e-01,\n         6.8328e-01,  1.0088e+00,  4.7484e-01, -6.7873e-02, -6.8638e-02,\n         5.8149e-01,  2.3676e-01, -1.3847e-02,  1.7541e-01,  9.1198e-01,\n        -8.8260e-01,  3.5442e-01, -3.7227e-01, -3.3491e-01, -2.5691e-01,\n        -1.0059e+00, -5.3227e-01, -8.2270e-01, -1.0013e+00, -8.2213e-01,\n        -4.6809e-02, -2.5147e-01, -2.7957e-01, -7.9318e-02,  1.5811e-02,\n        -5.0993e-01,  6.3697e-01,  7.6853e-01,  1.1796e+00,  6.6880e-01,\n         6.2979e-01,  1.5602e+00,  8.6310e-01,  1.4397e+00,  1.6169e+00,\n         1.2612e+00,  1.1081e+00,  1.5928e+00,  1.6121e+00,  1.7989e+00,\n         1.4481e+00,  2.4342e+00,  1.8270e+00,  1.8389e+00,  1.5711e+00,\n         3.2662e-01, -7.9829e-01,  1.5329e+00,  1.7694e+00,  2.5195e+00,\n         2.9963e+00,  8.7080e-01, -4.4361e-01,  7.8210e-01,  1.9837e+00,\n         2.7130e+00,  1.0742e+00, -6.6403e-01,  3.2530e-01,  2.0096e+00,\n         1.0295e+00, -5.1392e-01, -3.9585e-01,  3.9027e-01, -1.2222e+00,\n        -6.1371e-01, -3.7879e-01, -3.2076e-01, -2.1624e-01, -8.3474e-01,\n        -2.5941e-01, -7.5232e-02,  7.5075e-02,  2.1394e-01, -1.2304e+00,\n        -6.1188e-01, -6.9351e-01, -3.6177e-02,  4.9262e-01, -1.5336e+00,\n        -9.4777e-01, -8.8426e-01, -5.3783e-01,  4.8100e-02, -1.7788e+00,\n        -1.2163e+00, -1.0658e+00, -9.4141e-01, -2.4155e-01, -9.5629e-01,\n        -1.1105e+00, -1.1296e+00, -1.0563e+00, -8.9434e-01, -5.7773e-01,\n        -1.4954e+00, -9.7770e-01, -1.0028e+00, -9.9340e-01, -8.9368e-01,\n        -1.2248e+00, -1.2722e+00, -9.8642e-01, -1.2688e+00, -1.1268e+00,\n        -9.7804e-01, -7.6758e-01, -1.2255e+00, -1.1644e+00, -7.0391e-01,\n        -5.2533e-01, -8.1917e-01, -9.3796e-01, -8.4491e-01, -1.4364e-01,\n        -1.2517e+00, -1.0845e+00, -1.0458e+00, -8.0541e-01, -5.0454e-01,\n        -1.0247e+00, -6.5747e-01, -2.4493e-01, -5.2192e-01, -3.4558e-01,\n         8.0683e-01,  1.9522e-01, -2.4344e-01,  7.2039e-02,  3.1590e-01,\n        -2.7217e-01,  1.3360e+00,  1.6312e+00,  8.8314e-01,  7.8471e-01,\n         1.1711e+00,  2.6391e+00,  1.9816e+00,  1.8129e+00,  1.9468e+00,\n         2.0787e+00,  2.3298e+00,  2.2015e+00,  2.1867e+00,  2.8022e+00,\n         2.6827e+00,  3.3604e+00,  2.9561e+00,  3.0189e+00,  1.9218e+00,\n         5.9431e-01, -6.7455e-01,  2.6367e+00,  2.8410e+00,  2.7589e+00,\n         2.2445e+00,  7.9334e-01, -2.6730e-01,  2.1353e+00,  2.4112e+00,\n         1.9295e+00,  4.8716e-01, -6.2795e-01,  1.5626e+00,  1.7356e+00,\n        -3.7886e-02, -6.2768e-01,  5.1420e-01,  2.6441e-01, -2.6290e-01,\n        -7.6947e-01, -9.2985e-01, -4.2948e-01, -1.0244e+00, -3.5758e-01,\n        -4.6852e-01, -1.0762e+00, -9.2687e-01, -7.1382e-01, -1.4613e+00,\n        -9.1450e-01, -9.7712e-01, -1.0673e+00, -7.6612e-01, -1.1810e+00,\n        -1.5266e+00, -1.3453e+00, -1.1989e+00, -1.0185e+00, -1.7788e+00,\n        -8.3597e-01, -1.1184e+00, -1.0402e+00, -7.6263e-01, -1.1078e+00,\n        -1.1616e+00, -1.3615e+00, -1.1955e+00, -1.0729e+00, -8.2793e-01,\n        -1.0850e+00, -1.3794e+00, -1.1357e+00, -1.2198e+00, -1.3684e+00,\n        -1.1297e+00, -1.2678e+00, -1.4348e+00, -1.1979e+00, -4.4399e-01,\n        -8.6037e-01, -9.7510e-01, -8.6453e-01, -9.6828e-01, -6.0159e-01,\n        -6.6523e-01, -6.3070e-01, -6.2869e-01, -3.7611e-01,  4.8972e-01,\n        -7.8692e-01, -5.5122e-01, -5.1925e-01, -2.8473e-01,  1.3492e-02,\n        -4.6976e-01, -2.5856e-01, -5.0896e-02, -1.9286e-01, -2.8217e-03,\n         6.6047e-01,  2.9079e-01, -1.3250e-02,  1.1891e-01, -1.4769e-01,\n        -8.5182e-01,  1.4114e+00,  1.1407e+00,  8.3710e-01,  3.8468e-01,\n         2.1232e-01,  6.6712e-01,  1.7680e+00,  1.4724e+00,  1.3007e+00,\n         6.7574e-01,  2.1503e+00,  1.5702e+00,  8.0535e-01,  1.0020e+00,\n         2.3713e+00,  2.2335e+00,  1.5229e+00,  1.1041e+00, -2.1395e-02,\n        -6.6420e-01, -1.2390e+00,  2.4930e+00,  1.9833e+00,  1.0378e+00,\n         1.2385e-01, -5.7411e-01, -9.8391e-01,  2.0161e+00,  1.6924e+00,\n         4.1272e-01, -7.5520e-01, -6.4983e-01,  1.8215e+00,  1.1717e+00,\n        -5.4431e-01, -6.9211e-01,  9.8152e-01,  1.3030e-01, -1.4474e-01,\n        -3.5253e-01, -8.3841e-01, -9.5826e-01, -1.2530e+00, -3.1435e-01,\n         2.5091e-02, -1.5939e-01, -9.4267e-01, -1.0967e+00, -1.5159e-01,\n        -1.3865e-01, -3.8502e-01, -7.7161e-01, -7.6316e-01, -8.4106e-01,\n        -9.6783e-01, -9.2269e-01, -1.0594e+00, -9.2696e-01, -1.7788e+00,\n        -4.2299e-01, -7.1187e-01, -7.7337e-01, -6.8330e-01, -7.7038e-01,\n        -1.2584e+00, -1.2688e+00, -7.9906e-01, -8.0298e-01, -5.9696e-01,\n        -9.4715e-01, -1.2600e+00, -9.6290e-01, -1.1986e+00, -1.3270e+00,\n        -9.9077e-01, -9.6703e-01, -1.1618e+00, -9.2512e-01, -7.8253e-02,\n        -5.0899e-01, -5.3425e-01, -6.5469e-01, -6.5772e-01, -1.1812e-02,\n        -2.1953e-01,  2.1878e-01,  1.5613e-01,  2.6001e-01,  1.3473e+00,\n        -2.6910e-01,  1.0024e+00,  8.0170e-01,  7.8245e-01,  1.0727e+00,\n        -2.1871e-01, -8.5660e-02,  1.1402e+00,  1.2491e+00,  1.3544e+00,\n         1.4277e+00,  1.6900e+00,  1.3711e+00,  1.1844e+00,  7.2736e-01,\n        -6.2445e-01,  1.5786e+00,  1.6068e+00,  2.2446e+00,  1.4686e+00,\n         1.1075e+00,  1.3786e+00,  2.1309e+00,  1.4745e+00,  1.4202e+00,\n         1.2823e+00,  2.5711e+00,  1.9076e+00,  1.2906e+00,  1.4812e+00,\n         2.7484e+00,  2.5442e+00,  2.0480e+00,  2.1390e+00,  3.6451e-01,\n        -7.1772e-01, -1.5298e+00,  3.1702e+00,  2.7568e+00,  2.0173e+00,\n         6.7287e-01, -5.9381e-01, -1.3330e+00,  2.8191e+00,  3.0434e+00,\n         1.8275e+00, -2.2470e-02, -8.4072e-01,  2.9590e+00,  2.5423e+00,\n         9.7819e-01,  2.2435e-02,  1.9399e+00,  1.6894e+00,  9.4315e-01,\n        -1.5669e-02, -4.3265e-01, -5.7784e-01, -1.1548e+00,  9.7533e-01,\n         8.0359e-01,  5.1213e-01, -1.4181e-01, -7.3028e-01,  1.0014e+00,\n         5.2332e-01,  2.4457e-01, -5.3071e-02, -1.9926e-01, -4.0357e-01,\n        -5.3794e-01, -4.3830e-01, -4.4751e-01, -3.6356e-01, -1.7788e+00,\n        -6.5786e-01, -9.9151e-01, -8.3077e-01, -9.6004e-01, -1.0506e+00,\n        -1.2256e+00, -1.0972e+00, -1.1429e+00, -1.0256e+00, -8.4487e-01,\n        -7.1236e-01, -1.2548e+00, -1.0422e+00, -9.9133e-01, -8.9143e-01,\n        -6.1478e-01, -6.6679e-01, -3.4168e-01, -1.6412e-01,  5.5998e-01,\n         4.0856e-01, -1.0162e-01, -6.3436e-01, -7.8681e-01, -1.0300e+00,\n        -5.4391e-01,  4.0721e-01, -1.1698e-01, -3.3453e-01,  8.0305e-02,\n        -3.7883e-01,  5.8826e-01,  1.5378e-01, -1.3152e-01, -1.9980e-01,\n        -1.2862e-01, -5.6314e-01,  6.2122e-01,  2.2244e-01,  3.9073e-02,\n         9.7636e-01,  4.4288e-01,  1.4279e-01, -3.5780e-01, -5.7078e-01,\n        -1.2978e+00,  1.6086e+00,  1.3911e+00,  7.4171e-01,  9.6005e-02,\n        -2.1289e-01,  1.5201e-01,  1.9149e+00,  1.5717e+00,  7.1298e-01,\n         2.4838e-01,  2.0261e+00,  1.8689e+00,  7.5292e-01,  4.0514e-01,\n         2.4210e+00,  2.1502e+00,  1.1384e+00,  4.1895e-01, -5.6788e-01,\n        -1.1707e+00, -1.1579e+00,  2.7821e+00,  1.6558e+00,  8.5441e-01,\n         2.4913e-01, -8.5178e-01, -8.6641e-01,  1.6089e+00,  1.1155e+00,\n         6.9862e-01, -6.8289e-01, -6.8643e-01,  1.3623e+00,  5.3294e-01,\n        -8.2748e-02, -8.8024e-01,  5.1789e-01, -1.6479e-01, -4.8506e-01,\n        -9.5082e-01, -6.7926e-01, -3.3191e-01, -1.1561e+00, -5.7013e-01,\n        -8.1713e-01, -7.9744e-01, -6.2119e-01, -9.8240e-01, -7.2627e-01,\n        -8.2723e-01, -9.4702e-01, -7.3776e-01, -6.8681e-01, -4.8493e-01,\n        -1.3310e+00, -1.0049e+00, -7.7943e-01, -7.1601e-01, -1.7788e+00,\n        -6.6277e-01, -6.2899e-01, -7.1044e-02, -2.2075e-01, -7.3998e-01,\n        -9.9358e-01, -1.8725e-01, -9.2972e-01, -6.3525e-01, -5.9111e-01,\n        -5.4544e-01, -1.0215e+00, -6.7404e-01, -7.8948e-01, -5.4550e-01,\n        -2.3207e-01, -7.8191e-01, -4.4485e-01, -5.7965e-02,  3.5639e-01,\n         4.8806e-01,  1.7766e-01, -1.2142e-01, -5.6907e-01, -7.5858e-01,\n         2.8779e-01,  8.8295e-01,  2.4085e-01, -3.6644e-02,  1.5449e-01,\n        -4.9123e-01,  1.1031e+00,  6.5734e-01,  2.8503e-01,  1.4439e-02,\n        -3.9348e-01,  2.2639e-01,  4.4247e-01,  3.7383e-01,  2.7303e-01,\n         1.3188e-01,  1.1873e-01,  7.6331e-02, -4.7695e-01, -1.0768e+00,\n        -1.2485e+00,  2.7412e-01,  6.9915e-02,  1.2886e-01, -4.0237e-01,\n        -7.8342e-01, -4.4818e-01,  2.0399e-02,  4.7321e-02, -3.6768e-01,\n        -5.5537e-01,  1.0820e-01,  9.4311e-02, -2.0339e-01, -3.9453e-01,\n         2.5224e-01,  3.3103e-01,  9.9782e-02, -2.0029e-01, -3.8339e-01,\n        -7.3855e-01, -9.8497e-01,  4.3595e-01,  4.3586e-01,  4.1349e-01,\n         6.7617e-01, -1.3742e-02, -2.7824e-01,  4.0841e-01,  1.1167e+00,\n         7.2977e-01,  4.7424e-01,  9.4699e-01,  4.4235e-01,  1.0800e+00,\n         4.6646e-01,  5.0891e-01, -1.0667e-02,  1.9864e-01,  4.1056e-01,\n         2.1062e-01, -1.6189e-01, -1.6967e-01, -8.3045e-01, -3.2890e-01,\n        -9.1876e-02, -4.5066e-01, -5.9435e-01, -6.7029e-01, -8.6098e-01,\n        -3.9257e-01, -3.4723e-01, -6.7729e-01, -4.5207e-01, -1.0165e+00,\n        -9.3374e-01, -7.3173e-01, -8.0971e-01, -6.0150e-01, -1.7788e+00,\n        -8.2714e-01, -9.8331e-01, -5.9746e-01, -4.2771e-01, -7.0756e-01,\n        -9.9831e-01, -6.2360e-01, -9.4473e-01, -6.7773e-01, -4.1051e-01,\n        -4.7919e-01, -9.9370e-01, -6.7359e-01, -5.0398e-01, -3.6949e-01,\n        -4.3129e-01, -7.7030e-01, -3.2227e-01,  2.3395e-02,  8.5378e-01,\n         1.1227e+00,  1.6196e-02, -5.3251e-01, -8.8813e-01, -1.1392e+00,\n         3.3577e-01,  6.6400e-01, -1.6337e-01, -6.6417e-01, -6.0706e-01,\n        -6.7555e-01,  1.0131e+00,  1.8983e-01, -2.3209e-01, -4.5021e-01,\n        -5.7785e-01,  4.3685e-02,  7.4577e-02,  4.9099e-03, -8.9078e-03,\n        -1.0174e-01, -1.2244e-02, -6.9598e-02, -4.6701e-01, -5.8538e-01,\n        -1.2531e+00, -8.5773e-02, -5.5040e-02,  2.1515e-01, -4.7714e-03,\n        -2.8524e-01,  1.8285e-02,  5.5736e-02,  1.4689e-01,  4.3704e-01,\n         1.5798e-01,  1.9337e-01,  2.2354e-01,  4.4757e-01,  8.3431e-02,\n         8.8352e-02,  1.0643e-01, -1.0983e-01, -1.9677e-01, -5.6029e-01,\n        -8.4684e-01, -1.1481e+00,  4.9770e-02,  3.0005e-01, -6.8935e-02,\n        -4.6924e-01, -5.1566e-01, -6.4043e-01,  1.5946e-01,  1.0368e+00,\n        -1.6951e-01, -4.7273e-01,  1.5002e-01,  3.1443e-01,  8.1660e-01,\n        -6.2037e-01, -5.0094e-01, -5.5738e-02, -1.7217e-01, -6.4871e-01,\n        -4.6104e-01, -5.5291e-01, -6.0486e-01, -9.9497e-01, -6.6914e-01,\n        -4.5142e-01, -5.6894e-01, -8.1092e-01, -7.9715e-01, -7.9178e-01,\n        -5.2032e-01, -7.4865e-01, -9.8207e-01, -7.2732e-01, -1.0503e+00,\n        -1.0878e+00, -1.1085e+00, -1.1575e+00, -1.0809e+00, -1.7788e+00,\n        -9.2288e-01, -7.6868e-01, -3.4514e-01, -5.4034e-01, -6.7364e-01,\n        -6.9619e-01, -8.1314e-01, -4.2399e-01, -7.3058e-01, -2.6137e-01,\n        -3.7603e-01, -1.1258e+00, -6.5492e-01, -8.3859e-01, -4.9618e-01,\n        -2.6053e-01, -7.8265e-01, -5.1355e-01,  1.1810e-01,  7.5674e-01,\n         8.1786e-01,  1.4026e-01, -1.8042e-01, -3.9103e-01, -9.4422e-01,\n         2.5236e-02,  7.2974e-01,  1.2097e-01, -8.9509e-02, -1.3096e-01,\n        -1.4276e-01,  8.4691e-01,  4.6318e-01,  1.7738e-01, -5.4050e-03,\n        -1.9265e-01,  3.3446e-01,  6.2463e-01,  4.7639e-01,  4.5046e-01,\n         7.7874e-01,  5.2083e-01,  3.2083e-01, -3.2689e-01, -2.4433e-01,\n        -1.1556e+00,  1.1906e+00,  9.4198e-01,  6.3836e-01,  1.6959e-01,\n        -1.5527e-01, -1.9658e-01,  1.1933e+00,  8.8725e-01,  7.7082e-01,\n         1.9541e-01,  1.2328e+00,  1.1683e+00,  4.2304e-01,  7.6037e-02,\n         1.2262e+00,  1.0891e+00,  6.2189e-01,  4.1638e-01, -5.7374e-01,\n        -1.0951e+00, -1.1829e+00,  1.3629e+00,  1.0984e+00,  7.7429e-01,\n         5.0987e-01, -4.7689e-01, -8.2513e-01,  1.0632e+00,  1.3700e+00,\n         7.2210e-01,  7.3736e-02, -2.8034e-01,  1.0314e+00,  1.0126e+00,\n         5.4671e-01, -3.5233e-01,  7.5016e-01,  3.7587e-01, -2.0468e-01,\n        -7.0913e-01, -6.0341e-01, -1.3144e-01, -7.3420e-01, -9.3089e-02,\n        -5.5314e-01, -2.6338e-01, -5.6696e-01, -6.0237e-01, -3.7451e-01,\n        -6.2803e-01, -7.3147e-01, -7.9843e-01, -6.2764e-01, -6.2876e-01,\n        -1.0939e+00, -1.0658e+00, -9.9133e-01, -7.2724e-01, -1.7788e+00],\n       dtype=torch.float64)"
     },
     "execution_count": 27,
     "metadata": {},
     "output_type": "execute_result"
    }
   ],
   "source": [
    "set = train_set.__getitem__(-1)\n",
    "set[0][1]"
   ],
   "metadata": {
    "collapsed": false,
    "ExecuteTime": {
     "start_time": "2023-11-30T11:33:52.114200Z",
     "end_time": "2023-11-30T11:33:52.146889Z"
    }
   }
  },
  {
   "cell_type": "code",
   "execution_count": 9,
   "outputs": [],
   "source": [
    "\n",
    "\n",
    "def get_eeg_word_embedding(word, eeg_type = 'GD', bands = ['_t1','_t2','_a1','_a2','_b1','_b2','_g1','_g2']):\n",
    "    EEG_frequency_features = []\n",
    "    EEG_word_level_label = word['content']\n",
    "    for band in bands:\n",
    "        EEG_frequency_features.append(word['word_level_EEG'][eeg_type][eeg_type+band])\n",
    "    word_eeg_embedding = np.concatenate(EEG_frequency_features)\n",
    "    if len(word_eeg_embedding) != 105*len(bands):\n",
    "        print(f'expect word eeg embedding dim to be {105*len(bands)}, but got {len(word_eeg_embedding)}, return None')\n",
    "        word_eeg_embedding = None\n",
    "    else:\n",
    "        word_eeg_embedding = word_eeg_embedding.reshape(105, 8)\n",
    "\n",
    "    return word_eeg_embedding, EEG_word_level_label\n",
    "\n",
    "\n",
    "\n"
   ],
   "metadata": {
    "collapsed": false,
    "ExecuteTime": {
     "start_time": "2023-11-30T11:12:30.450103Z",
     "end_time": "2023-11-30T11:12:30.499899Z"
    }
   }
  },
  {
   "cell_type": "code",
   "execution_count": null,
   "outputs": [],
   "source": [
    "\n",
    "#print number of unique words in each task\n",
    "for Task_Dataset in Task_Dataset_List:\n",
    "    subjects = list(Task_Dataset.keys())\n",
    "    print('[INFO]using subjects: ', subjects)\n",
    "    total_num_sentence = len(Task_Dataset[subjects[0]])\n",
    "    print(f'[INFO]total number of sentences = {total_num_sentence}')\n",
    "    unique_words = set()\n",
    "    for key in subjects:\n",
    "        for i in range(total_num_sentence):\n",
    "            if Task_Dataset[key][i] is not None:\n",
    "                sentence_object = Task_Dataset[key][i]\n",
    "                for word in sentence_object['word']:\n",
    "                    unique_words.add(word['content'])\n",
    "    print(f'[INFO]total number of unique words = {len(unique_words)}')"
   ],
   "metadata": {
    "collapsed": false,
    "ExecuteTime": {
     "start_time": "2023-11-30T10:13:58.129454Z",
     "end_time": "2023-11-30T10:13:58.226976Z"
    }
   }
  },
  {
   "cell_type": "code",
   "execution_count": null,
   "outputs": [],
   "source": [
    "import torch\n",
    "\n",
    "#Main loop, looping through each task\n",
    "for Task_Dataset in Task_Dataset_List:\n",
    "    subjects = list(Task_Dataset.keys())\n",
    "    print('[INFO]using subjects: ', subjects)\n",
    "\n",
    "    total_num_sentence = len(Task_Dataset[subjects[0]])\n",
    "\n",
    "    train_divider = int(0.8*total_num_sentence)\n",
    "    dev_divider = train_divider + int(0.1*total_num_sentence)\n",
    "\n",
    "    print(f'train size = {train_divider}')\n",
    "    print(f'dev size = {dev_divider}')\n",
    "\n",
    "    EEG_word_level_embeddings = []\n",
    "    EEG_word_level_labels = []\n",
    "    print('[INFO]initializing a train set...')\n",
    "    for key in subjects:\n",
    "        print(f'key = {key}')\n",
    "        for i in range(train_divider):\n",
    "            if Task_Dataset[key][i] is not None:\n",
    "                sentence_object = Task_Dataset[key][i]\n",
    "                for word in sentence_object['word']:\n",
    "                    word_eeg_embedding, EEG_word_level_label = get_eeg_word_embedding(word)\n",
    "                    if word_eeg_embedding is not None and torch.isnan(torch.from_numpy(word_eeg_embedding)).any() == False:\n",
    "                        EEG_word_level_embeddings.append(word_eeg_embedding)\n",
    "                        EEG_word_level_labels.append(EEG_word_level_label)\n",
    "\n"
   ],
   "metadata": {
    "collapsed": false,
    "ExecuteTime": {
     "start_time": "2023-11-30T10:09:16.013980Z",
     "end_time": "2023-11-30T10:09:34.765819Z"
    }
   }
  },
  {
   "cell_type": "code",
   "execution_count": null,
   "outputs": [],
   "source": [
    "len(EEG_word_level_labels)\n",
    "#count unique items in list\n",
    "unique, counts = np.unique(EEG_word_level_labels, return_counts=True)\n",
    "print(len(unique))\n"
   ],
   "metadata": {
    "collapsed": false,
    "ExecuteTime": {
     "start_time": "2023-11-30T10:15:06.779979Z",
     "end_time": "2023-11-30T10:15:06.851774Z"
    }
   }
  },
  {
   "cell_type": "code",
   "execution_count": null,
   "outputs": [],
   "source": [
    "'''\n",
    "train_data = []\n",
    "for i in range(len(EEG_word_level_embeddings)):\n",
    "   train_data.append([EEG_word_level_embeddings[i], EEG_word_level_labels[i]])\n",
    "'''"
   ],
   "metadata": {
    "collapsed": false,
    "ExecuteTime": {
     "start_time": "2023-11-20T13:08:08.563536Z",
     "end_time": "2023-11-20T13:08:08.593593Z"
    }
   }
  },
  {
   "cell_type": "code",
   "execution_count": null,
   "outputs": [],
   "source": [],
   "metadata": {
    "collapsed": false,
    "ExecuteTime": {
     "start_time": "2023-11-30T10:09:43.649211Z",
     "end_time": "2023-11-30T10:09:43.683293Z"
    }
   }
  },
  {
   "cell_type": "code",
   "execution_count": null,
   "outputs": [],
   "source": [
    "'''\n",
    "# Save the lists to a file using pickle\n",
    "with open('EEG_Text_Pairs.pkl', 'wb') as file:\n",
    "    pickle.dump(EEG_word_level_embeddings, file)\n",
    "    pickle.dump(EEG_word_level_labels, file)\n",
    "\n",
    "# To load the lists from the file:\n",
    "with open('EEG_Text_Pairs.pkl', 'rb') as file:\n",
    "    EEG_word_level_embeddings = pickle.load(file)\n",
    "    EEG_word_level_labels = pickle.load(file)\n",
    "'''"
   ],
   "metadata": {
    "collapsed": false,
    "ExecuteTime": {
     "start_time": "2023-11-20T13:08:33.702027Z",
     "end_time": "2023-11-20T13:08:33.722919Z"
    }
   }
  },
  {
   "cell_type": "code",
   "execution_count": null,
   "outputs": [],
   "source": [
    "import torch\n",
    "\n",
    "trainloader = torch.utils.data.DataLoader(train_data, shuffle=True, batch_size=64)"
   ],
   "metadata": {
    "collapsed": false,
    "ExecuteTime": {
     "start_time": "2023-11-20T13:08:36.452532Z",
     "end_time": "2023-11-20T13:08:38.562553Z"
    }
   }
  },
  {
   "cell_type": "code",
   "execution_count": null,
   "outputs": [],
   "source": [
    "#sant"
   ],
   "metadata": {
    "collapsed": false,
    "ExecuteTime": {
     "start_time": "2023-11-08T14:45:16.996483Z",
     "end_time": "2023-11-08T14:45:17.009985Z"
    }
   }
  },
  {
   "cell_type": "code",
   "execution_count": null,
   "outputs": [],
   "source": [],
   "metadata": {
    "collapsed": false,
    "ExecuteTime": {
     "start_time": "2023-11-08T14:45:17.014943Z",
     "end_time": "2023-11-08T14:45:17.024566Z"
    }
   }
  }
 ],
 "metadata": {
  "kernelspec": {
   "display_name": "Python 3",
   "language": "python",
   "name": "python3"
  },
  "language_info": {
   "codemirror_mode": {
    "name": "ipython",
    "version": 2
   },
   "file_extension": ".py",
   "mimetype": "text/x-python",
   "name": "python",
   "nbconvert_exporter": "python",
   "pygments_lexer": "ipython2",
   "version": "2.7.6"
  }
 },
 "nbformat": 4,
 "nbformat_minor": 0
}
