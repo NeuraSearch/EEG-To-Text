{
 "cells": [
  {
   "cell_type": "code",
   "execution_count": 1,
   "metadata": {
    "collapsed": true,
    "ExecuteTime": {
     "start_time": "2024-03-05T11:01:27.691102Z",
     "end_time": "2024-03-05T11:01:39.574783Z"
    }
   },
   "outputs": [
    {
     "name": "stderr",
     "output_type": "stream",
     "text": [
      "[nltk_data] Downloading package punkt to\n",
      "[nltk_data]     C:\\Users\\gxb18167\\AppData\\Roaming\\nltk_data...\n",
      "[nltk_data]   Package punkt is already up-to-date!\n"
     ]
    },
    {
     "name": "stdout",
     "output_type": "stream",
     "text": [
      "2.0.1\n",
      "GPU Available: False\n"
     ]
    }
   ],
   "source": [
    "import pickle\n",
    "import numpy as np\n",
    "from config import get_config#\n",
    "import generate_samples"
   ]
  },
  {
   "cell_type": "code",
   "execution_count": 2,
   "outputs": [],
   "source": [
    "from transformers import BertLMHeadModel, BartTokenizer\n",
    "from data import ZuCo_dataset"
   ],
   "metadata": {
    "collapsed": false,
    "ExecuteTime": {
     "start_time": "2024-03-05T11:01:39.554781Z",
     "end_time": "2024-03-05T11:01:44.263363Z"
    }
   }
  },
  {
   "cell_type": "code",
   "execution_count": 3,
   "outputs": [],
   "source": [
    "task_name = \"task1, task2, taskNRv2\""
   ],
   "metadata": {
    "collapsed": false,
    "ExecuteTime": {
     "start_time": "2024-03-05T11:01:44.260967Z",
     "end_time": "2024-03-05T11:01:44.278620Z"
    }
   }
  },
  {
   "cell_type": "code",
   "execution_count": 4,
   "outputs": [],
   "source": [
    "''' set up dataloader '''\n",
    "\n",
    "whole_dataset_dicts = []\n",
    "\n",
    "if 'task1' in task_name:\n",
    "    dataset_path_task1 = r'I:\\Science\\CIS-YASHMOSH\\niallmcguire\\ZuCo\\task1-SR\\pickle\\task1-SR-dataset.pickle'\n",
    "    with open(dataset_path_task1, 'rb') as handle:\n",
    "        whole_dataset_dicts.append(pickle.load(handle))\n",
    "\n",
    "if 'task2' in task_name:\n",
    "    dataset_path_task2 = r'I:\\Science\\CIS-YASHMOSH\\niallmcguire\\ZuCo\\task2-NR\\pickle\\task2-NR-dataset.pickle'\n",
    "    with open(dataset_path_task2, 'rb') as handle:\n",
    "        whole_dataset_dicts.append(pickle.load(handle))\n",
    "\n",
    "if 'task3' in task_name:\n",
    "    dataset_path_task3 = r'I:\\Science\\CIS-YASHMOSH\\niallmcguire\\ZuCo\\task3-TSR\\pickle\\task3-TSR-dataset.pickle'\n",
    "    with open(dataset_path_task3, 'rb') as handle:\n",
    "        whole_dataset_dicts.append(pickle.load(handle))\n",
    "\n",
    "if 'taskNRv2' in task_name:\n",
    "    dataset_path_taskNRv2 = r'I:\\Science\\CIS-YASHMOSH\\niallmcguire\\ZuCo\\task2-NR-2.0\\pickle\\task2-NR-2.0-dataset.pickle'\n",
    "    with open(dataset_path_taskNRv2, 'rb') as handle:\n",
    "        whole_dataset_dicts.append(pickle.load(handle))\n"
   ],
   "metadata": {
    "collapsed": false,
    "ExecuteTime": {
     "start_time": "2024-03-05T11:01:44.283816Z",
     "end_time": "2024-03-05T11:24:42.531974Z"
    }
   }
  },
  {
   "cell_type": "code",
   "execution_count": 5,
   "outputs": [
    {
     "name": "stdout",
     "output_type": "stream",
     "text": [
      "Loaded in 3 task datasets\n"
     ]
    }
   ],
   "source": [
    "print(\"Loaded in\", len(whole_dataset_dicts), \"task datasets\")"
   ],
   "metadata": {
    "collapsed": false,
    "ExecuteTime": {
     "start_time": "2024-03-05T11:01:24.944115Z",
     "end_time": "2024-03-05T11:24:42.531974Z"
    }
   }
  },
  {
   "cell_type": "code",
   "execution_count": 6,
   "outputs": [],
   "source": [
    "Task_Dataset_List = whole_dataset_dicts\n",
    "if not isinstance(whole_dataset_dicts,list):\n",
    "    Task_Dataset_List = [whole_dataset_dicts]"
   ],
   "metadata": {
    "collapsed": false,
    "ExecuteTime": {
     "start_time": "2024-03-05T11:01:25.470634Z",
     "end_time": "2024-03-05T11:24:42.544413Z"
    }
   }
  },
  {
   "cell_type": "code",
   "execution_count": 7,
   "outputs": [
    {
     "name": "stdout",
     "output_type": "stream",
     "text": [
      "[INFO]loading 3 task datasets\n",
      "[INFO]using subjects:  ['ZAB', 'ZDM', 'ZDN', 'ZGW', 'ZJM', 'ZJN', 'ZJS', 'ZKB', 'ZKH', 'ZMG', 'ZPH']\n",
      "train divider = 320\n",
      "dev divider = 360\n",
      "[INFO]initializing a train set...\n",
      "discard length zero instance:  Weiss and Speck never make a convincing case for the relevance of these two 20th-century footnotes.\n",
      "discard length zero instance:  Reassuring, retro uplifter.\n",
      "discard length zero instance:  Flaccid drama and exasperatingly slow journey.\n",
      "++ adding task to dataset, now we have: 3290\n",
      "[INFO]using subjects:  ['ZAB', 'ZDM', 'ZDN', 'ZGW', 'ZJM', 'ZJN', 'ZJS', 'ZKB', 'ZKH', 'ZKW', 'ZMG', 'ZPH']\n",
      "train divider = 240\n",
      "dev divider = 270\n",
      "[INFO]initializing a train set...\n",
      "discard length zero instance:  He was a member of the famous Huxley family who produced a number of brilliant scientific minds.\n",
      "discard length zero instance:  His brother Julian Huxley was a biologist also noted for his evolutionary theories.\n",
      "discard length zero instance:  Senator from Connecticut and a Wall Street executive banker with Brown Brothers Harriman.\n",
      "discard length zero instance:  The same year, he renounced his Wuerttemberg citizenship and became stateless.\n",
      "discard length zero instance:  On May 14, 1904, the couple's first son, Hans Albert Einstein, was born.\n",
      "discard length zero instance:  Miguel played the drums on Keith Moon's Two Sides of the Moon.\n",
      "discard length zero instance:  Miguel played the role of Dr. Garret Macy in NBC's drama Crossing Jordan.\n",
      "discard length zero instance:  Senator James Lloyd resigned, and Hindman was named to finish his term.\n",
      "discard length zero instance:  He served in the United States Senate from December of 1800 until November of 1801.\n",
      "discard length zero instance:  Albert's sister Maja was to later marry their son Paul, and his friend Michele Besso married their other daughter Anna.\n",
      "discard length zero instance:  The same year, he renounced his Wuerttemberg citizenship and became stateless.\n",
      "++ adding task to dataset, now we have: 5935\n",
      "[INFO]using subjects:  ['YAC', 'YAG', 'YAK', 'YDG', 'YDR', 'YFR', 'YFS', 'YHS', 'YIS', 'YLS', 'YMD', 'YMS', 'YRH', 'YRK', 'YRP', 'YSD', 'YSL', 'YTL']\n",
      "train divider = 279\n",
      "dev divider = 313\n",
      "[INFO]initializing a train set...\n",
      "expect word eeg embedding dim to be 840, but got 0, return None\n",
      "expect word eeg embedding dim to be 840, but got 0, return None\n",
      "expect word eeg embedding dim to be 840, but got 0, return None\n",
      "expect word eeg embedding dim to be 840, but got 0, return None\n",
      "expect word eeg embedding dim to be 840, but got 0, return None\n",
      "expect word eeg embedding dim to be 840, but got 0, return None\n",
      "expect word eeg embedding dim to be 840, but got 0, return None\n",
      "expect word eeg embedding dim to be 840, but got 0, return None\n",
      "expect word eeg embedding dim to be 840, but got 0, return None\n",
      "expect word eeg embedding dim to be 840, but got 0, return None\n",
      "expect word eeg embedding dim to be 840, but got 0, return None\n",
      "expect word eeg embedding dim to be 840, but got 0, return None\n",
      "expect word eeg embedding dim to be 840, but got 0, return None\n",
      "expect word eeg embedding dim to be 840, but got 0, return None\n",
      "expect word eeg embedding dim to be 840, but got 0, return None\n",
      "expect word eeg embedding dim to be 840, but got 0, return None\n",
      "expect word eeg embedding dim to be 840, but got 0, return None\n",
      "expect word eeg embedding dim to be 840, but got 0, return None\n",
      "expect word eeg embedding dim to be 840, but got 0, return None\n",
      "expect word eeg embedding dim to be 840, but got 0, return None\n",
      "expect word eeg embedding dim to be 840, but got 0, return None\n",
      "expect word eeg embedding dim to be 840, but got 0, return None\n",
      "expect word eeg embedding dim to be 840, but got 0, return None\n",
      "expect word eeg embedding dim to be 840, but got 0, return None\n",
      "expect word eeg embedding dim to be 840, but got 0, return None\n",
      "expect word eeg embedding dim to be 840, but got 0, return None\n",
      "expect word eeg embedding dim to be 840, but got 0, return None\n",
      "expect word eeg embedding dim to be 840, but got 0, return None\n",
      "expect word eeg embedding dim to be 840, but got 0, return None\n",
      "expect word eeg embedding dim to be 840, but got 0, return None\n",
      "expect word eeg embedding dim to be 840, but got 0, return None\n",
      "expect word eeg embedding dim to be 840, but got 0, return None\n",
      "expect word eeg embedding dim to be 840, but got 0, return None\n",
      "expect word eeg embedding dim to be 840, but got 0, return None\n",
      "expect word eeg embedding dim to be 840, but got 0, return None\n",
      "expect word eeg embedding dim to be 840, but got 0, return None\n",
      "expect word eeg embedding dim to be 840, but got 0, return None\n",
      "expect word eeg embedding dim to be 840, but got 0, return None\n",
      "expect word eeg embedding dim to be 840, but got 0, return None\n",
      "expect word eeg embedding dim to be 840, but got 0, return None\n",
      "expect word eeg embedding dim to be 840, but got 0, return None\n",
      "expect word eeg embedding dim to be 840, but got 0, return None\n",
      "expect word eeg embedding dim to be 840, but got 0, return None\n",
      "expect word eeg embedding dim to be 840, but got 0, return None\n",
      "expect word eeg embedding dim to be 840, but got 0, return None\n",
      "expect word eeg embedding dim to be 840, but got 0, return None\n",
      "expect word eeg embedding dim to be 840, but got 0, return None\n",
      "expect word eeg embedding dim to be 840, but got 0, return None\n",
      "expect word eeg embedding dim to be 840, but got 0, return None\n",
      "expect word eeg embedding dim to be 840, but got 0, return None\n",
      "expect word eeg embedding dim to be 840, but got 0, return None\n",
      "expect word eeg embedding dim to be 840, but got 0, return None\n",
      "expect word eeg embedding dim to be 840, but got 0, return None\n",
      "expect word eeg embedding dim to be 840, but got 0, return None\n",
      "expect word eeg embedding dim to be 840, but got 0, return None\n",
      "expect word eeg embedding dim to be 840, but got 0, return None\n",
      "expect word eeg embedding dim to be 840, but got 0, return None\n",
      "expect word eeg embedding dim to be 840, but got 0, return None\n",
      "expect word eeg embedding dim to be 840, but got 0, return None\n",
      "expect word eeg embedding dim to be 840, but got 0, return None\n",
      "expect word eeg embedding dim to be 840, but got 0, return None\n",
      "expect word eeg embedding dim to be 840, but got 0, return None\n",
      "expect word eeg embedding dim to be 840, but got 0, return None\n",
      "expect word eeg embedding dim to be 840, but got 0, return None\n",
      "expect word eeg embedding dim to be 840, but got 0, return None\n",
      "expect word eeg embedding dim to be 840, but got 0, return None\n",
      "expect word eeg embedding dim to be 840, but got 0, return None\n",
      "expect word eeg embedding dim to be 840, but got 0, return None\n",
      "expect word eeg embedding dim to be 840, but got 0, return None\n",
      "expect word eeg embedding dim to be 840, but got 0, return None\n",
      "expect word eeg embedding dim to be 840, but got 0, return None\n",
      "expect word eeg embedding dim to be 840, but got 0, return None\n",
      "expect word eeg embedding dim to be 840, but got 0, return None\n",
      "expect word eeg embedding dim to be 840, but got 0, return None\n",
      "expect word eeg embedding dim to be 840, but got 0, return None\n",
      "expect word eeg embedding dim to be 840, but got 0, return None\n",
      "expect word eeg embedding dim to be 840, but got 0, return None\n",
      "expect word eeg embedding dim to be 840, but got 0, return None\n",
      "expect word eeg embedding dim to be 840, but got 0, return None\n",
      "expect word eeg embedding dim to be 840, but got 0, return None\n",
      "expect word eeg embedding dim to be 840, but got 0, return None\n",
      "expect word eeg embedding dim to be 840, but got 0, return None\n",
      "expect word eeg embedding dim to be 840, but got 0, return None\n",
      "expect word eeg embedding dim to be 840, but got 0, return None\n",
      "expect word eeg embedding dim to be 840, but got 0, return None\n",
      "expect word eeg embedding dim to be 840, but got 0, return None\n",
      "expect word eeg embedding dim to be 840, but got 0, return None\n",
      "expect word eeg embedding dim to be 840, but got 0, return None\n",
      "expect word eeg embedding dim to be 840, but got 0, return None\n",
      "expect word eeg embedding dim to be 840, but got 0, return None\n",
      "expect word eeg embedding dim to be 840, but got 0, return None\n",
      "expect word eeg embedding dim to be 840, but got 0, return None\n",
      "expect word eeg embedding dim to be 840, but got 0, return None\n",
      "expect word eeg embedding dim to be 840, but got 0, return None\n",
      "expect word eeg embedding dim to be 840, but got 0, return None\n",
      "expect word eeg embedding dim to be 840, but got 0, return None\n",
      "expect word eeg embedding dim to be 840, but got 0, return None\n",
      "expect word eeg embedding dim to be 840, but got 0, return None\n",
      "expect word eeg embedding dim to be 840, but got 0, return None\n",
      "expect word eeg embedding dim to be 840, but got 0, return None\n",
      "expect word eeg embedding dim to be 840, but got 0, return None\n",
      "expect word eeg embedding dim to be 840, but got 0, return None\n",
      "expect word eeg embedding dim to be 840, but got 0, return None\n",
      "expect word eeg embedding dim to be 840, but got 0, return None\n",
      "expect word eeg embedding dim to be 840, but got 0, return None\n",
      "expect word eeg embedding dim to be 840, but got 0, return None\n",
      "expect word eeg embedding dim to be 840, but got 0, return None\n",
      "expect word eeg embedding dim to be 840, but got 0, return None\n",
      "expect word eeg embedding dim to be 840, but got 0, return None\n",
      "expect word eeg embedding dim to be 840, but got 0, return None\n",
      "expect word eeg embedding dim to be 840, but got 0, return None\n",
      "expect word eeg embedding dim to be 840, but got 0, return None\n",
      "expect word eeg embedding dim to be 840, but got 0, return None\n",
      "expect word eeg embedding dim to be 840, but got 0, return None\n",
      "expect word eeg embedding dim to be 840, but got 0, return None\n",
      "expect word eeg embedding dim to be 840, but got 0, return None\n",
      "expect word eeg embedding dim to be 840, but got 0, return None\n",
      "expect word eeg embedding dim to be 840, but got 0, return None\n",
      "expect word eeg embedding dim to be 840, but got 0, return None\n",
      "expect word eeg embedding dim to be 840, but got 0, return None\n",
      "expect word eeg embedding dim to be 840, but got 0, return None\n",
      "expect word eeg embedding dim to be 840, but got 0, return None\n",
      "expect word eeg embedding dim to be 840, but got 0, return None\n",
      "expect word eeg embedding dim to be 840, but got 0, return None\n",
      "expect word eeg embedding dim to be 840, but got 0, return None\n",
      "expect word eeg embedding dim to be 840, but got 0, return None\n",
      "expect word eeg embedding dim to be 840, but got 0, return None\n",
      "expect word eeg embedding dim to be 840, but got 0, return None\n",
      "expect word eeg embedding dim to be 840, but got 0, return None\n",
      "expect word eeg embedding dim to be 840, but got 0, return None\n",
      "expect word eeg embedding dim to be 840, but got 0, return None\n",
      "expect word eeg embedding dim to be 840, but got 0, return None\n",
      "expect word eeg embedding dim to be 840, but got 0, return None\n",
      "expect word eeg embedding dim to be 840, but got 0, return None\n",
      "expect word eeg embedding dim to be 840, but got 0, return None\n",
      "expect word eeg embedding dim to be 840, but got 0, return None\n",
      "expect word eeg embedding dim to be 840, but got 0, return None\n",
      "expect word eeg embedding dim to be 840, but got 0, return None\n",
      "expect word eeg embedding dim to be 840, but got 0, return None\n",
      "expect word eeg embedding dim to be 840, but got 0, return None\n",
      "expect word eeg embedding dim to be 840, but got 0, return None\n",
      "expect word eeg embedding dim to be 840, but got 0, return None\n",
      "expect word eeg embedding dim to be 840, but got 0, return None\n",
      "expect word eeg embedding dim to be 840, but got 0, return None\n",
      "expect word eeg embedding dim to be 840, but got 0, return None\n",
      "expect word eeg embedding dim to be 840, but got 0, return None\n",
      "expect word eeg embedding dim to be 840, but got 0, return None\n",
      "expect word eeg embedding dim to be 840, but got 0, return None\n",
      "expect word eeg embedding dim to be 840, but got 0, return None\n",
      "expect word eeg embedding dim to be 840, but got 0, return None\n",
      "expect word eeg embedding dim to be 840, but got 0, return None\n",
      "expect word eeg embedding dim to be 840, but got 0, return None\n",
      "expect word eeg embedding dim to be 840, but got 0, return None\n",
      "expect word eeg embedding dim to be 840, but got 0, return None\n",
      "expect word eeg embedding dim to be 840, but got 0, return None\n",
      "expect word eeg embedding dim to be 840, but got 0, return None\n",
      "expect word eeg embedding dim to be 840, but got 0, return None\n",
      "expect word eeg embedding dim to be 840, but got 0, return None\n",
      "expect word eeg embedding dim to be 840, but got 0, return None\n",
      "expect word eeg embedding dim to be 840, but got 0, return None\n",
      "expect word eeg embedding dim to be 840, but got 0, return None\n",
      "expect word eeg embedding dim to be 840, but got 0, return None\n",
      "expect word eeg embedding dim to be 840, but got 0, return None\n",
      "++ adding task to dataset, now we have: 10391\n",
      "[INFO]input tensor size: torch.Size([56, 840])\n",
      "\n"
     ]
    }
   ],
   "source": [
    "tokenizer = BartTokenizer.from_pretrained('facebook/bart-large')\n",
    "train_set = ZuCo_dataset(whole_dataset_dicts, 'train', tokenizer, subject = 'ALL', eeg_type = 'GD', bands = ['_t1','_t2','_a1','_a2','_b1','_b2','_g1','_g2'], setting = 'unique_sent', is_add_CLS_token = False)"
   ],
   "metadata": {
    "collapsed": false,
    "ExecuteTime": {
     "start_time": "2024-03-05T11:24:42.551268Z",
     "end_time": "2024-03-05T11:26:03.709776Z"
    }
   }
  },
  {
   "cell_type": "code",
   "execution_count": 8,
   "outputs": [
    {
     "data": {
      "text/plain": "10391"
     },
     "execution_count": 8,
     "metadata": {},
     "output_type": "execute_result"
    }
   ],
   "source": [
    "len(train_set)"
   ],
   "metadata": {
    "collapsed": false,
    "ExecuteTime": {
     "start_time": "2024-03-05T11:26:03.789938Z",
     "end_time": "2024-03-05T11:26:04.090922Z"
    }
   }
  },
  {
   "cell_type": "code",
   "execution_count": 9,
   "outputs": [],
   "source": [],
   "metadata": {
    "collapsed": false,
    "ExecuteTime": {
     "start_time": "2024-03-05T10:43:28.377521Z",
     "end_time": "2024-03-05T10:43:28.393807Z"
    }
   }
  },
  {
   "cell_type": "code",
   "execution_count": 9,
   "outputs": [],
   "source": [],
   "metadata": {
    "collapsed": false,
    "ExecuteTime": {
     "start_time": "2024-03-05T10:43:28.393807Z",
     "end_time": "2024-03-05T10:43:28.476296Z"
    }
   }
  },
  {
   "cell_type": "code",
   "execution_count": 9,
   "outputs": [],
   "source": [],
   "metadata": {
    "collapsed": false,
    "ExecuteTime": {
     "start_time": "2024-03-05T10:43:28.427729Z",
     "end_time": "2024-03-05T10:43:28.494372Z"
    }
   }
  },
  {
   "cell_type": "code",
   "execution_count": 9,
   "outputs": [],
   "source": [],
   "metadata": {
    "collapsed": false,
    "ExecuteTime": {
     "start_time": "2024-03-05T10:43:28.444242Z",
     "end_time": "2024-03-05T10:43:28.494372Z"
    }
   }
  },
  {
   "cell_type": "code",
   "execution_count": 9,
   "outputs": [],
   "source": [],
   "metadata": {
    "collapsed": false,
    "ExecuteTime": {
     "start_time": "2024-03-05T10:43:28.460287Z",
     "end_time": "2024-03-05T10:43:28.494372Z"
    }
   }
  },
  {
   "cell_type": "code",
   "execution_count": 9,
   "outputs": [],
   "source": [],
   "metadata": {
    "collapsed": false,
    "ExecuteTime": {
     "start_time": "2024-03-05T10:43:28.483755Z",
     "end_time": "2024-03-05T10:43:28.494372Z"
    }
   }
  },
  {
   "cell_type": "code",
   "execution_count": 9,
   "outputs": [],
   "source": [],
   "metadata": {
    "collapsed": false,
    "ExecuteTime": {
     "start_time": "2024-03-05T10:43:28.494372Z",
     "end_time": "2024-03-05T10:43:28.544203Z"
    }
   }
  },
  {
   "cell_type": "code",
   "execution_count": 9,
   "outputs": [],
   "source": [],
   "metadata": {
    "collapsed": false,
    "ExecuteTime": {
     "start_time": "2024-03-05T10:43:28.511628Z",
     "end_time": "2024-03-05T10:43:28.544203Z"
    }
   }
  },
  {
   "cell_type": "code",
   "execution_count": 9,
   "outputs": [],
   "source": [],
   "metadata": {
    "collapsed": false,
    "ExecuteTime": {
     "start_time": "2024-03-05T10:43:28.527746Z",
     "end_time": "2024-03-05T10:43:28.544203Z"
    }
   }
  },
  {
   "cell_type": "code",
   "execution_count": 9,
   "outputs": [],
   "source": [
    "\n",
    "\n",
    "def get_eeg_word_embedding(word, eeg_type = 'GD', bands = ['_t1','_t2','_a1','_a2','_b1','_b2','_g1','_g2']):\n",
    "    EEG_frequency_features = []\n",
    "    EEG_word_level_label = word['content']\n",
    "    for band in bands:\n",
    "        EEG_frequency_features.append(word['word_level_EEG'][eeg_type][eeg_type+band])\n",
    "    word_eeg_embedding = np.concatenate(EEG_frequency_features)\n",
    "    if len(word_eeg_embedding) != 105*len(bands):\n",
    "        print(f'expect word eeg embedding dim to be {105*len(bands)}, but got {len(word_eeg_embedding)}, return None')\n",
    "        word_eeg_embedding = None\n",
    "    else:\n",
    "        word_eeg_embedding = word_eeg_embedding.reshape(105, 8)\n",
    "\n",
    "    return word_eeg_embedding, EEG_word_level_label\n",
    "\n",
    "\n",
    "\n"
   ],
   "metadata": {
    "collapsed": false,
    "ExecuteTime": {
     "start_time": "2024-03-05T11:26:03.942585Z",
     "end_time": "2024-03-05T11:26:04.111670Z"
    }
   }
  },
  {
   "cell_type": "code",
   "execution_count": 10,
   "outputs": [
    {
     "name": "stdout",
     "output_type": "stream",
     "text": [
      "[INFO]using subjects:  ['ZAB', 'ZDM', 'ZDN', 'ZGW', 'ZJM', 'ZJN', 'ZJS', 'ZKB', 'ZKH', 'ZMG', 'ZPH']\n",
      "[INFO]total number of sentences = 400\n",
      "[INFO]total number of unique words = 3092\n",
      "[INFO]using subjects:  ['ZAB', 'ZDM', 'ZDN', 'ZGW', 'ZJM', 'ZJN', 'ZJS', 'ZKB', 'ZKH', 'ZKW', 'ZMG', 'ZPH']\n",
      "[INFO]total number of sentences = 300\n",
      "[INFO]total number of unique words = 2714\n",
      "[INFO]using subjects:  ['YAC', 'YAG', 'YAK', 'YDG', 'YDR', 'YFR', 'YFS', 'YHS', 'YIS', 'YLS', 'YMD', 'YMS', 'YRH', 'YRK', 'YRP', 'YSD', 'YSL', 'YTL']\n",
      "[INFO]total number of sentences = 349\n",
      "[INFO]total number of unique words = 2863\n"
     ]
    }
   ],
   "source": [
    "\n",
    "#print number of unique words in each task\n",
    "for Task_Dataset in Task_Dataset_List:\n",
    "    subjects = list(Task_Dataset.keys())\n",
    "    print('[INFO]using subjects: ', subjects)\n",
    "    total_num_sentence = len(Task_Dataset[subjects[0]])\n",
    "    print(f'[INFO]total number of sentences = {total_num_sentence}')\n",
    "    unique_words = set()\n",
    "    for key in subjects:\n",
    "        for i in range(total_num_sentence):\n",
    "            if Task_Dataset[key][i] is not None:\n",
    "                sentence_object = Task_Dataset[key][i]\n",
    "                for word in sentence_object['word']:\n",
    "                    unique_words.add(word['content'])\n",
    "    print(f'[INFO]total number of unique words = {len(unique_words)}')"
   ],
   "metadata": {
    "collapsed": false,
    "ExecuteTime": {
     "start_time": "2024-03-05T11:26:04.007723Z",
     "end_time": "2024-03-05T11:26:07.410723Z"
    }
   }
  },
  {
   "cell_type": "code",
   "execution_count": 25,
   "outputs": [
    {
     "name": "stdout",
     "output_type": "stream",
     "text": [
      "[INFO]using subjects:  ['ZAB', 'ZDM', 'ZDN', 'ZGW', 'ZJM', 'ZJN', 'ZJS', 'ZKB', 'ZKH', 'ZMG', 'ZPH']\n",
      "train size = 320\n",
      "dev size = 360\n",
      "[INFO]initializing a train set...\n",
      "key = ZAB\n",
      "key = ZDM\n",
      "key = ZDN\n",
      "key = ZGW\n",
      "key = ZJM\n",
      "key = ZJN\n",
      "key = ZJS\n",
      "key = ZKB\n",
      "key = ZKH\n",
      "key = ZMG\n",
      "key = ZPH\n",
      "[INFO]using subjects:  ['ZAB', 'ZDM', 'ZDN', 'ZGW', 'ZJM', 'ZJN', 'ZJS', 'ZKB', 'ZKH', 'ZKW', 'ZMG', 'ZPH']\n",
      "train size = 240\n",
      "dev size = 270\n",
      "[INFO]initializing a train set...\n",
      "key = ZAB\n",
      "key = ZDM\n",
      "key = ZDN\n",
      "key = ZGW\n",
      "key = ZJM\n",
      "key = ZJN\n",
      "key = ZJS\n",
      "key = ZKB\n",
      "key = ZKH\n",
      "key = ZKW\n",
      "key = ZMG\n",
      "key = ZPH\n",
      "[INFO]using subjects:  ['YAC', 'YAG', 'YAK', 'YDG', 'YDR', 'YFR', 'YFS', 'YHS', 'YIS', 'YLS', 'YMD', 'YMS', 'YRH', 'YRK', 'YRP', 'YSD', 'YSL', 'YTL']\n",
      "train size = 279\n",
      "dev size = 313\n",
      "[INFO]initializing a train set...\n",
      "key = YAC\n",
      "expect word eeg embedding dim to be 840, but got 0, return None\n",
      "expect word eeg embedding dim to be 840, but got 0, return None\n",
      "expect word eeg embedding dim to be 840, but got 0, return None\n",
      "expect word eeg embedding dim to be 840, but got 0, return None\n",
      "expect word eeg embedding dim to be 840, but got 0, return None\n",
      "expect word eeg embedding dim to be 840, but got 0, return None\n",
      "expect word eeg embedding dim to be 840, but got 0, return None\n",
      "expect word eeg embedding dim to be 840, but got 0, return None\n",
      "expect word eeg embedding dim to be 840, but got 0, return None\n",
      "expect word eeg embedding dim to be 840, but got 0, return None\n",
      "expect word eeg embedding dim to be 840, but got 0, return None\n",
      "key = YAG\n",
      "expect word eeg embedding dim to be 840, but got 0, return None\n",
      "expect word eeg embedding dim to be 840, but got 0, return None\n",
      "expect word eeg embedding dim to be 840, but got 0, return None\n",
      "expect word eeg embedding dim to be 840, but got 0, return None\n",
      "expect word eeg embedding dim to be 840, but got 0, return None\n",
      "expect word eeg embedding dim to be 840, but got 0, return None\n",
      "expect word eeg embedding dim to be 840, but got 0, return None\n",
      "expect word eeg embedding dim to be 840, but got 0, return None\n",
      "expect word eeg embedding dim to be 840, but got 0, return None\n",
      "expect word eeg embedding dim to be 840, but got 0, return None\n",
      "expect word eeg embedding dim to be 840, but got 0, return None\n",
      "key = YAK\n",
      "expect word eeg embedding dim to be 840, but got 0, return None\n",
      "expect word eeg embedding dim to be 840, but got 0, return None\n",
      "key = YDG\n",
      "expect word eeg embedding dim to be 840, but got 0, return None\n",
      "expect word eeg embedding dim to be 840, but got 0, return None\n",
      "expect word eeg embedding dim to be 840, but got 0, return None\n",
      "expect word eeg embedding dim to be 840, but got 0, return None\n",
      "expect word eeg embedding dim to be 840, but got 0, return None\n",
      "expect word eeg embedding dim to be 840, but got 0, return None\n",
      "expect word eeg embedding dim to be 840, but got 0, return None\n",
      "expect word eeg embedding dim to be 840, but got 0, return None\n",
      "expect word eeg embedding dim to be 840, but got 0, return None\n",
      "expect word eeg embedding dim to be 840, but got 0, return None\n",
      "expect word eeg embedding dim to be 840, but got 0, return None\n",
      "key = YDR\n",
      "expect word eeg embedding dim to be 840, but got 0, return None\n",
      "expect word eeg embedding dim to be 840, but got 0, return None\n",
      "expect word eeg embedding dim to be 840, but got 0, return None\n",
      "expect word eeg embedding dim to be 840, but got 0, return None\n",
      "expect word eeg embedding dim to be 840, but got 0, return None\n",
      "expect word eeg embedding dim to be 840, but got 0, return None\n",
      "expect word eeg embedding dim to be 840, but got 0, return None\n",
      "expect word eeg embedding dim to be 840, but got 0, return None\n",
      "expect word eeg embedding dim to be 840, but got 0, return None\n",
      "expect word eeg embedding dim to be 840, but got 0, return None\n",
      "expect word eeg embedding dim to be 840, but got 0, return None\n",
      "key = YFR\n",
      "expect word eeg embedding dim to be 840, but got 0, return None\n",
      "expect word eeg embedding dim to be 840, but got 0, return None\n",
      "expect word eeg embedding dim to be 840, but got 0, return None\n",
      "expect word eeg embedding dim to be 840, but got 0, return None\n",
      "expect word eeg embedding dim to be 840, but got 0, return None\n",
      "expect word eeg embedding dim to be 840, but got 0, return None\n",
      "expect word eeg embedding dim to be 840, but got 0, return None\n",
      "expect word eeg embedding dim to be 840, but got 0, return None\n",
      "key = YFS\n",
      "expect word eeg embedding dim to be 840, but got 0, return None\n",
      "expect word eeg embedding dim to be 840, but got 0, return None\n",
      "expect word eeg embedding dim to be 840, but got 0, return None\n",
      "expect word eeg embedding dim to be 840, but got 0, return None\n",
      "expect word eeg embedding dim to be 840, but got 0, return None\n",
      "expect word eeg embedding dim to be 840, but got 0, return None\n",
      "expect word eeg embedding dim to be 840, but got 0, return None\n",
      "expect word eeg embedding dim to be 840, but got 0, return None\n",
      "expect word eeg embedding dim to be 840, but got 0, return None\n",
      "key = YHS\n",
      "expect word eeg embedding dim to be 840, but got 0, return None\n",
      "expect word eeg embedding dim to be 840, but got 0, return None\n",
      "expect word eeg embedding dim to be 840, but got 0, return None\n",
      "expect word eeg embedding dim to be 840, but got 0, return None\n",
      "expect word eeg embedding dim to be 840, but got 0, return None\n",
      "expect word eeg embedding dim to be 840, but got 0, return None\n",
      "expect word eeg embedding dim to be 840, but got 0, return None\n",
      "expect word eeg embedding dim to be 840, but got 0, return None\n",
      "expect word eeg embedding dim to be 840, but got 0, return None\n",
      "expect word eeg embedding dim to be 840, but got 0, return None\n",
      "key = YIS\n",
      "expect word eeg embedding dim to be 840, but got 0, return None\n",
      "expect word eeg embedding dim to be 840, but got 0, return None\n",
      "expect word eeg embedding dim to be 840, but got 0, return None\n",
      "expect word eeg embedding dim to be 840, but got 0, return None\n",
      "expect word eeg embedding dim to be 840, but got 0, return None\n",
      "expect word eeg embedding dim to be 840, but got 0, return None\n",
      "expect word eeg embedding dim to be 840, but got 0, return None\n",
      "expect word eeg embedding dim to be 840, but got 0, return None\n",
      "expect word eeg embedding dim to be 840, but got 0, return None\n",
      "expect word eeg embedding dim to be 840, but got 0, return None\n",
      "expect word eeg embedding dim to be 840, but got 0, return None\n",
      "key = YLS\n",
      "expect word eeg embedding dim to be 840, but got 0, return None\n",
      "expect word eeg embedding dim to be 840, but got 0, return None\n",
      "expect word eeg embedding dim to be 840, but got 0, return None\n",
      "expect word eeg embedding dim to be 840, but got 0, return None\n",
      "expect word eeg embedding dim to be 840, but got 0, return None\n",
      "expect word eeg embedding dim to be 840, but got 0, return None\n",
      "expect word eeg embedding dim to be 840, but got 0, return None\n",
      "expect word eeg embedding dim to be 840, but got 0, return None\n",
      "expect word eeg embedding dim to be 840, but got 0, return None\n",
      "key = YMD\n",
      "expect word eeg embedding dim to be 840, but got 0, return None\n",
      "expect word eeg embedding dim to be 840, but got 0, return None\n",
      "expect word eeg embedding dim to be 840, but got 0, return None\n",
      "expect word eeg embedding dim to be 840, but got 0, return None\n",
      "expect word eeg embedding dim to be 840, but got 0, return None\n",
      "expect word eeg embedding dim to be 840, but got 0, return None\n",
      "expect word eeg embedding dim to be 840, but got 0, return None\n",
      "expect word eeg embedding dim to be 840, but got 0, return None\n",
      "expect word eeg embedding dim to be 840, but got 0, return None\n",
      "key = YMS\n",
      "expect word eeg embedding dim to be 840, but got 0, return None\n",
      "expect word eeg embedding dim to be 840, but got 0, return None\n",
      "expect word eeg embedding dim to be 840, but got 0, return None\n",
      "expect word eeg embedding dim to be 840, but got 0, return None\n",
      "expect word eeg embedding dim to be 840, but got 0, return None\n",
      "expect word eeg embedding dim to be 840, but got 0, return None\n",
      "expect word eeg embedding dim to be 840, but got 0, return None\n",
      "expect word eeg embedding dim to be 840, but got 0, return None\n",
      "expect word eeg embedding dim to be 840, but got 0, return None\n",
      "key = YRH\n",
      "expect word eeg embedding dim to be 840, but got 0, return None\n",
      "expect word eeg embedding dim to be 840, but got 0, return None\n",
      "expect word eeg embedding dim to be 840, but got 0, return None\n",
      "expect word eeg embedding dim to be 840, but got 0, return None\n",
      "expect word eeg embedding dim to be 840, but got 0, return None\n",
      "expect word eeg embedding dim to be 840, but got 0, return None\n",
      "expect word eeg embedding dim to be 840, but got 0, return None\n",
      "key = YRK\n",
      "expect word eeg embedding dim to be 840, but got 0, return None\n",
      "expect word eeg embedding dim to be 840, but got 0, return None\n",
      "expect word eeg embedding dim to be 840, but got 0, return None\n",
      "expect word eeg embedding dim to be 840, but got 0, return None\n",
      "expect word eeg embedding dim to be 840, but got 0, return None\n",
      "expect word eeg embedding dim to be 840, but got 0, return None\n",
      "expect word eeg embedding dim to be 840, but got 0, return None\n",
      "expect word eeg embedding dim to be 840, but got 0, return None\n",
      "expect word eeg embedding dim to be 840, but got 0, return None\n",
      "key = YRP\n",
      "expect word eeg embedding dim to be 840, but got 0, return None\n",
      "expect word eeg embedding dim to be 840, but got 0, return None\n",
      "expect word eeg embedding dim to be 840, but got 0, return None\n",
      "expect word eeg embedding dim to be 840, but got 0, return None\n",
      "expect word eeg embedding dim to be 840, but got 0, return None\n",
      "expect word eeg embedding dim to be 840, but got 0, return None\n",
      "expect word eeg embedding dim to be 840, but got 0, return None\n",
      "expect word eeg embedding dim to be 840, but got 0, return None\n",
      "expect word eeg embedding dim to be 840, but got 0, return None\n",
      "key = YSD\n",
      "expect word eeg embedding dim to be 840, but got 0, return None\n",
      "expect word eeg embedding dim to be 840, but got 0, return None\n",
      "expect word eeg embedding dim to be 840, but got 0, return None\n",
      "expect word eeg embedding dim to be 840, but got 0, return None\n",
      "expect word eeg embedding dim to be 840, but got 0, return None\n",
      "expect word eeg embedding dim to be 840, but got 0, return None\n",
      "expect word eeg embedding dim to be 840, but got 0, return None\n",
      "expect word eeg embedding dim to be 840, but got 0, return None\n",
      "expect word eeg embedding dim to be 840, but got 0, return None\n",
      "expect word eeg embedding dim to be 840, but got 0, return None\n",
      "expect word eeg embedding dim to be 840, but got 0, return None\n",
      "key = YSL\n",
      "expect word eeg embedding dim to be 840, but got 0, return None\n",
      "expect word eeg embedding dim to be 840, but got 0, return None\n",
      "expect word eeg embedding dim to be 840, but got 0, return None\n",
      "expect word eeg embedding dim to be 840, but got 0, return None\n",
      "expect word eeg embedding dim to be 840, but got 0, return None\n",
      "expect word eeg embedding dim to be 840, but got 0, return None\n",
      "expect word eeg embedding dim to be 840, but got 0, return None\n",
      "expect word eeg embedding dim to be 840, but got 0, return None\n",
      "expect word eeg embedding dim to be 840, but got 0, return None\n",
      "key = YTL\n",
      "expect word eeg embedding dim to be 840, but got 0, return None\n",
      "expect word eeg embedding dim to be 840, but got 0, return None\n",
      "expect word eeg embedding dim to be 840, but got 0, return None\n",
      "expect word eeg embedding dim to be 840, but got 0, return None\n",
      "expect word eeg embedding dim to be 840, but got 0, return None\n",
      "expect word eeg embedding dim to be 840, but got 0, return None\n",
      "expect word eeg embedding dim to be 840, but got 0, return None\n",
      "expect word eeg embedding dim to be 840, but got 0, return None\n",
      "expect word eeg embedding dim to be 840, but got 0, return None\n"
     ]
    }
   ],
   "source": [
    "import torch\n",
    "EEG_word_level_embeddings = []\n",
    "EEG_word_level_labels = []\n",
    "#Main loop, looping through each task\n",
    "for Task_Dataset in Task_Dataset_List:\n",
    "    subjects = list(Task_Dataset.keys())\n",
    "    print('[INFO]using subjects: ', subjects)\n",
    "\n",
    "    total_num_sentence = len(Task_Dataset[subjects[0]])\n",
    "\n",
    "    train_divider = int(0.8*total_num_sentence)\n",
    "    dev_divider = train_divider + int(0.1*total_num_sentence)\n",
    "\n",
    "    print(f'train size = {train_divider}')\n",
    "    print(f'dev size = {dev_divider}')\n",
    "\n",
    "\n",
    "    print('[INFO]initializing a train set...')\n",
    "\n",
    "\n",
    "    for key in subjects:\n",
    "        print(f'key = {key}')\n",
    "        for i in range(train_divider):\n",
    "            if Task_Dataset[key][i] is not None:\n",
    "                sentence_object = Task_Dataset[key][i]\n",
    "\n",
    "\n",
    "                Sentence_EEG_word_level_embeddings = []\n",
    "                Sentence_word_level_labels = []\n",
    "\n",
    "                Sentence_word_level_labels.append(\"SOS\")\n",
    "                for word in sentence_object['word']:\n",
    "\n",
    "                    word_eeg_embedding, EEG_word_level_label = get_eeg_word_embedding(word)\n",
    "\n",
    "                    if word_eeg_embedding is not None and torch.isnan(torch.from_numpy(word_eeg_embedding)).any() == False:\n",
    "                        Sentence_EEG_word_level_embeddings.append(word_eeg_embedding)\n",
    "                        Sentence_word_level_labels.append(EEG_word_level_label)\n",
    "                    else:\n",
    "                        Sentence_EEG_word_level_embeddings = []\n",
    "                        Sentence_word_level_labels = []\n",
    "                        break\n",
    "\n",
    "                for word_label in Sentence_word_level_labels:\n",
    "                    EEG_word_level_labels.append(word_label)\n",
    "                for word_embedding in Sentence_EEG_word_level_embeddings:\n",
    "                    EEG_word_level_embeddings.append(word_embedding)\n",
    "\n",
    "\n",
    "\n",
    "\n",
    "\n"
   ],
   "metadata": {
    "collapsed": false,
    "ExecuteTime": {
     "start_time": "2024-03-05T11:45:26.496528Z",
     "end_time": "2024-03-05T11:45:31.453014Z"
    }
   }
  },
  {
   "cell_type": "code",
   "execution_count": 26,
   "outputs": [
    {
     "data": {
      "text/plain": "140100"
     },
     "execution_count": 26,
     "metadata": {},
     "output_type": "execute_result"
    }
   ],
   "source": [
    "len(EEG_word_level_embeddings)"
   ],
   "metadata": {
    "collapsed": false,
    "ExecuteTime": {
     "start_time": "2024-03-05T11:47:10.492445Z",
     "end_time": "2024-03-05T11:47:10.532676Z"
    }
   }
  },
  {
   "cell_type": "code",
   "execution_count": 27,
   "outputs": [
    {
     "name": "stdout",
     "output_type": "stream",
     "text": [
      "5837\n"
     ]
    }
   ],
   "source": [
    "len(EEG_word_level_labels)\n",
    "#count unique items in list\n",
    "unique, counts = np.unique(EEG_word_level_labels, return_counts=True)\n",
    "print(len(unique))\n"
   ],
   "metadata": {
    "collapsed": false,
    "ExecuteTime": {
     "start_time": "2024-03-05T11:47:12.459977Z",
     "end_time": "2024-03-05T11:47:12.567005Z"
    }
   }
  },
  {
   "cell_type": "code",
   "execution_count": null,
   "outputs": [],
   "source": [
    "'''\n",
    "train_data = []\n",
    "for i in range(len(EEG_word_level_embeddings)):\n",
    "   train_data.append([EEG_word_level_embeddings[i], EEG_word_level_labels[i]])\n",
    "'''"
   ],
   "metadata": {
    "collapsed": false,
    "ExecuteTime": {
     "start_time": "2023-11-30T14:54:37.339894Z",
     "end_time": "2023-11-30T14:54:37.406224Z"
    }
   }
  },
  {
   "cell_type": "code",
   "execution_count": null,
   "outputs": [],
   "source": [],
   "metadata": {
    "collapsed": false,
    "ExecuteTime": {
     "start_time": "2023-11-30T15:25:54.041827Z",
     "end_time": "2023-11-30T15:25:54.057741Z"
    }
   }
  },
  {
   "cell_type": "code",
   "execution_count": 28,
   "outputs": [],
   "source": [
    "\n",
    "# Save the lists to a file using pickle\n",
    "with open('EEG_Text_Pairs_Sentence.pkl', 'wb') as file:\n",
    "    pickle.dump(EEG_word_level_embeddings, file)\n",
    "    pickle.dump(EEG_word_level_labels, file)\n",
    "\n",
    "# To load the lists from the file:\n",
    "with open('EEG_Text_Pairs_Sentence.pkl', 'rb') as file:\n",
    "    EEG_word_level_embeddings = pickle.load(file)\n",
    "    EEG_word_level_labels = pickle.load(file)\n"
   ],
   "metadata": {
    "collapsed": false,
    "ExecuteTime": {
     "start_time": "2024-03-05T11:47:18.564479Z",
     "end_time": "2024-03-05T11:47:28.729314Z"
    }
   }
  },
  {
   "cell_type": "code",
   "execution_count": null,
   "outputs": [],
   "source": [],
   "metadata": {
    "collapsed": false,
    "ExecuteTime": {
     "start_time": "2023-11-30T14:54:37.390202Z",
     "end_time": "2023-11-30T14:54:37.422809Z"
    }
   }
  },
  {
   "cell_type": "code",
   "execution_count": null,
   "outputs": [],
   "source": [
    "#sant"
   ],
   "metadata": {
    "collapsed": false,
    "ExecuteTime": {
     "start_time": "2023-11-30T14:54:37.406730Z",
     "end_time": "2023-11-30T14:54:37.439372Z"
    }
   }
  },
  {
   "cell_type": "code",
   "execution_count": null,
   "outputs": [],
   "source": [],
   "metadata": {
    "collapsed": false,
    "ExecuteTime": {
     "start_time": "2023-11-30T14:54:37.422809Z",
     "end_time": "2023-11-30T14:54:37.471930Z"
    }
   }
  }
 ],
 "metadata": {
  "kernelspec": {
   "display_name": "Python 3",
   "language": "python",
   "name": "python3"
  },
  "language_info": {
   "codemirror_mode": {
    "name": "ipython",
    "version": 2
   },
   "file_extension": ".py",
   "mimetype": "text/x-python",
   "name": "python",
   "nbconvert_exporter": "python",
   "pygments_lexer": "ipython2",
   "version": "2.7.6"
  }
 },
 "nbformat": 4,
 "nbformat_minor": 0
}
