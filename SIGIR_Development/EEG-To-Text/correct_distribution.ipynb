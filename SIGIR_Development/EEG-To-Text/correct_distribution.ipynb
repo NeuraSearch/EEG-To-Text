{
 "cells": [
  {
   "cell_type": "code",
   "execution_count": 189,
   "metadata": {
    "collapsed": true,
    "ExecuteTime": {
     "start_time": "2023-12-13T12:51:03.012204Z",
     "end_time": "2023-12-13T12:51:03.041242Z"
    }
   },
   "outputs": [
    {
     "name": "stderr",
     "output_type": "stream",
     "text": [
      "[nltk_data] Downloading package punkt to\n",
      "[nltk_data]     C:\\Users\\gxb18167\\AppData\\Roaming\\nltk_data...\n",
      "[nltk_data]   Package punkt is already up-to-date!\n"
     ]
    }
   ],
   "source": [
    "import sys\n",
    "import pickle\n",
    "import nltk\n",
    "from nltk.stem import PorterStemmer\n",
    "import torch.nn.functional as F\n",
    "import torch\n",
    "import torch.nn as nn\n",
    "import numpy as np\n",
    "from sklearn.preprocessing import MinMaxScaler\n",
    "import torch\n",
    "nltk.download('punkt')\n",
    "from gensim.models import Word2Vec\n",
    "from nltk.tokenize import word_tokenize\n",
    "sys.path.insert(0, '..')\n",
    "from nltk.tokenize import word_tokenize\n",
    "ps = PorterStemmer()\n",
    "from collections import Counter"
   ]
  },
  {
   "cell_type": "code",
   "execution_count": 189,
   "outputs": [],
   "source": [],
   "metadata": {
    "collapsed": false,
    "ExecuteTime": {
     "start_time": "2023-12-13T12:51:03.175431Z",
     "end_time": "2023-12-13T12:51:03.187669Z"
    }
   }
  },
  {
   "cell_type": "code",
   "execution_count": 190,
   "outputs": [],
   "source": [
    "with open('EEG_Text_Pairs.pkl', 'rb') as file:\n",
    "    EEG_word_level_embeddings = pickle.load(file)\n",
    "    train_data = pickle.load(file)"
   ],
   "metadata": {
    "collapsed": false,
    "ExecuteTime": {
     "start_time": "2023-12-13T12:51:03.421017Z",
     "end_time": "2023-12-13T12:51:05.096548Z"
    }
   }
  },
  {
   "cell_type": "code",
   "execution_count": 191,
   "outputs": [],
   "source": [
    "with open('Target_Pred_Strings.pickle', 'rb') as f:\n",
    "    data = pickle.load(f)"
   ],
   "metadata": {
    "collapsed": false,
    "ExecuteTime": {
     "start_time": "2023-12-13T12:51:05.090946Z",
     "end_time": "2023-12-13T12:51:05.134538Z"
    }
   }
  },
  {
   "cell_type": "code",
   "execution_count": 192,
   "outputs": [],
   "source": [
    "target_string_list = data['Target_String']"
   ],
   "metadata": {
    "collapsed": false,
    "ExecuteTime": {
     "start_time": "2023-12-13T12:51:05.135605Z",
     "end_time": "2023-12-13T12:51:05.148287Z"
    }
   }
  },
  {
   "cell_type": "code",
   "execution_count": 193,
   "outputs": [],
   "source": [
    "predicted_string_list = data['Predicted_String']"
   ],
   "metadata": {
    "collapsed": false,
    "ExecuteTime": {
     "start_time": "2023-12-13T12:51:05.798855Z",
     "end_time": "2023-12-13T12:51:05.814304Z"
    }
   }
  },
  {
   "cell_type": "code",
   "execution_count": 193,
   "outputs": [],
   "source": [],
   "metadata": {
    "collapsed": false,
    "ExecuteTime": {
     "start_time": "2023-12-13T12:51:06.210081Z",
     "end_time": "2023-12-13T12:51:06.237482Z"
    }
   }
  },
  {
   "cell_type": "code",
   "execution_count": 233,
   "outputs": [],
   "source": [
    "def get_word_classifcation_count(target_string_list, predicted_string_list, train_data, stemming=True, strict=False):\n",
    "    Correct_Predictions = {}\n",
    "    counter_list = []\n",
    "\n",
    "    train_string = \" \".join(train_data)\n",
    "    train_string_tokenized = word_tokenize(train_string)\n",
    "\n",
    "    if stemming == True:\n",
    "        train_string_tokenized_stemmed = []\n",
    "        for w in train_string_tokenized:\n",
    "            train_string_tokenized_stemmed.append(ps.stem(w))\n",
    "    else:\n",
    "        train_string_tokenized_stemmed = []\n",
    "        for w in train_string_tokenized:\n",
    "            train_string_tokenized_stemmed.append(w)\n",
    "\n",
    "\n",
    "\n",
    "    for i in range(len(target_string_list)):\n",
    "        target_string = target_string_list[i]\n",
    "        predicted_string = predicted_string_list[i]\n",
    "\n",
    "        predicted_string = predicted_string[0:len(target_string)]\n",
    "\n",
    "        target_tokenized = word_tokenize(target_string)\n",
    "\n",
    "        #print(target_tokenized)\n",
    "        predicted_tokenized = word_tokenize(predicted_string)\n",
    "\n",
    "        if stemming == True:\n",
    "            target_tokenized_stemmed = []\n",
    "            predicted_tokenized_stemmed = []\n",
    "            for w in target_tokenized:\n",
    "                target_tokenized_stemmed.append(ps.stem(w))\n",
    "                counter_list.append(ps.stem(w))\n",
    "            for w in predicted_tokenized:\n",
    "                predicted_tokenized_stemmed.append(ps.stem(w))\n",
    "        else:\n",
    "            target_tokenized_stemmed = []\n",
    "            predicted_tokenized_stemmed = []\n",
    "            for w in target_tokenized:\n",
    "                target_tokenized_stemmed.append(w)\n",
    "                counter_list.append(w)\n",
    "            for w in predicted_tokenized:\n",
    "                predicted_tokenized_stemmed.append(w)\n",
    "\n",
    "        if strict == False:\n",
    "            for word in target_tokenized_stemmed:\n",
    "                if word in predicted_tokenized_stemmed:\n",
    "                    if word in Correct_Predictions:\n",
    "                        Correct_Predictions[word] += 1\n",
    "                    else:\n",
    "                        Correct_Predictions[word] = 1\n",
    "        else:\n",
    "            min_length = min(len(predicted_tokenized_stemmed), len(target_tokenized_stemmed))\n",
    "            for i in range(min_length):\n",
    "                if target_tokenized_stemmed[i] == predicted_tokenized_stemmed[i]:\n",
    "                    word = target_tokenized_stemmed[i]\n",
    "                    if word in Correct_Predictions:\n",
    "                        Correct_Predictions[word] += 1\n",
    "                    else:\n",
    "                        Correct_Predictions[word] = 1\n",
    "\n",
    "    target_word_counter = Counter(counter_list)\n",
    "    word_frequency = Counter(train_string_tokenized_stemmed)\n",
    "\n",
    "    common_keys = set(target_word_counter.keys()) & set(word_frequency.keys())\n",
    "    word_frequency = {k: word_frequency[k] for k in common_keys}\n",
    "\n",
    "\n",
    "    return Correct_Predictions, word_frequency\n"
   ],
   "metadata": {
    "collapsed": false,
    "ExecuteTime": {
     "start_time": "2023-12-13T13:11:50.721972Z",
     "end_time": "2023-12-13T13:11:50.738828Z"
    }
   }
  },
  {
   "cell_type": "code",
   "execution_count": 255,
   "outputs": [],
   "source": [
    "Correct_Predictions, word_frequency = get_word_classifcation_count(target_string_list, predicted_string_list, train_data, stemming=True, strict=False)"
   ],
   "metadata": {
    "collapsed": false,
    "ExecuteTime": {
     "start_time": "2023-12-13T13:18:29.061052Z",
     "end_time": "2023-12-13T13:19:02.240367Z"
    }
   }
  },
  {
   "cell_type": "code",
   "execution_count": 255,
   "outputs": [],
   "source": [],
   "metadata": {
    "collapsed": false,
    "ExecuteTime": {
     "start_time": "2023-12-13T13:19:02.241718Z",
     "end_time": "2023-12-13T13:19:02.258628Z"
    }
   }
  },
  {
   "cell_type": "code",
   "execution_count": 255,
   "outputs": [],
   "source": [],
   "metadata": {
    "collapsed": false,
    "ExecuteTime": {
     "start_time": "2023-12-13T13:19:02.261162Z",
     "end_time": "2023-12-13T13:19:02.277704Z"
    }
   }
  },
  {
   "cell_type": "code",
   "execution_count": 255,
   "outputs": [],
   "source": [],
   "metadata": {
    "collapsed": false,
    "ExecuteTime": {
     "start_time": "2023-12-13T13:19:02.277704Z",
     "end_time": "2023-12-13T13:19:02.295641Z"
    }
   }
  },
  {
   "cell_type": "code",
   "execution_count": 255,
   "outputs": [],
   "source": [],
   "metadata": {
    "collapsed": false,
    "ExecuteTime": {
     "start_time": "2023-12-13T13:19:02.295641Z",
     "end_time": "2023-12-13T13:19:02.312406Z"
    }
   }
  },
  {
   "cell_type": "code",
   "execution_count": 256,
   "outputs": [
    {
     "data": {
      "text/plain": "<Figure size 640x480 with 1 Axes>",
      "image/png": "[encoded data removed]"
     },
     "metadata": {},
     "output_type": "display_data"
    }
   ],
   "source": [
    "import matplotlib.pyplot as plt\n",
    "# Extract data for plotting\n",
    "\n",
    "# Define the frequency threshold\n",
    "frequency_threshold = 50000\n",
    "\n",
    "# Filter words based on frequency threshold\n",
    "filtered_words = [word for word, freq in word_frequency.items() if freq < frequency_threshold]\n",
    "filtered_frequencies = [word_frequency[word] for word in filtered_words]\n",
    "filtered_classifications = [Correct_Predictions.get(word, 0) for word in filtered_words]\n",
    "\n",
    "# Create a scatter plot\n",
    "plt.scatter(filtered_frequencies, filtered_classifications, color='blue', alpha=0.5)\n",
    "\n",
    "# Customize the plot\n",
    "plt.title('Word Frequency vs Correct Classification (Below {} Frequency)'.format(frequency_threshold))\n",
    "plt.xlabel('Word Frequency')\n",
    "plt.ylabel('Correct Classification')\n",
    "plt.grid(True)\n",
    "plt.show()"
   ],
   "metadata": {
    "collapsed": false,
    "ExecuteTime": {
     "start_time": "2023-12-13T13:19:02.328493Z",
     "end_time": "2023-12-13T13:19:02.469632Z"
    }
   }
  },
  {
   "cell_type": "code",
   "execution_count": 43,
   "outputs": [],
   "source": [],
   "metadata": {
    "collapsed": false,
    "ExecuteTime": {
     "start_time": "2023-12-12T15:20:02.138019Z",
     "end_time": "2023-12-12T15:20:02.154284Z"
    }
   }
  },
  {
   "cell_type": "code",
   "execution_count": null,
   "outputs": [],
   "source": [],
   "metadata": {
    "collapsed": false
   }
  }
 ],
 "metadata": {
  "kernelspec": {
   "display_name": "Python 3",
   "language": "python",
   "name": "python3"
  },
  "language_info": {
   "codemirror_mode": {
    "name": "ipython",
    "version": 2
   },
   "file_extension": ".py",
   "mimetype": "text/x-python",
   "name": "python",
   "nbconvert_exporter": "python",
   "pygments_lexer": "ipython2",
   "version": "2.7.6"
  }
 },
 "nbformat": 4,
 "nbformat_minor": 0
}
