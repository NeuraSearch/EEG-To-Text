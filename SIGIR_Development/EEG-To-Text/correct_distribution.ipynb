{
 "cells": [
  {
   "cell_type": "code",
   "execution_count": 16,
   "metadata": {
    "collapsed": true,
    "ExecuteTime": {
     "start_time": "2023-12-12T17:22:24.925788Z",
     "end_time": "2023-12-12T17:22:24.947998Z"
    }
   },
   "outputs": [
    {
     "name": "stderr",
     "output_type": "stream",
     "text": [
      "[nltk_data] Downloading package punkt to\n",
      "[nltk_data]     C:\\Users\\gxb18167\\AppData\\Roaming\\nltk_data...\n",
      "[nltk_data]   Package punkt is already up-to-date!\n"
     ]
    }
   ],
   "source": [
    "import sys\n",
    "import pickle\n",
    "import nltk\n",
    "from nltk.stem import PorterStemmer\n",
    "import torch.nn.functional as F\n",
    "import torch\n",
    "import torch.nn as nn\n",
    "import numpy as np\n",
    "from sklearn.preprocessing import MinMaxScaler\n",
    "import torch\n",
    "nltk.download('punkt')\n",
    "from gensim.models import Word2Vec\n",
    "from nltk.tokenize import word_tokenize\n",
    "sys.path.insert(0, '..')\n",
    "from nltk.tokenize import word_tokenize\n",
    "ps = PorterStemmer()\n",
    "from collections import Counter"
   ]
  },
  {
   "cell_type": "code",
   "execution_count": 78,
   "outputs": [],
   "source": [],
   "metadata": {
    "collapsed": false,
    "ExecuteTime": {
     "start_time": "2023-12-12T17:46:22.603490Z",
     "end_time": "2023-12-12T17:46:22.614377Z"
    }
   }
  },
  {
   "cell_type": "code",
   "execution_count": 78,
   "outputs": [],
   "source": [],
   "metadata": {
    "collapsed": false,
    "ExecuteTime": {
     "start_time": "2023-12-12T17:46:22.866135Z",
     "end_time": "2023-12-12T17:46:22.886054Z"
    }
   }
  },
  {
   "cell_type": "code",
   "execution_count": 79,
   "outputs": [],
   "source": [
    "with open('Target_Pred_Strings.pickle', 'rb') as f:\n",
    "    data = pickle.load(f)"
   ],
   "metadata": {
    "collapsed": false,
    "ExecuteTime": {
     "start_time": "2023-12-12T17:46:24.545701Z",
     "end_time": "2023-12-12T17:46:24.578511Z"
    }
   }
  },
  {
   "cell_type": "code",
   "execution_count": 80,
   "outputs": [],
   "source": [
    "target_string_list = data['Target_String']"
   ],
   "metadata": {
    "collapsed": false,
    "ExecuteTime": {
     "start_time": "2023-12-12T17:46:24.867893Z",
     "end_time": "2023-12-12T17:46:24.877782Z"
    }
   }
  },
  {
   "cell_type": "code",
   "execution_count": 81,
   "outputs": [],
   "source": [
    "predicted_string_list = data['Predicted_String']"
   ],
   "metadata": {
    "collapsed": false,
    "ExecuteTime": {
     "start_time": "2023-12-12T17:46:25.170001Z",
     "end_time": "2023-12-12T17:46:25.194503Z"
    }
   }
  },
  {
   "cell_type": "code",
   "execution_count": 81,
   "outputs": [],
   "source": [],
   "metadata": {
    "collapsed": false,
    "ExecuteTime": {
     "start_time": "2023-12-12T17:46:25.414919Z",
     "end_time": "2023-12-12T17:46:25.448329Z"
    }
   }
  },
  {
   "cell_type": "code",
   "execution_count": 128,
   "outputs": [],
   "source": [
    "def get_word_classifcation_count(target_string_list, predicted_string_list, stemming=True, strict=False):\n",
    "    Correct_Predictions = {}\n",
    "    counter_list = []\n",
    "\n",
    "\n",
    "    for i in range(len(target_string_list)):\n",
    "        target_string = target_string_list[i]\n",
    "        predicted_string = predicted_string_list[i]\n",
    "\n",
    "        predicted_string = predicted_string[0:len(target_string)]\n",
    "\n",
    "        target_tokenized = word_tokenize(target_string)\n",
    "\n",
    "        #print(target_tokenized)\n",
    "        predicted_tokenized = word_tokenize(predicted_string)\n",
    "\n",
    "        if stemming == True:\n",
    "            target_tokenized_stemmed = []\n",
    "            predicted_tokenized_stemmed = []\n",
    "            for w in target_tokenized:\n",
    "                target_tokenized_stemmed.append(ps.stem(w))\n",
    "                counter_list.append(ps.stem(w))\n",
    "            for w in predicted_tokenized:\n",
    "                predicted_tokenized_stemmed.append(ps.stem(w))\n",
    "        else:\n",
    "            target_tokenized_stemmed = []\n",
    "            predicted_tokenized_stemmed = []\n",
    "            for w in target_tokenized:\n",
    "                target_tokenized_stemmed.append(w)\n",
    "                counter_list.append(w)\n",
    "            for w in predicted_tokenized:\n",
    "                predicted_tokenized_stemmed.append(w)\n",
    "\n",
    "        if strict == False:\n",
    "            for word in target_tokenized_stemmed:\n",
    "                if word in predicted_tokenized_stemmed:\n",
    "                    if word in Correct_Predictions:\n",
    "                        Correct_Predictions[word] += 1\n",
    "                    else:\n",
    "                        Correct_Predictions[word] = 1\n",
    "        else:\n",
    "            min_length = min(len(predicted_tokenized_stemmed), len(target_tokenized_stemmed))\n",
    "            for i in range(min_length):\n",
    "                if target_tokenized_stemmed[i] == predicted_tokenized_stemmed[i]:\n",
    "                    word = target_tokenized_stemmed[i]\n",
    "                    if word in Correct_Predictions:\n",
    "                        Correct_Predictions[word] += 1\n",
    "                    else:\n",
    "\n",
    "                        Correct_Predictions[word] = 1\n",
    "\n",
    "\n",
    "\n",
    "    target_word_counter = Counter(counter_list)\n",
    "\n",
    "    return Correct_Predictions, target_word_counter\n"
   ],
   "metadata": {
    "collapsed": false,
    "ExecuteTime": {
     "start_time": "2023-12-12T18:19:10.522035Z",
     "end_time": "2023-12-12T18:19:10.538707Z"
    }
   }
  },
  {
   "cell_type": "code",
   "execution_count": 129,
   "outputs": [],
   "source": [
    "Correct_Predictions, word_frequency = get_word_classifcation_count(target_string_list, predicted_string_list, stemming=True, strict=True)"
   ],
   "metadata": {
    "collapsed": false,
    "ExecuteTime": {
     "start_time": "2023-12-12T18:19:11.270593Z",
     "end_time": "2023-12-12T18:19:42.089425Z"
    }
   }
  },
  {
   "cell_type": "code",
   "execution_count": 131,
   "outputs": [
    {
     "data": {
      "text/plain": "<Figure size 640x480 with 1 Axes>",
      "image/png": "[encoded data removed]"
     },
     "metadata": {},
     "output_type": "display_data"
    }
   ],
   "source": [
    "import matplotlib.pyplot as plt\n",
    "# Extract data for plotting\n",
    "\n",
    "# Define the frequency threshold\n",
    "frequency_threshold = 50000\n",
    "\n",
    "# Filter words based on frequency threshold\n",
    "filtered_words = [word for word, freq in word_frequency.items() if freq < frequency_threshold]\n",
    "filtered_frequencies = [word_frequency[word] for word in filtered_words]\n",
    "filtered_classifications = [Correct_Predictions.get(word, 0) for word in filtered_words]\n",
    "\n",
    "# Create a scatter plot\n",
    "plt.scatter(filtered_frequencies, filtered_classifications, color='blue', alpha=0.5)\n",
    "\n",
    "# Customize the plot\n",
    "plt.title('Word Frequency vs Correct Classification (Below {} Frequency)'.format(frequency_threshold))\n",
    "plt.xlabel('Word Frequency')\n",
    "plt.ylabel('Correct Classification')\n",
    "plt.grid(True)\n",
    "plt.show()"
   ],
   "metadata": {
    "collapsed": false,
    "ExecuteTime": {
     "start_time": "2023-12-12T18:20:04.177558Z",
     "end_time": "2023-12-12T18:20:04.295453Z"
    }
   }
  },
  {
   "cell_type": "code",
   "execution_count": 43,
   "outputs": [],
   "source": [],
   "metadata": {
    "collapsed": false,
    "ExecuteTime": {
     "start_time": "2023-12-12T15:20:02.138019Z",
     "end_time": "2023-12-12T15:20:02.154284Z"
    }
   }
  },
  {
   "cell_type": "code",
   "execution_count": null,
   "outputs": [],
   "source": [],
   "metadata": {
    "collapsed": false
   }
  }
 ],
 "metadata": {
  "kernelspec": {
   "display_name": "Python 3",
   "language": "python",
   "name": "python3"
  },
  "language_info": {
   "codemirror_mode": {
    "name": "ipython",
    "version": 2
   },
   "file_extension": ".py",
   "mimetype": "text/x-python",
   "name": "python",
   "nbconvert_exporter": "python",
   "pygments_lexer": "ipython2",
   "version": "2.7.6"
  }
 },
 "nbformat": 4,
 "nbformat_minor": 0
}
