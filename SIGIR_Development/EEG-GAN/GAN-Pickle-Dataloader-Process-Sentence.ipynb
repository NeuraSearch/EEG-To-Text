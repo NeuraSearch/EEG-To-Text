{
 "cells": [
  {
   "cell_type": "code",
   "execution_count": 1,
   "metadata": {
    "collapsed": true,
    "ExecuteTime": {
     "start_time": "2024-03-05T11:01:27.691102Z",
     "end_time": "2024-03-05T11:01:39.574783Z"
    }
   },
   "outputs": [
    {
     "name": "stderr",
     "output_type": "stream",
     "text": [
      "[nltk_data] Downloading package punkt to\n",
      "[nltk_data]     C:\\Users\\gxb18167\\AppData\\Roaming\\nltk_data...\n",
      "[nltk_data]   Package punkt is already up-to-date!\n"
     ]
    },
    {
     "name": "stdout",
     "output_type": "stream",
     "text": [
      "2.0.1\n",
      "GPU Available: False\n"
     ]
    }
   ],
   "source": [
    "import pickle\n",
    "import numpy as np\n",
    "from config import get_config#\n",
    "import generate_samples"
   ]
  },
  {
   "cell_type": "code",
   "execution_count": 2,
   "outputs": [],
   "source": [
    "from transformers import BertLMHeadModel, BartTokenizer\n",
    "from data import ZuCo_dataset"
   ],
   "metadata": {
    "collapsed": false,
    "ExecuteTime": {
     "start_time": "2024-03-05T11:01:39.554781Z",
     "end_time": "2024-03-05T11:01:44.263363Z"
    }
   }
  },
  {
   "cell_type": "code",
   "execution_count": 3,
   "outputs": [],
   "source": [
    "task_name = \"task1, task2, taskNRv2\""
   ],
   "metadata": {
    "collapsed": false,
    "ExecuteTime": {
     "start_time": "2024-03-05T11:01:44.260967Z",
     "end_time": "2024-03-05T11:01:44.278620Z"
    }
   }
  },
  {
   "cell_type": "code",
   "execution_count": 4,
   "outputs": [],
   "source": [
    "''' set up dataloader '''\n",
    "\n",
    "whole_dataset_dicts = []\n",
    "\n",
    "if 'task1' in task_name:\n",
    "    dataset_path_task1 = r'I:\\Science\\CIS-YASHMOSH\\niallmcguire\\ZuCo\\task1-SR\\pickle\\task1-SR-dataset.pickle'\n",
    "    with open(dataset_path_task1, 'rb') as handle:\n",
    "        whole_dataset_dicts.append(pickle.load(handle))\n",
    "\n",
    "if 'task2' in task_name:\n",
    "    dataset_path_task2 = r'I:\\Science\\CIS-YASHMOSH\\niallmcguire\\ZuCo\\task2-NR\\pickle\\task2-NR-dataset.pickle'\n",
    "    with open(dataset_path_task2, 'rb') as handle:\n",
    "        whole_dataset_dicts.append(pickle.load(handle))\n",
    "\n",
    "if 'task3' in task_name:\n",
    "    dataset_path_task3 = r'I:\\Science\\CIS-YASHMOSH\\niallmcguire\\ZuCo\\task3-TSR\\pickle\\task3-TSR-dataset.pickle'\n",
    "    with open(dataset_path_task3, 'rb') as handle:\n",
    "        whole_dataset_dicts.append(pickle.load(handle))\n",
    "\n",
    "if 'taskNRv2' in task_name:\n",
    "    dataset_path_taskNRv2 = r'I:\\Science\\CIS-YASHMOSH\\niallmcguire\\ZuCo\\task2-NR-2.0\\pickle\\task2-NR-2.0-dataset.pickle'\n",
    "    with open(dataset_path_taskNRv2, 'rb') as handle:\n",
    "        whole_dataset_dicts.append(pickle.load(handle))\n"
   ],
   "metadata": {
    "collapsed": false,
    "ExecuteTime": {
     "start_time": "2024-03-05T11:01:44.283816Z",
     "end_time": "2024-03-05T11:24:42.531974Z"
    }
   }
  },
  {
   "cell_type": "code",
   "execution_count": 5,
   "outputs": [
    {
     "name": "stdout",
     "output_type": "stream",
     "text": [
      "Loaded in 3 task datasets\n"
     ]
    }
   ],
   "source": [
    "print(\"Loaded in\", len(whole_dataset_dicts), \"task datasets\")"
   ],
   "metadata": {
    "collapsed": false,
    "ExecuteTime": {
     "start_time": "2024-03-05T11:01:24.944115Z",
     "end_time": "2024-03-05T11:24:42.531974Z"
    }
   }
  },
  {
   "cell_type": "code",
   "execution_count": 6,
   "outputs": [],
   "source": [
    "Task_Dataset_List = whole_dataset_dicts\n",
    "if not isinstance(whole_dataset_dicts,list):\n",
    "    Task_Dataset_List = [whole_dataset_dicts]"
   ],
   "metadata": {
    "collapsed": false,
    "ExecuteTime": {
     "start_time": "2024-03-05T11:01:25.470634Z",
     "end_time": "2024-03-05T11:24:42.544413Z"
    }
   }
  },
  {
   "cell_type": "code",
   "execution_count": 7,
   "outputs": [
    {
     "name": "stdout",
     "output_type": "stream",
     "text": [
      "[INFO]loading 3 task datasets\n",
      "[INFO]using subjects:  ['ZAB', 'ZDM', 'ZDN', 'ZGW', 'ZJM', 'ZJN', 'ZJS', 'ZKB', 'ZKH', 'ZMG', 'ZPH']\n",
      "train divider = 320\n",
      "dev divider = 360\n",
      "[INFO]initializing a train set...\n",
      "discard length zero instance:  Weiss and Speck never make a convincing case for the relevance of these two 20th-century footnotes.\n",
      "discard length zero instance:  Reassuring, retro uplifter.\n",
      "discard length zero instance:  Flaccid drama and exasperatingly slow journey.\n",
      "++ adding task to dataset, now we have: 3290\n",
      "[INFO]using subjects:  ['ZAB', 'ZDM', 'ZDN', 'ZGW', 'ZJM', 'ZJN', 'ZJS', 'ZKB', 'ZKH', 'ZKW', 'ZMG', 'ZPH']\n",
      "train divider = 240\n",
      "dev divider = 270\n",
      "[INFO]initializing a train set...\n",
      "discard length zero instance:  He was a member of the famous Huxley family who produced a number of brilliant scientific minds.\n",
      "discard length zero instance:  His brother Julian Huxley was a biologist also noted for his evolutionary theories.\n",
      "discard length zero instance:  Senator from Connecticut and a Wall Street executive banker with Brown Brothers Harriman.\n",
      "discard length zero instance:  The same year, he renounced his Wuerttemberg citizenship and became stateless.\n",
      "discard length zero instance:  On May 14, 1904, the couple's first son, Hans Albert Einstein, was born.\n",
      "discard length zero instance:  Miguel played the drums on Keith Moon's Two Sides of the Moon.\n",
      "discard length zero instance:  Miguel played the role of Dr. Garret Macy in NBC's drama Crossing Jordan.\n",
      "discard length zero instance:  Senator James Lloyd resigned, and Hindman was named to finish his term.\n",
      "discard length zero instance:  He served in the United States Senate from December of 1800 until November of 1801.\n",
      "discard length zero instance:  Albert's sister Maja was to later marry their son Paul, and his friend Michele Besso married their other daughter Anna.\n",
      "discard length zero instance:  The same year, he renounced his Wuerttemberg citizenship and became stateless.\n",
      "++ adding task to dataset, now we have: 5935\n",
      "[INFO]using subjects:  ['YAC', 'YAG', 'YAK', 'YDG', 'YDR', 'YFR', 'YFS', 'YHS', 'YIS', 'YLS', 'YMD', 'YMS', 'YRH', 'YRK', 'YRP', 'YSD', 'YSL', 'YTL']\n",
      "train divider = 279\n",
      "dev divider = 313\n",
      "[INFO]initializing a train set...\n",
      "expect word eeg embedding dim to be 840, but got 0, return None\n",
      "expect word eeg embedding dim to be 840, but got 0, return None\n",
      "expect word eeg embedding dim to be 840, but got 0, return None\n",
      "expect word eeg embedding dim to be 840, but got 0, return None\n",
      "expect word eeg embedding dim to be 840, but got 0, return None\n",
      "expect word eeg embedding dim to be 840, but got 0, return None\n",
      "expect word eeg embedding dim to be 840, but got 0, return None\n",
      "expect word eeg embedding dim to be 840, but got 0, return None\n",
      "expect word eeg embedding dim to be 840, but got 0, return None\n",
      "expect word eeg embedding dim to be 840, but got 0, return None\n",
      "expect word eeg embedding dim to be 840, but got 0, return None\n",
      "expect word eeg embedding dim to be 840, but got 0, return None\n",
      "expect word eeg embedding dim to be 840, but got 0, return None\n",
      "expect word eeg embedding dim to be 840, but got 0, return None\n",
      "expect word eeg embedding dim to be 840, but got 0, return None\n",
      "expect word eeg embedding dim to be 840, but got 0, return None\n",
      "expect word eeg embedding dim to be 840, but got 0, return None\n",
      "expect word eeg embedding dim to be 840, but got 0, return None\n",
      "expect word eeg embedding dim to be 840, but got 0, return None\n",
      "expect word eeg embedding dim to be 840, but got 0, return None\n",
      "expect word eeg embedding dim to be 840, but got 0, return None\n",
      "expect word eeg embedding dim to be 840, but got 0, return None\n",
      "expect word eeg embedding dim to be 840, but got 0, return None\n",
      "expect word eeg embedding dim to be 840, but got 0, return None\n",
      "expect word eeg embedding dim to be 840, but got 0, return None\n",
      "expect word eeg embedding dim to be 840, but got 0, return None\n",
      "expect word eeg embedding dim to be 840, but got 0, return None\n",
      "expect word eeg embedding dim to be 840, but got 0, return None\n",
      "expect word eeg embedding dim to be 840, but got 0, return None\n",
      "expect word eeg embedding dim to be 840, but got 0, return None\n",
      "expect word eeg embedding dim to be 840, but got 0, return None\n",
      "expect word eeg embedding dim to be 840, but got 0, return None\n",
      "expect word eeg embedding dim to be 840, but got 0, return None\n",
      "expect word eeg embedding dim to be 840, but got 0, return None\n",
      "expect word eeg embedding dim to be 840, but got 0, return None\n",
      "expect word eeg embedding dim to be 840, but got 0, return None\n",
      "expect word eeg embedding dim to be 840, but got 0, return None\n",
      "expect word eeg embedding dim to be 840, but got 0, return None\n",
      "expect word eeg embedding dim to be 840, but got 0, return None\n",
      "expect word eeg embedding dim to be 840, but got 0, return None\n",
      "expect word eeg embedding dim to be 840, but got 0, return None\n",
      "expect word eeg embedding dim to be 840, but got 0, return None\n",
      "expect word eeg embedding dim to be 840, but got 0, return None\n",
      "expect word eeg embedding dim to be 840, but got 0, return None\n",
      "expect word eeg embedding dim to be 840, but got 0, return None\n",
      "expect word eeg embedding dim to be 840, but got 0, return None\n",
      "expect word eeg embedding dim to be 840, but got 0, return None\n",
      "expect word eeg embedding dim to be 840, but got 0, return None\n",
      "expect word eeg embedding dim to be 840, but got 0, return None\n",
      "expect word eeg embedding dim to be 840, but got 0, return None\n",
      "expect word eeg embedding dim to be 840, but got 0, return None\n",
      "expect word eeg embedding dim to be 840, but got 0, return None\n",
      "expect word eeg embedding dim to be 840, but got 0, return None\n",
      "expect word eeg embedding dim to be 840, but got 0, return None\n",
      "expect word eeg embedding dim to be 840, but got 0, return None\n",
      "expect word eeg embedding dim to be 840, but got 0, return None\n",
      "expect word eeg embedding dim to be 840, but got 0, return None\n",
      "expect word eeg embedding dim to be 840, but got 0, return None\n",
      "expect word eeg embedding dim to be 840, but got 0, return None\n",
      "expect word eeg embedding dim to be 840, but got 0, return None\n",
      "expect word eeg embedding dim to be 840, but got 0, return None\n",
      "expect word eeg embedding dim to be 840, but got 0, return None\n",
      "expect word eeg embedding dim to be 840, but got 0, return None\n",
      "expect word eeg embedding dim to be 840, but got 0, return None\n",
      "expect word eeg embedding dim to be 840, but got 0, return None\n",
      "expect word eeg embedding dim to be 840, but got 0, return None\n",
      "expect word eeg embedding dim to be 840, but got 0, return None\n",
      "expect word eeg embedding dim to be 840, but got 0, return None\n",
      "expect word eeg embedding dim to be 840, but got 0, return None\n",
      "expect word eeg embedding dim to be 840, but got 0, return None\n",
      "expect word eeg embedding dim to be 840, but got 0, return None\n",
      "expect word eeg embedding dim to be 840, but got 0, return None\n",
      "expect word eeg embedding dim to be 840, but got 0, return None\n",
      "expect word eeg embedding dim to be 840, but got 0, return None\n",
      "expect word eeg embedding dim to be 840, but got 0, return None\n",
      "expect word eeg embedding dim to be 840, but got 0, return None\n",
      "expect word eeg embedding dim to be 840, but got 0, return None\n",
      "expect word eeg embedding dim to be 840, but got 0, return None\n",
      "expect word eeg embedding dim to be 840, but got 0, return None\n",
      "expect word eeg embedding dim to be 840, but got 0, return None\n",
      "expect word eeg embedding dim to be 840, but got 0, return None\n",
      "expect word eeg embedding dim to be 840, but got 0, return None\n",
      "expect word eeg embedding dim to be 840, but got 0, return None\n",
      "expect word eeg embedding dim to be 840, but got 0, return None\n",
      "expect word eeg embedding dim to be 840, but got 0, return None\n",
      "expect word eeg embedding dim to be 840, but got 0, return None\n",
      "expect word eeg embedding dim to be 840, but got 0, return None\n",
      "expect word eeg embedding dim to be 840, but got 0, return None\n",
      "expect word eeg embedding dim to be 840, but got 0, return None\n",
      "expect word eeg embedding dim to be 840, but got 0, return None\n",
      "expect word eeg embedding dim to be 840, but got 0, return None\n",
      "expect word eeg embedding dim to be 840, but got 0, return None\n",
      "expect word eeg embedding dim to be 840, but got 0, return None\n",
      "expect word eeg embedding dim to be 840, but got 0, return None\n",
      "expect word eeg embedding dim to be 840, but got 0, return None\n",
      "expect word eeg embedding dim to be 840, but got 0, return None\n",
      "expect word eeg embedding dim to be 840, but got 0, return None\n",
      "expect word eeg embedding dim to be 840, but got 0, return None\n",
      "expect word eeg embedding dim to be 840, but got 0, return None\n",
      "expect word eeg embedding dim to be 840, but got 0, return None\n",
      "expect word eeg embedding dim to be 840, but got 0, return None\n",
      "expect word eeg embedding dim to be 840, but got 0, return None\n",
      "expect word eeg embedding dim to be 840, but got 0, return None\n",
      "expect word eeg embedding dim to be 840, but got 0, return None\n",
      "expect word eeg embedding dim to be 840, but got 0, return None\n",
      "expect word eeg embedding dim to be 840, but got 0, return None\n",
      "expect word eeg embedding dim to be 840, but got 0, return None\n",
      "expect word eeg embedding dim to be 840, but got 0, return None\n",
      "expect word eeg embedding dim to be 840, but got 0, return None\n",
      "expect word eeg embedding dim to be 840, but got 0, return None\n",
      "expect word eeg embedding dim to be 840, but got 0, return None\n",
      "expect word eeg embedding dim to be 840, but got 0, return None\n",
      "expect word eeg embedding dim to be 840, but got 0, return None\n",
      "expect word eeg embedding dim to be 840, but got 0, return None\n",
      "expect word eeg embedding dim to be 840, but got 0, return None\n",
      "expect word eeg embedding dim to be 840, but got 0, return None\n",
      "expect word eeg embedding dim to be 840, but got 0, return None\n",
      "expect word eeg embedding dim to be 840, but got 0, return None\n",
      "expect word eeg embedding dim to be 840, but got 0, return None\n",
      "expect word eeg embedding dim to be 840, but got 0, return None\n",
      "expect word eeg embedding dim to be 840, but got 0, return None\n",
      "expect word eeg embedding dim to be 840, but got 0, return None\n",
      "expect word eeg embedding dim to be 840, but got 0, return None\n",
      "expect word eeg embedding dim to be 840, but got 0, return None\n",
      "expect word eeg embedding dim to be 840, but got 0, return None\n",
      "expect word eeg embedding dim to be 840, but got 0, return None\n",
      "expect word eeg embedding dim to be 840, but got 0, return None\n",
      "expect word eeg embedding dim to be 840, but got 0, return None\n",
      "expect word eeg embedding dim to be 840, but got 0, return None\n",
      "expect word eeg embedding dim to be 840, but got 0, return None\n",
      "expect word eeg embedding dim to be 840, but got 0, return None\n",
      "expect word eeg embedding dim to be 840, but got 0, return None\n",
      "expect word eeg embedding dim to be 840, but got 0, return None\n",
      "expect word eeg embedding dim to be 840, but got 0, return None\n",
      "expect word eeg embedding dim to be 840, but got 0, return None\n",
      "expect word eeg embedding dim to be 840, but got 0, return None\n",
      "expect word eeg embedding dim to be 840, but got 0, return None\n",
      "expect word eeg embedding dim to be 840, but got 0, return None\n",
      "expect word eeg embedding dim to be 840, but got 0, return None\n",
      "expect word eeg embedding dim to be 840, but got 0, return None\n",
      "expect word eeg embedding dim to be 840, but got 0, return None\n",
      "expect word eeg embedding dim to be 840, but got 0, return None\n",
      "expect word eeg embedding dim to be 840, but got 0, return None\n",
      "expect word eeg embedding dim to be 840, but got 0, return None\n",
      "expect word eeg embedding dim to be 840, but got 0, return None\n",
      "expect word eeg embedding dim to be 840, but got 0, return None\n",
      "expect word eeg embedding dim to be 840, but got 0, return None\n",
      "expect word eeg embedding dim to be 840, but got 0, return None\n",
      "expect word eeg embedding dim to be 840, but got 0, return None\n",
      "expect word eeg embedding dim to be 840, but got 0, return None\n",
      "expect word eeg embedding dim to be 840, but got 0, return None\n",
      "expect word eeg embedding dim to be 840, but got 0, return None\n",
      "expect word eeg embedding dim to be 840, but got 0, return None\n",
      "expect word eeg embedding dim to be 840, but got 0, return None\n",
      "expect word eeg embedding dim to be 840, but got 0, return None\n",
      "expect word eeg embedding dim to be 840, but got 0, return None\n",
      "expect word eeg embedding dim to be 840, but got 0, return None\n",
      "expect word eeg embedding dim to be 840, but got 0, return None\n",
      "expect word eeg embedding dim to be 840, but got 0, return None\n",
      "expect word eeg embedding dim to be 840, but got 0, return None\n",
      "expect word eeg embedding dim to be 840, but got 0, return None\n",
      "expect word eeg embedding dim to be 840, but got 0, return None\n",
      "expect word eeg embedding dim to be 840, but got 0, return None\n",
      "++ adding task to dataset, now we have: 10391\n",
      "[INFO]input tensor size: torch.Size([56, 840])\n",
      "\n"
     ]
    }
   ],
   "source": [
    "tokenizer = BartTokenizer.from_pretrained('facebook/bart-large')\n",
    "train_set = ZuCo_dataset(whole_dataset_dicts, 'train', tokenizer, subject = 'ALL', eeg_type = 'GD', bands = ['_t1','_t2','_a1','_a2','_b1','_b2','_g1','_g2'], setting = 'unique_sent', is_add_CLS_token = False)"
   ],
   "metadata": {
    "collapsed": false,
    "ExecuteTime": {
     "start_time": "2024-03-05T11:24:42.551268Z",
     "end_time": "2024-03-05T11:26:03.709776Z"
    }
   }
  },
  {
   "cell_type": "code",
   "execution_count": 8,
   "outputs": [
    {
     "data": {
      "text/plain": "10391"
     },
     "execution_count": 8,
     "metadata": {},
     "output_type": "execute_result"
    }
   ],
   "source": [
    "len(train_set)"
   ],
   "metadata": {
    "collapsed": false,
    "ExecuteTime": {
     "start_time": "2024-03-05T11:26:03.789938Z",
     "end_time": "2024-03-05T11:26:04.090922Z"
    }
   }
  },
  {
   "cell_type": "code",
   "execution_count": 9,
   "outputs": [],
   "source": [],
   "metadata": {
    "collapsed": false,
    "ExecuteTime": {
     "start_time": "2024-03-05T10:43:28.377521Z",
     "end_time": "2024-03-05T10:43:28.393807Z"
    }
   }
  },
  {
   "cell_type": "code",
   "execution_count": 9,
   "outputs": [],
   "source": [],
   "metadata": {
    "collapsed": false,
    "ExecuteTime": {
     "start_time": "2024-03-05T10:43:28.393807Z",
     "end_time": "2024-03-05T10:43:28.476296Z"
    }
   }
  },
  {
   "cell_type": "code",
   "execution_count": 9,
   "outputs": [],
   "source": [],
   "metadata": {
    "collapsed": false,
    "ExecuteTime": {
     "start_time": "2024-03-05T10:43:28.427729Z",
     "end_time": "2024-03-05T10:43:28.494372Z"
    }
   }
  },
  {
   "cell_type": "code",
   "execution_count": 9,
   "outputs": [],
   "source": [],
   "metadata": {
    "collapsed": false,
    "ExecuteTime": {
     "start_time": "2024-03-05T10:43:28.444242Z",
     "end_time": "2024-03-05T10:43:28.494372Z"
    }
   }
  },
  {
   "cell_type": "code",
   "execution_count": 9,
   "outputs": [],
   "source": [],
   "metadata": {
    "collapsed": false,
    "ExecuteTime": {
     "start_time": "2024-03-05T10:43:28.460287Z",
     "end_time": "2024-03-05T10:43:28.494372Z"
    }
   }
  },
  {
   "cell_type": "code",
   "execution_count": 9,
   "outputs": [],
   "source": [],
   "metadata": {
    "collapsed": false,
    "ExecuteTime": {
     "start_time": "2024-03-05T10:43:28.483755Z",
     "end_time": "2024-03-05T10:43:28.494372Z"
    }
   }
  },
  {
   "cell_type": "code",
   "execution_count": 9,
   "outputs": [],
   "source": [],
   "metadata": {
    "collapsed": false,
    "ExecuteTime": {
     "start_time": "2024-03-05T10:43:28.494372Z",
     "end_time": "2024-03-05T10:43:28.544203Z"
    }
   }
  },
  {
   "cell_type": "code",
   "execution_count": 9,
   "outputs": [],
   "source": [],
   "metadata": {
    "collapsed": false,
    "ExecuteTime": {
     "start_time": "2024-03-05T10:43:28.511628Z",
     "end_time": "2024-03-05T10:43:28.544203Z"
    }
   }
  },
  {
   "cell_type": "code",
   "execution_count": 9,
   "outputs": [],
   "source": [],
   "metadata": {
    "collapsed": false,
    "ExecuteTime": {
     "start_time": "2024-03-05T10:43:28.527746Z",
     "end_time": "2024-03-05T10:43:28.544203Z"
    }
   }
  },
  {
   "cell_type": "code",
   "execution_count": 9,
   "outputs": [],
   "source": [
    "\n",
    "\n",
    "def get_eeg_word_embedding(word, eeg_type = 'GD', bands = ['_t1','_t2','_a1','_a2','_b1','_b2','_g1','_g2']):\n",
    "    EEG_frequency_features = []\n",
    "    EEG_word_level_label = word['content']\n",
    "    for band in bands:\n",
    "        EEG_frequency_features.append(word['word_level_EEG'][eeg_type][eeg_type+band])\n",
    "    word_eeg_embedding = np.concatenate(EEG_frequency_features)\n",
    "    if len(word_eeg_embedding) != 105*len(bands):\n",
    "        print(f'expect word eeg embedding dim to be {105*len(bands)}, but got {len(word_eeg_embedding)}, return None')\n",
    "        word_eeg_embedding = None\n",
    "    else:\n",
    "        word_eeg_embedding = word_eeg_embedding.reshape(105, 8)\n",
    "\n",
    "    return word_eeg_embedding, EEG_word_level_label\n",
    "\n",
    "\n",
    "\n"
   ],
   "metadata": {
    "collapsed": false,
    "ExecuteTime": {
     "start_time": "2024-03-05T11:26:03.942585Z",
     "end_time": "2024-03-05T11:26:04.111670Z"
    }
   }
  },
  {
   "cell_type": "code",
   "execution_count": 10,
   "outputs": [
    {
     "name": "stdout",
     "output_type": "stream",
     "text": [
      "[INFO]using subjects:  ['ZAB', 'ZDM', 'ZDN', 'ZGW', 'ZJM', 'ZJN', 'ZJS', 'ZKB', 'ZKH', 'ZMG', 'ZPH']\n",
      "[INFO]total number of sentences = 400\n",
      "[INFO]total number of unique words = 3092\n",
      "[INFO]using subjects:  ['ZAB', 'ZDM', 'ZDN', 'ZGW', 'ZJM', 'ZJN', 'ZJS', 'ZKB', 'ZKH', 'ZKW', 'ZMG', 'ZPH']\n",
      "[INFO]total number of sentences = 300\n",
      "[INFO]total number of unique words = 2714\n",
      "[INFO]using subjects:  ['YAC', 'YAG', 'YAK', 'YDG', 'YDR', 'YFR', 'YFS', 'YHS', 'YIS', 'YLS', 'YMD', 'YMS', 'YRH', 'YRK', 'YRP', 'YSD', 'YSL', 'YTL']\n",
      "[INFO]total number of sentences = 349\n",
      "[INFO]total number of unique words = 2863\n"
     ]
    }
   ],
   "source": [
    "\n",
    "#print number of unique words in each task\n",
    "for Task_Dataset in Task_Dataset_List:\n",
    "    subjects = list(Task_Dataset.keys())\n",
    "    print('[INFO]using subjects: ', subjects)\n",
    "    total_num_sentence = len(Task_Dataset[subjects[0]])\n",
    "    print(f'[INFO]total number of sentences = {total_num_sentence}')\n",
    "    unique_words = set()\n",
    "    for key in subjects:\n",
    "        for i in range(total_num_sentence):\n",
    "            if Task_Dataset[key][i] is not None:\n",
    "                sentence_object = Task_Dataset[key][i]\n",
    "                for word in sentence_object['word']:\n",
    "                    unique_words.add(word['content'])\n",
    "    print(f'[INFO]total number of unique words = {len(unique_words)}')"
   ],
   "metadata": {
    "collapsed": false,
    "ExecuteTime": {
     "start_time": "2024-03-05T11:26:04.007723Z",
     "end_time": "2024-03-05T11:26:07.410723Z"
    }
   }
  },
  {
   "cell_type": "code",
   "execution_count": 25,
   "outputs": [
    {
     "name": "stdout",
     "output_type": "stream",
     "text": [
      "[INFO]using subjects:  ['ZAB', 'ZDM', 'ZDN', 'ZGW', 'ZJM', 'ZJN', 'ZJS', 'ZKB', 'ZKH', 'ZMG', 'ZPH']\n",
      "train size = 320\n",
      "dev size = 360\n",
      "[INFO]initializing a train set...\n",
      "key = ZAB\n",
      "key = ZDM\n",
      "key = ZDN\n",
      "key = ZGW\n",
      "key = ZJM\n",
      "key = ZJN\n",
      "key = ZJS\n",
      "key = ZKB\n",
      "key = ZKH\n",
      "key = ZMG\n",
      "key = ZPH\n",
      "[INFO]using subjects:  ['ZAB', 'ZDM', 'ZDN', 'ZGW', 'ZJM', 'ZJN', 'ZJS', 'ZKB', 'ZKH', 'ZKW', 'ZMG', 'ZPH']\n",
      "train size = 240\n",
      "dev size = 270\n",
      "[INFO]initializing a train set...\n",
      "key = ZAB\n",
      "key = ZDM\n",
      "key = ZDN\n",
      "key = ZGW\n",
      "key = ZJM\n",
      "key = ZJN\n",
      "key = ZJS\n",
      "key = ZKB\n",
      "key = ZKH\n",
      "key = ZKW\n",
      "key = ZMG\n",
      "key = ZPH\n",
      "[INFO]using subjects:  ['YAC', 'YAG', 'YAK', 'YDG', 'YDR', 'YFR', 'YFS', 'YHS', 'YIS', 'YLS', 'YMD', 'YMS', 'YRH', 'YRK', 'YRP', 'YSD', 'YSL', 'YTL']\n",
      "train size = 279\n",
      "dev size = 313\n",
      "[INFO]initializing a train set...\n",
      "key = YAC\n",
      "expect word eeg embedding dim to be 840, but got 0, return None\n",
      "expect word eeg embedding dim to be 840, but got 0, return None\n",
      "expect word eeg embedding dim to be 840, but got 0, return None\n",
      "expect word eeg embedding dim to be 840, but got 0, return None\n",
      "expect word eeg embedding dim to be 840, but got 0, return None\n",
      "expect word eeg embedding dim to be 840, but got 0, return None\n",
      "expect word eeg embedding dim to be 840, but got 0, return None\n",
      "expect word eeg embedding dim to be 840, but got 0, return None\n",
      "expect word eeg embedding dim to be 840, but got 0, return None\n",
      "expect word eeg embedding dim to be 840, but got 0, return None\n",
      "expect word eeg embedding dim to be 840, but got 0, return None\n",
      "key = YAG\n",
      "expect word eeg embedding dim to be 840, but got 0, return None\n",
      "expect word eeg embedding dim to be 840, but got 0, return None\n",
      "expect word eeg embedding dim to be 840, but got 0, return None\n",
      "expect word eeg embedding dim to be 840, but got 0, return None\n",
      "expect word eeg embedding dim to be 840, but got 0, return None\n",
      "expect word eeg embedding dim to be 840, but got 0, return None\n",
      "expect word eeg embedding dim to be 840, but got 0, return None\n",
      "expect word eeg embedding dim to be 840, but got 0, return None\n",
      "expect word eeg embedding dim to be 840, but got 0, return None\n",
      "expect word eeg embedding dim to be 840, but got 0, return None\n",
      "expect word eeg embedding dim to be 840, but got 0, return None\n",
      "key = YAK\n",
      "expect word eeg embedding dim to be 840, but got 0, return None\n",
      "expect word eeg embedding dim to be 840, but got 0, return None\n",
      "key = YDG\n",
      "expect word eeg embedding dim to be 840, but got 0, return None\n",
      "expect word eeg embedding dim to be 840, but got 0, return None\n",
      "expect word eeg embedding dim to be 840, but got 0, return None\n",
      "expect word eeg embedding dim to be 840, but got 0, return None\n",
      "expect word eeg embedding dim to be 840, but got 0, return None\n",
      "expect word eeg embedding dim to be 840, but got 0, return None\n",
      "expect word eeg embedding dim to be 840, but got 0, return None\n",
      "expect word eeg embedding dim to be 840, but got 0, return None\n",
      "expect word eeg embedding dim to be 840, but got 0, return None\n",
      "expect word eeg embedding dim to be 840, but got 0, return None\n",
      "expect word eeg embedding dim to be 840, but got 0, return None\n",
      "key = YDR\n",
      "expect word eeg embedding dim to be 840, but got 0, return None\n",
      "expect word eeg embedding dim to be 840, but got 0, return None\n",
      "expect word eeg embedding dim to be 840, but got 0, return None\n",
      "expect word eeg embedding dim to be 840, but got 0, return None\n",
      "expect word eeg embedding dim to be 840, but got 0, return None\n",
      "expect word eeg embedding dim to be 840, but got 0, return None\n",
      "expect word eeg embedding dim to be 840, but got 0, return None\n",
      "expect word eeg embedding dim to be 840, but got 0, return None\n",
      "expect word eeg embedding dim to be 840, but got 0, return None\n",
      "expect word eeg embedding dim to be 840, but got 0, return None\n",
      "expect word eeg embedding dim to be 840, but got 0, return None\n",
      "key = YFR\n",
      "expect word eeg embedding dim to be 840, but got 0, return None\n",
      "expect word eeg embedding dim to be 840, but got 0, return None\n",
      "expect word eeg embedding dim to be 840, but got 0, return None\n",
      "expect word eeg embedding dim to be 840, but got 0, return None\n",
      "expect word eeg embedding dim to be 840, but got 0, return None\n",
      "expect word eeg embedding dim to be 840, but got 0, return None\n",
      "expect word eeg embedding dim to be 840, but got 0, return None\n",
      "expect word eeg embedding dim to be 840, but got 0, return None\n",
      "key = YFS\n",
      "expect word eeg embedding dim to be 840, but got 0, return None\n",
      "expect word eeg embedding dim to be 840, but got 0, return None\n",
      "expect word eeg embedding dim to be 840, but got 0, return None\n",
      "expect word eeg embedding dim to be 840, but got 0, return None\n",
      "expect word eeg embedding dim to be 840, but got 0, return None\n",
      "expect word eeg embedding dim to be 840, but got 0, return None\n",
      "expect word eeg embedding dim to be 840, but got 0, return None\n",
      "expect word eeg embedding dim to be 840, but got 0, return None\n",
      "expect word eeg embedding dim to be 840, but got 0, return None\n",
      "key = YHS\n",
      "expect word eeg embedding dim to be 840, but got 0, return None\n",
      "expect word eeg embedding dim to be 840, but got 0, return None\n",
      "expect word eeg embedding dim to be 840, but got 0, return None\n",
      "expect word eeg embedding dim to be 840, but got 0, return None\n",
      "expect word eeg embedding dim to be 840, but got 0, return None\n",
      "expect word eeg embedding dim to be 840, but got 0, return None\n",
      "expect word eeg embedding dim to be 840, but got 0, return None\n",
      "expect word eeg embedding dim to be 840, but got 0, return None\n",
      "expect word eeg embedding dim to be 840, but got 0, return None\n",
      "expect word eeg embedding dim to be 840, but got 0, return None\n",
      "key = YIS\n",
      "expect word eeg embedding dim to be 840, but got 0, return None\n",
      "expect word eeg embedding dim to be 840, but got 0, return None\n",
      "expect word eeg embedding dim to be 840, but got 0, return None\n",
      "expect word eeg embedding dim to be 840, but got 0, return None\n",
      "expect word eeg embedding dim to be 840, but got 0, return None\n",
      "expect word eeg embedding dim to be 840, but got 0, return None\n",
      "expect word eeg embedding dim to be 840, but got 0, return None\n",
      "expect word eeg embedding dim to be 840, but got 0, return None\n",
      "expect word eeg embedding dim to be 840, but got 0, return None\n",
      "expect word eeg embedding dim to be 840, but got 0, return None\n",
      "expect word eeg embedding dim to be 840, but got 0, return None\n",
      "key = YLS\n",
      "expect word eeg embedding dim to be 840, but got 0, return None\n",
      "expect word eeg embedding dim to be 840, but got 0, return None\n",
      "expect word eeg embedding dim to be 840, but got 0, return None\n",
      "expect word eeg embedding dim to be 840, but got 0, return None\n",
      "expect word eeg embedding dim to be 840, but got 0, return None\n",
      "expect word eeg embedding dim to be 840, but got 0, return None\n",
      "expect word eeg embedding dim to be 840, but got 0, return None\n",
      "expect word eeg embedding dim to be 840, but got 0, return None\n",
      "expect word eeg embedding dim to be 840, but got 0, return None\n",
      "key = YMD\n",
      "expect word eeg embedding dim to be 840, but got 0, return None\n",
      "expect word eeg embedding dim to be 840, but got 0, return None\n",
      "expect word eeg embedding dim to be 840, but got 0, return None\n",
      "expect word eeg embedding dim to be 840, but got 0, return None\n",
      "expect word eeg embedding dim to be 840, but got 0, return None\n",
      "expect word eeg embedding dim to be 840, but got 0, return None\n",
      "expect word eeg embedding dim to be 840, but got 0, return None\n",
      "expect word eeg embedding dim to be 840, but got 0, return None\n",
      "expect word eeg embedding dim to be 840, but got 0, return None\n",
      "key = YMS\n",
      "expect word eeg embedding dim to be 840, but got 0, return None\n",
      "expect word eeg embedding dim to be 840, but got 0, return None\n",
      "expect word eeg embedding dim to be 840, but got 0, return None\n",
      "expect word eeg embedding dim to be 840, but got 0, return None\n",
      "expect word eeg embedding dim to be 840, but got 0, return None\n",
      "expect word eeg embedding dim to be 840, but got 0, return None\n",
      "expect word eeg embedding dim to be 840, but got 0, return None\n",
      "expect word eeg embedding dim to be 840, but got 0, return None\n",
      "expect word eeg embedding dim to be 840, but got 0, return None\n",
      "key = YRH\n",
      "expect word eeg embedding dim to be 840, but got 0, return None\n",
      "expect word eeg embedding dim to be 840, but got 0, return None\n",
      "expect word eeg embedding dim to be 840, but got 0, return None\n",
      "expect word eeg embedding dim to be 840, but got 0, return None\n",
      "expect word eeg embedding dim to be 840, but got 0, return None\n",
      "expect word eeg embedding dim to be 840, but got 0, return None\n",
      "expect word eeg embedding dim to be 840, but got 0, return None\n",
      "key = YRK\n",
      "expect word eeg embedding dim to be 840, but got 0, return None\n",
      "expect word eeg embedding dim to be 840, but got 0, return None\n",
      "expect word eeg embedding dim to be 840, but got 0, return None\n",
      "expect word eeg embedding dim to be 840, but got 0, return None\n",
      "expect word eeg embedding dim to be 840, but got 0, return None\n",
      "expect word eeg embedding dim to be 840, but got 0, return None\n",
      "expect word eeg embedding dim to be 840, but got 0, return None\n",
      "expect word eeg embedding dim to be 840, but got 0, return None\n",
      "expect word eeg embedding dim to be 840, but got 0, return None\n",
      "key = YRP\n",
      "expect word eeg embedding dim to be 840, but got 0, return None\n",
      "expect word eeg embedding dim to be 840, but got 0, return None\n",
      "expect word eeg embedding dim to be 840, but got 0, return None\n",
      "expect word eeg embedding dim to be 840, but got 0, return None\n",
      "expect word eeg embedding dim to be 840, but got 0, return None\n",
      "expect word eeg embedding dim to be 840, but got 0, return None\n",
      "expect word eeg embedding dim to be 840, but got 0, return None\n",
      "expect word eeg embedding dim to be 840, but got 0, return None\n",
      "expect word eeg embedding dim to be 840, but got 0, return None\n",
      "key = YSD\n",
      "expect word eeg embedding dim to be 840, but got 0, return None\n",
      "expect word eeg embedding dim to be 840, but got 0, return None\n",
      "expect word eeg embedding dim to be 840, but got 0, return None\n",
      "expect word eeg embedding dim to be 840, but got 0, return None\n",
      "expect word eeg embedding dim to be 840, but got 0, return None\n",
      "expect word eeg embedding dim to be 840, but got 0, return None\n",
      "expect word eeg embedding dim to be 840, but got 0, return None\n",
      "expect word eeg embedding dim to be 840, but got 0, return None\n",
      "expect word eeg embedding dim to be 840, but got 0, return None\n",
      "expect word eeg embedding dim to be 840, but got 0, return None\n",
      "expect word eeg embedding dim to be 840, but got 0, return None\n",
      "key = YSL\n",
      "expect word eeg embedding dim to be 840, but got 0, return None\n",
      "expect word eeg embedding dim to be 840, but got 0, return None\n",
      "expect word eeg embedding dim to be 840, but got 0, return None\n",
      "expect word eeg embedding dim to be 840, but got 0, return None\n",
      "expect word eeg embedding dim to be 840, but got 0, return None\n",
      "expect word eeg embedding dim to be 840, but got 0, return None\n",
      "expect word eeg embedding dim to be 840, but got 0, return None\n",
      "expect word eeg embedding dim to be 840, but got 0, return None\n",
      "expect word eeg embedding dim to be 840, but got 0, return None\n",
      "key = YTL\n",
      "expect word eeg embedding dim to be 840, but got 0, return None\n",
      "expect word eeg embedding dim to be 840, but got 0, return None\n",
      "expect word eeg embedding dim to be 840, but got 0, return None\n",
      "expect word eeg embedding dim to be 840, but got 0, return None\n",
      "expect word eeg embedding dim to be 840, but got 0, return None\n",
      "expect word eeg embedding dim to be 840, but got 0, return None\n",
      "expect word eeg embedding dim to be 840, but got 0, return None\n",
      "expect word eeg embedding dim to be 840, but got 0, return None\n",
      "expect word eeg embedding dim to be 840, but got 0, return None\n"
     ]
    }
   ],
   "source": [
    "import torch\n",
    "EEG_word_level_embeddings = []\n",
    "EEG_word_level_labels = []\n",
    "#Main loop, looping through each task\n",
    "for Task_Dataset in Task_Dataset_List:\n",
    "    subjects = list(Task_Dataset.keys())\n",
    "    print('[INFO]using subjects: ', subjects)\n",
    "\n",
    "    total_num_sentence = len(Task_Dataset[subjects[0]])\n",
    "\n",
    "    train_divider = int(0.8*total_num_sentence)\n",
    "    dev_divider = train_divider + int(0.1*total_num_sentence)\n",
    "\n",
    "    print(f'train size = {train_divider}')\n",
    "    print(f'dev size = {dev_divider}')\n",
    "\n",
    "\n",
    "    print('[INFO]initializing a train set...')\n",
    "\n",
    "\n",
    "    for key in subjects:\n",
    "        print(f'key = {key}')\n",
    "        for i in range(train_divider):\n",
    "            if Task_Dataset[key][i] is not None:\n",
    "                sentence_object = Task_Dataset[key][i]\n",
    "\n",
    "\n",
    "                Sentence_EEG_word_level_embeddings = []\n",
    "                Sentence_word_level_labels = []\n",
    "\n",
    "                Sentence_word_level_labels.append(\"SOS\")\n",
    "                for word in sentence_object['word']:\n",
    "\n",
    "                    word_eeg_embedding, EEG_word_level_label = get_eeg_word_embedding(word)\n",
    "\n",
    "                    if word_eeg_embedding is not None and torch.isnan(torch.from_numpy(word_eeg_embedding)).any() == False:\n",
    "                        Sentence_EEG_word_level_embeddings.append(word_eeg_embedding)\n",
    "                        Sentence_word_level_labels.append(EEG_word_level_label)\n",
    "                    else:\n",
    "                        Sentence_EEG_word_level_embeddings = []\n",
    "                        Sentence_word_level_labels = []\n",
    "                        break\n",
    "\n",
    "                for word_label in Sentence_word_level_labels:\n",
    "                    EEG_word_level_labels.append(word_label)\n",
    "                for word_embedding in Sentence_EEG_word_level_embeddings:\n",
    "                    EEG_word_level_embeddings.append(word_embedding)\n",
    "\n",
    "\n",
    "\n",
    "\n",
    "\n"
   ],
   "metadata": {
    "collapsed": false,
    "ExecuteTime": {
     "start_time": "2024-03-05T11:45:26.496528Z",
     "end_time": "2024-03-05T11:45:31.453014Z"
    }
   }
  },
  {
   "cell_type": "code",
   "execution_count": 26,
   "outputs": [
    {
     "data": {
      "text/plain": "140100"
     },
     "execution_count": 26,
     "metadata": {},
     "output_type": "execute_result"
    }
   ],
   "source": [
    "len(EEG_word_level_embeddings)"
   ],
   "metadata": {
    "collapsed": false,
    "ExecuteTime": {
     "start_time": "2024-03-05T11:47:10.492445Z",
     "end_time": "2024-03-05T11:47:10.532676Z"
    }
   }
  },
  {
   "cell_type": "code",
   "execution_count": 27,
   "outputs": [
    {
     "name": "stdout",
     "output_type": "stream",
     "text": [
      "5837\n"
     ]
    }
   ],
   "source": [
    "len(EEG_word_level_labels)\n",
    "#count unique items in list\n",
    "unique, counts = np.unique(EEG_word_level_labels, return_counts=True)\n",
    "print(len(unique))\n"
   ],
   "metadata": {
    "collapsed": false,
    "ExecuteTime": {
     "start_time": "2024-03-05T11:47:12.459977Z",
     "end_time": "2024-03-05T11:47:12.567005Z"
    }
   }
  },
  {
   "cell_type": "code",
   "execution_count": null,
   "outputs": [],
   "source": [
    "'''\n",
    "train_data = []\n",
    "for i in range(len(EEG_word_level_embeddings)):\n",
    "   train_data.append([EEG_word_level_embeddings[i], EEG_word_level_labels[i]])\n",
    "'''"
   ],
   "metadata": {
    "collapsed": false,
    "ExecuteTime": {
     "start_time": "2023-11-30T14:54:37.339894Z",
     "end_time": "2023-11-30T14:54:37.406224Z"
    }
   }
  },
  {
   "cell_type": "code",
   "execution_count": null,
   "outputs": [],
   "source": [],
   "metadata": {
    "collapsed": false,
    "ExecuteTime": {
     "start_time": "2023-11-30T15:25:54.041827Z",
     "end_time": "2023-11-30T15:25:54.057741Z"
    }
   }
  },
  {
   "cell_type": "code",
   "execution_count": 28,
   "outputs": [],
   "source": [
    "\n",
    "# Save the lists to a file using pickle\n",
    "with open('EEG_Text_Pairs_Sentence.pkl', 'wb') as file:\n",
    "    pickle.dump(EEG_word_level_embeddings, file)\n",
    "    pickle.dump(EEG_word_level_labels, file)\n",
    "\n",
    "# To load the lists from the file:\n",
    "with open('EEG_Text_Pairs_Sentence.pkl', 'rb') as file:\n",
    "    EEG_word_level_embeddings = pickle.load(file)\n",
    "    EEG_word_level_labels = pickle.load(file)\n"
   ],
   "metadata": {
    "collapsed": false,
    "ExecuteTime": {
     "start_time": "2024-03-05T11:47:18.564479Z",
     "end_time": "2024-03-05T11:47:28.729314Z"
    }
   }
  },
  {
   "cell_type": "code",
   "execution_count": 29,
   "outputs": [
    {
     "data": {
      "text/plain": "['SOS',\n 'Presents',\n 'a',\n 'case',\n 'while',\n 'to',\n 'provide',\n 'a',\n 'reason',\n 'to',\n 'care',\n 'beyond',\n 'very',\n 'basic',\n 'dictums',\n 'of',\n 'human',\n 'decency.',\n 'SOS',\n 'Beautifully',\n 'crafted,',\n 'engaging',\n 'filmmaking',\n 'that',\n 'should',\n 'attract',\n 'upscale',\n 'audiences',\n 'hungry',\n 'quality',\n 'a',\n 'nostalgic,',\n 'twisty',\n 'yarn',\n 'will',\n 'keep',\n 'them',\n 'guessing.',\n 'SOS',\n 'Bread,',\n 'My',\n 'Sweet',\n 'has',\n 'so',\n 'many',\n 'flaws',\n 'would',\n 'easy',\n 'critics',\n 'to',\n 'shred',\n 'SOS',\n 'Slow,',\n 'silly',\n 'and',\n 'unintentionally',\n 'hilarious.',\n 'SOS',\n 'Ultimately',\n 'feels',\n 'emp11111ty',\n 'and',\n 'unsatisfying,',\n 'like',\n 'Communion',\n 'wafer',\n 'without',\n 'wine.',\n 'SOS',\n 'Exudes',\n 'the',\n 'Busby',\n 'Berkeley',\n 'musical',\n 'and',\n 'visceral',\n 'excitement',\n 'of',\n 'sports',\n 'extravaganza.',\n 'SOS',\n 'The',\n 'film',\n 'rehashes',\n 'several',\n 'old',\n 'themes',\n 'and',\n 'capped',\n 'with',\n 'pointless',\n 'extremes',\n \"it's\",\n 'insanely',\n 'violent',\n 'and',\n 'very',\n 'graphic.',\n 'SOS',\n 'Ryan',\n 'Gosling',\n 'is,',\n 'word,',\n 'conflicted',\n 'Daniel.',\n 'SOS',\n 'If',\n 'Deuces',\n 'had',\n 'been',\n 'tweaked',\n 'up',\n 'a',\n 'notch',\n 'have',\n 'become',\n 'a',\n 'camp',\n 'adventure,',\n 'one',\n 'those',\n 'movies',\n \"that's\",\n 'so',\n 'it',\n 'starts',\n 'become',\n 'good.',\n 'SOS',\n \"film's\",\n 'stagecrafts',\n 'are',\n 'intimate',\n 'and',\n 'therefore',\n 'bolder',\n 'the',\n 'otherwise',\n 'calculated',\n 'artifice',\n 'defines',\n 'and',\n 'overwhelms',\n 'the',\n \"film's\",\n 'production',\n 'design.',\n 'SOS',\n 'Frida',\n 'is',\n 'certainly',\n 'no',\n 'but',\n 'neither',\n 'is',\n 'Kahlo',\n 'movie',\n 'Frida',\n 'fans',\n 'been',\n 'looking',\n 'SOS',\n 'The',\n 'film',\n 'often',\n 'achieves',\n 'a',\n 'mesmerizing',\n 'poetry.',\n 'SOS',\n 'work',\n 'of',\n 'astonishing',\n 'delicacy',\n 'and',\n 'force.',\n 'SOS',\n 'The',\n \"movie's\",\n 'is',\n 'almost',\n 'entirely',\n 'witless',\n 'and',\n 'inane,',\n 'carrying',\n 'every',\n 'gag',\n 'two',\n 'or',\n 'three',\n 'times',\n 'beyond',\n 'limit',\n 'sustain',\n 'a',\n 'SOS',\n 'For',\n 'most',\n 'the',\n 'ingredients',\n 'are',\n 'there.',\n 'SOS',\n 'But',\n \"you've\",\n 'paid',\n 'matinee',\n 'price',\n 'and',\n 'a',\n 'big',\n 'of',\n 'popcorn,',\n \"there's\",\n 'guilty',\n 'fun',\n 'to',\n 'had',\n 'SOS',\n \"There's\",\n 'much',\n 'Fatale,',\n 'outside',\n 'of',\n 'its',\n 'stylish',\n 'surprises...',\n 'but',\n \"that's\",\n 'SOS',\n 'acting',\n 'the',\n 'story',\n 'lacks',\n 'all',\n 'trace',\n 'of',\n 'the',\n 'sets',\n 'look',\n 'they',\n 'borrowed',\n 'from',\n \"Gilligan's\",\n 'Island',\n 'and',\n 'CGI',\n 'Scooby',\n 'might',\n 'be',\n 'worst',\n 'special-effects',\n 'creation',\n 'the',\n 'year.',\n 'SOS',\n 'This',\n 'version',\n 'moves',\n 'beyond',\n \"original's\",\n 'for',\n 'communal',\n 'film',\n 'experiences',\n 'yesteryear',\n 'deeper',\n 'realization',\n \"cinema's\",\n 'inability',\n 'stand',\n 'in',\n 'for',\n 'lived',\n 'experience.',\n 'SOS',\n \"There's\",\n 'no',\n 'palpable',\n 'chemistry',\n 'between',\n 'Lopez',\n 'and',\n 'male',\n 'lead',\n 'Ralph',\n 'Fiennes,',\n 'plus',\n 'script',\n 'by',\n 'Working',\n 'Girl',\n 'scribe',\n 'Kevin',\n 'Wade',\n 'is',\n 'workmanlike',\n 'in',\n 'the',\n 'extreme.',\n 'SOS',\n 'A',\n 'first-class,',\n 'thoroughly',\n 'involving',\n 'movie',\n 'effectively',\n 'combines',\n 'two',\n 'surefire,',\n 'beloved',\n 'genres',\n 'the',\n 'flick',\n 'and',\n 'fight',\n 'SOS',\n 'The',\n 'film',\n 'so',\n 'bad',\n \"doesn't\",\n 'improve',\n 'experience',\n 'staring',\n 'at',\n 'a',\n 'blank',\n 'SOS',\n 'Weiss',\n 'Speck',\n 'never',\n 'make',\n 'convincing',\n 'case',\n 'relevance',\n 'these',\n 'two',\n '20th-century',\n 'footnotes.',\n 'SOS',\n 'Another',\n 'Best',\n 'of',\n 'the',\n 'selection.',\n 'SOS',\n \"It's\",\n 'all',\n 'a',\n 'rather',\n 'shapeless',\n 'good',\n 'time...',\n 'SOS',\n 'Same',\n 'song,',\n 'second',\n 'verse,',\n 'coulda',\n 'been',\n 'but',\n 'coulda',\n 'been',\n 'SOS',\n 'love',\n 'robust',\n 'middle',\n 'of',\n 'this',\n 'picture.',\n 'SOS',\n 'The',\n 'soundtrack',\n 'alone',\n 'is',\n 'worth',\n 'the',\n 'of',\n 'SOS',\n 'Mostly',\n 'Martha',\n 'could',\n 'have',\n 'used',\n 'little',\n 'trimming',\n '10',\n '15',\n 'minutes',\n 'could',\n 'and',\n 'one',\n 'notice',\n \"it's\",\n 'a',\n 'pleasurable',\n 'SOS',\n 'For',\n 'rest',\n 'us,',\n 'sitting',\n 'through',\n \"Dahmer's\",\n 'two',\n 'amounts',\n 'to',\n 'more',\n 'than',\n 'punishment.',\n 'SOS',\n 'Featuring',\n 'a',\n 'dangerously',\n 'seductive',\n 'performance',\n 'from',\n 'great',\n 'Daniel',\n 'Auteuil,',\n \"``Sade''\",\n 'covers',\n 'same',\n 'period',\n \"Kaufmann's\",\n \"``Quills''\",\n 'with',\n 'more',\n 'unsettlingly',\n 'realistic',\n 'results.',\n 'SOS',\n 'The',\n 'movie',\n 'fans',\n 'who',\n \"can't\",\n 'stop',\n 'loving',\n 'anime,',\n 'and',\n 'fanatical',\n 'excess',\n 'built',\n 'SOS',\n 'The',\n 'is',\n 'worth',\n 'a',\n 'you',\n \"don't\",\n 'demand',\n 'much',\n 'than',\n 'few',\n 'cheap',\n 'from',\n 'Halloween',\n 'entertainment.',\n 'SOS',\n 'Beautifully',\n 'observed,',\n 'miraculously',\n 'unsentimental',\n 'comedy-drama.',\n 'SOS',\n 'What',\n 'makes',\n 'I',\n 'My',\n 'Father',\n 'compelling,',\n 'besides',\n 'terrific',\n 'performances,',\n 'is',\n \"Fontaine's\",\n 'willingness',\n 'to',\n 'wander',\n 'the',\n 'areas',\n 'parent-child',\n 'relationships',\n 'without',\n 'flinching.',\n 'SOS',\n 'This',\n 'hastily',\n 'mounted',\n 'production',\n 'exists',\n 'only',\n 'to',\n 'capitalize',\n \"Hopkins'\",\n 'inclination',\n 'to',\n 'Hannibal',\n 'again,',\n 'even',\n 'though',\n 'Harris',\n 'has',\n 'immediate',\n 'inclination',\n 'provide',\n 'fourth',\n 'book.',\n 'SOS',\n \"Bullock's\",\n 'complete',\n 'lack',\n 'focus',\n 'and',\n 'quickly',\n 'derails',\n 'the',\n 'film.1',\n 'SOS',\n '...',\n 'a',\n 'plotline',\n \"that's\",\n 'as',\n 'lumpy',\n 'as',\n 'two-day',\n 'porridge...',\n 'the',\n \"filmmakers'\",\n 'paws,',\n 'to',\n 'all',\n \"``un-bear-able''\",\n 'project!',\n 'SOS',\n 'Crush',\n 'could',\n 'be',\n 'the',\n 'worst',\n 'a',\n 'made',\n 'about',\n 'since',\n 'the',\n 'SOS',\n 'Reassuring,',\n 'retro',\n 'uplifter.',\n 'SOS',\n 'Flaccid',\n 'drama',\n 'and',\n 'exasperatingly',\n 'slow',\n 'journey.',\n 'SOS',\n 'The',\n 'Movie',\n 'will',\n 'reach',\n 'far',\n 'beyond',\n 'its',\n 'core',\n 'demographic.',\n 'SOS',\n 'How',\n 'it',\n 'ever',\n 'get',\n 'SOS',\n 'the',\n 'new',\n 'footage',\n 'and',\n 'still',\n 'love',\n 'old',\n 'SOS',\n 'It',\n 'briefly',\n 'flirts',\n 'with',\n 'player',\n 'masochism,',\n 'the',\n 'point',\n 'real',\n 'audience',\n 'is',\n 'evaded',\n 'completely.',\n 'SOS',\n 'Could',\n 'The',\n 'Country',\n 'Bears',\n 'really',\n 'be',\n 'as',\n 'bad',\n 'its',\n 'trailers?',\n 'SOS',\n 'times,',\n 'the',\n 'movie',\n 'looks',\n 'genuinely',\n 'pretty.',\n 'SOS',\n 'It',\n 'depends',\n 'on',\n 'well',\n 'flatulence',\n 'gags',\n 'fit',\n 'into',\n 'your',\n 'holiday',\n 'SOS',\n 'The',\n 'stupidest,',\n 'most',\n 'insulting',\n 'movie',\n 'of',\n \"2002's\",\n 'quarter.',\n 'SOS',\n 'film',\n 'seems',\n 'dead',\n 'weight.',\n 'SOS',\n 'Sparkling,',\n 'often',\n 'hilarious',\n 'romantic',\n 'jealousy',\n 'comedy...',\n 'Attal',\n 'looks',\n 'so',\n 'like',\n 'young',\n 'Robert',\n 'DeNiro',\n 'seems',\n 'should',\n 'instead',\n 'called',\n 'Husband',\n 'Is',\n 'Travis',\n \"Bickle'.\",\n 'SOS',\n 'did',\n 'back',\n 'check',\n 'out',\n 'last',\n 'minutes,',\n 'but',\n 'these',\n 'more',\n 'repulsive',\n 'the',\n 'first',\n 'or',\n 'minutes.',\n 'SOS',\n 'lousy',\n 'movie',\n 'not',\n 'merely',\n 'unwatchable,',\n 'also',\n 'unlistenable.',\n 'SOS',\n 'One',\n 'the',\n 'films',\n 'the',\n 'with',\n 'exploration',\n 'of',\n 'obstacles',\n 'happiness',\n 'faced',\n 'five',\n 'contemporary',\n 'individuals...',\n 'psychological',\n 'masterpiece.',\n 'SOS',\n 'strong',\n 'script,',\n 'powerful',\n 'direction',\n 'splendid',\n 'production',\n 'design',\n 'allows',\n 'be',\n 'transported',\n 'into',\n 'life',\n 'Wladyslaw',\n 'Szpilman,',\n 'is',\n 'only',\n 'pianist,',\n 'good',\n 'human',\n 'being.',\n 'SOS',\n 'But',\n \"here's\",\n 'the',\n 'real',\n 'damn:',\n \"isn't\",\n 'funny,',\n 'either.',\n 'SOS',\n 'Qutting',\n 'may',\n 'a',\n 'flawed',\n 'but',\n 'nothing',\n 'if',\n 'sincere.',\n 'SOS',\n \"It's\",\n 'a',\n 'fanboy',\n '`what',\n \"if?'\",\n 'SOS',\n 'something',\n 'appears',\n 'have',\n 'been',\n 'lost',\n 'translation',\n 'this',\n 'time.',\n 'SOS',\n 'Like',\n 'a',\n 'documentary',\n 'version',\n 'Fight',\n 'Club,',\n 'shorn',\n 'of',\n 'social',\n 'insight,',\n 'intellectual',\n 'and',\n 'cinematic',\n 'interest.',\n 'SOS',\n 'Stephen',\n 'Rea,',\n 'Aidan',\n 'Quinn,',\n 'Alan',\n 'Bates',\n 'play',\n \"Desmond's\",\n 'legal',\n 'eagles,',\n 'and',\n 'when',\n 'joined',\n 'Brosnan,',\n 'sight',\n 'of',\n 'grandiloquent',\n 'quartet',\n 'lolling',\n 'pretty',\n 'Irish',\n 'settings',\n 'a',\n 'pleasant',\n 'enough',\n 'thing,',\n '`tis.',\n 'SOS',\n \"It's\",\n 'a',\n 'powerful',\n 'though',\n 'flawed',\n 'movie,',\n 'guaranteed',\n 'put',\n 'lump',\n 'in',\n 'throat',\n 'reaffirming',\n 'Washington',\n 'possibly',\n 'best',\n 'actor',\n 'working',\n 'in',\n 'movies',\n 'SOS',\n 'intriguing',\n 'entertaining',\n 'introduction',\n 'Johnson.',\n 'SOS',\n 'Everything',\n 'was',\n 'superficial',\n 'the',\n 'forced',\n 'New',\n 'Jersey',\n 'lowbrow',\n 'accent',\n 'Uma',\n 'had.',\n 'SOS',\n 'Despite',\n 'holes',\n 'the',\n 'story',\n 'and',\n 'the',\n 'somewhat',\n 'predictable',\n 'plot,',\n 'moments',\n 'the',\n 'movie',\n 'caused',\n 'to',\n 'jump',\n 'my',\n 'chair...',\n 'SOS',\n '`How',\n 'many',\n 'more',\n 'voyages',\n 'can',\n 'this',\n 'limping',\n 'but',\n 'dearly-loved',\n 'franchise',\n \"survive?'\",\n 'SOS',\n 'If',\n 'only',\n 'the',\n 'story',\n 'about',\n 'multi-million',\n 'dollar',\n 'con',\n 'bothered',\n 'to',\n 'include',\n 'the',\n 'con.',\n 'SOS',\n 'is',\n 'supremely',\n 'unfunny',\n 'unentertaining',\n 'watch',\n 'middle-age',\n 'older',\n 'men',\n 'drink',\n 'to',\n 'excess,',\n 'piss',\n 'trees,',\n 'b.s.',\n 'one',\n 'another',\n 'and',\n 'put',\n 'on',\n 'a',\n 'show',\n 'in',\n 'SOS',\n 'Only',\n 'few',\n 'minutes',\n 'elapse',\n 'before',\n 'daddy',\n 'all',\n 'slashers',\n 'arrives,',\n 'still',\n 'the',\n 'boiler',\n 'suit',\n 'white',\n 'which',\n 'look',\n 'remarkably',\n 'clean',\n 'guy',\n 'has',\n 'been',\n 'mass-murdering',\n 'since',\n '1978',\n 'has',\n 'never',\n 'seen',\n 'doing',\n 'laundry.',\n 'SOS',\n 'Showtime',\n 'one',\n 'the',\n 'hapless',\n 'victims',\n 'of',\n 'arrogant',\n '``if',\n 'we',\n 'put',\n 'together',\n 'wry',\n 'white',\n 'man',\n 'chatty',\n 'black',\n 'man',\n 'give',\n 'them',\n 'guns,',\n 'movie',\n 'will',\n \"funny''\",\n 'syndrome.',\n 'SOS',\n 'Whatever',\n 'heartwarming',\n 'scene',\n 'impressively',\n 'discreet',\n 'filmmakers',\n 'may',\n 'have',\n 'expected',\n 'record',\n 'their',\n 'mini',\n 'they',\n 'show',\n 'remarkable',\n 'ability',\n 'document',\n 'both',\n 'sides',\n 'emotional',\n 'car-wreck.',\n 'SOS',\n 'zombie',\n 'movie',\n 'every',\n 'the',\n 'mindless,',\n 'lifeless,',\n 'meandering,',\n 'loud,',\n 'painful,',\n 'obnoxious.',\n 'SOS',\n 'has',\n 'with',\n 'quirks',\n 'of',\n 'family',\n 'life,',\n 'also',\n 'the',\n 'subject',\n 'fondness',\n ...]"
     },
     "execution_count": 29,
     "metadata": {},
     "output_type": "execute_result"
    }
   ],
   "source": [
    "EEG_word_level_labels"
   ],
   "metadata": {
    "collapsed": false,
    "ExecuteTime": {
     "start_time": "2024-03-05T11:48:20.059320Z",
     "end_time": "2024-03-05T11:48:20.121999Z"
    }
   }
  },
  {
   "cell_type": "code",
   "execution_count": null,
   "outputs": [],
   "source": [
    "#sant"
   ],
   "metadata": {
    "collapsed": false,
    "ExecuteTime": {
     "start_time": "2023-11-30T14:54:37.406730Z",
     "end_time": "2023-11-30T14:54:37.439372Z"
    }
   }
  },
  {
   "cell_type": "code",
   "execution_count": null,
   "outputs": [],
   "source": [],
   "metadata": {
    "collapsed": false,
    "ExecuteTime": {
     "start_time": "2023-11-30T14:54:37.422809Z",
     "end_time": "2023-11-30T14:54:37.471930Z"
    }
   }
  }
 ],
 "metadata": {
  "kernelspec": {
   "display_name": "Python 3",
   "language": "python",
   "name": "python3"
  },
  "language_info": {
   "codemirror_mode": {
    "name": "ipython",
    "version": 2
   },
   "file_extension": ".py",
   "mimetype": "text/x-python",
   "name": "python",
   "nbconvert_exporter": "python",
   "pygments_lexer": "ipython2",
   "version": "2.7.6"
  }
 },
 "nbformat": 4,
 "nbformat_minor": 0
}
